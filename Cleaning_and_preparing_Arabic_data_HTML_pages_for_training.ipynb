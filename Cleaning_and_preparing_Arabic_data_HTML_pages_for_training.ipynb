{
  "cells": [
    {
      "cell_type": "markdown",
      "source": [
        "# Import Libraries"
      ],
      "metadata": {
        "id": "jXigE2Dskdch"
      }
    },
    {
      "cell_type": "code",
      "source": [
        "from bs4 import BeautifulSoup\n",
        "import re\n",
        "import json"
      ],
      "metadata": {
        "id": "cJO49pGsl5-s"
      },
      "execution_count": 1,
      "outputs": []
    },
    {
      "cell_type": "markdown",
      "source": [
        "# extract metadata\n",
        "# Save the metadata file as a JSON \n",
        "##dictionary containing text and its metadata as a dictionary for each element (text)"
      ],
      "metadata": {
        "id": "X4WhZ017MutQ"
      }
    },
    {
      "cell_type": "code",
      "source": [
        "def extract_metadata(html_file):\n",
        "    with open(html_file, 'r') as file:\n",
        "        soup = BeautifulSoup(file, 'html.parser')\n",
        "\n",
        "    #metadata = {}\n",
        "    metadata = {'text': {}}\n",
        "\n",
        "    # Extract metadata from the <meta> tags\n",
        "    meta_tags = soup.find_all('meta')\n",
        "    for tag in meta_tags:\n",
        "        if tag.get('name'):\n",
        "            key = tag.get('name')\n",
        "            value = tag.get('content')\n",
        "            #metadata[key] = value\n",
        "            #metadata[key] = {'text': value}\n",
        "            metadata['text'][key] = value\n",
        "\n",
        "    # Extract metadata from other elements, such as <title>\n",
        "    title_tag = soup.find('title')\n",
        "    if title_tag:\n",
        "        #metadata['title'] = title_tag.text.strip()\n",
        "        #metadata['title'] = {'text': title_tag.text.strip()}\n",
        "        metadata['text']['title'] = title_tag.text.strip()\n",
        "\n",
        "    return metadata\n"
      ],
      "metadata": {
        "id": "k708wvcvLdIN"
      },
      "execution_count": 2,
      "outputs": []
    },
    {
      "cell_type": "code",
      "source": [
        "# Usage example\n",
        "html_file = '/content/مكوك الصين.html'\n",
        "metadata = extract_metadata(html_file)\n",
        "print(metadata)"
      ],
      "metadata": {
        "colab": {
          "base_uri": "https://localhost:8080/"
        },
        "id": "MY4mYvQQL1Xm",
        "outputId": "0fdfe052-4eda-4529-bfc1-0428ec2608b7"
      },
      "execution_count": 3,
      "outputs": [
        {
          "output_type": "stream",
          "name": "stdout",
          "text": [
            "{'text': {'ResourceLoaderDynamicStyles': '', 'generator': 'MediaWiki 1.39.2', 'format-detection': 'telephone=no', 'twitter:card': 'summary', 'twitter:site': '@Marefa', 'viewport': 'width=1000', 'description': 'بعد 276 يوماً من إتمام مهمته ..مكوك صيني غامض يعود إلى الأرض. في 8 مايو 2023، أكمل مكوك صيني تجريبي غامض، غير مأهول وقابل لإعادة الاستخدام مهمته الثانية بعد بقائه في المدار لمدة 276 يوماً، وفقاً للإعل', 'title': 'أخبار:مكوك صيني يكمل ٢٧٦ يوما بالفضاء - المعرفة'}}\n"
          ]
        }
      ]
    },
    {
      "cell_type": "code",
      "source": [
        "## Write the metadata to a separate metadata file\n",
        "with open('metadata.json', 'w', encoding='utf-8') as f:\n",
        "    json.dump(metadata, f, ensure_ascii=False, indent=4)"
      ],
      "metadata": {
        "id": "J6LOxcacMQYz"
      },
      "execution_count": 4,
      "outputs": []
    },
    {
      "cell_type": "markdown",
      "source": [
        "# Clean the HTML"
      ],
      "metadata": {
        "id": "Ua4lYmFoNTBs"
      }
    },
    {
      "cell_type": "code",
      "source": [
        "## Define the list of words to delete\n",
        "#words_to_delete = [\"الصفحة الرئيسية\",\"أحدث التغييرات\",\"الصفحات الخاصّة\",\"رفع ملف\"\n",
        "#,\"تصفح\",\"المواضيع\",\"أبجدي\",\"دليل الأسلوب\",\"صفحة عشوائية\",\n",
        "#\"مشاريع شقيقة\",\"معرفة_المصادر\",\"معرفة_الأخبار\",\n",
        "#\"المشاركة والمساعدة\",\"بوابة المجتمع\",\"مساعدة\",\"الميدان\"]"
      ],
      "metadata": {
        "id": "vhuTMw-ZNYSB"
      },
      "execution_count": 5,
      "outputs": []
    },
    {
      "cell_type": "code",
      "source": [
        "# Read the HTML file\n",
        "with open('/content/مكوك الصين.html', 'r') as file:\n",
        "    html = file.read()"
      ],
      "metadata": {
        "id": "z_Kamq_LNiug"
      },
      "execution_count": 6,
      "outputs": []
    },
    {
      "cell_type": "code",
      "source": [
        "# Create BeautifulSoup object\n",
        "soup = BeautifulSoup(html, 'html.parser')"
      ],
      "metadata": {
        "id": "QLkOFfC6lHCQ"
      },
      "execution_count": 7,
      "outputs": []
    },
    {
      "cell_type": "code",
      "source": [
        "## Find and remove the sidebar elements\n",
        "#sidebar = soup.find('div', class_='sidebar')\n",
        "#sidebar = soup.find('aside', class_='sidebar')\n",
        "#sidebar = soup.find('container', class_='noprint')\n",
        "#sidebar = soup.find('side-bar', class_='noprint')\n",
        "sidebar = soup.find(id='side-bar')\n",
        "\n",
        "if sidebar:\n",
        "    sidebar.decompose()"
      ],
      "metadata": {
        "id": "vL3KdU6LlZCy"
      },
      "execution_count": 8,
      "outputs": []
    },
    {
      "cell_type": "code",
      "source": [
        "# Save the modified HTML\n",
        "with open('cleaned_html_file.html', 'w') as file:\n",
        "    file.write(str(soup))"
      ],
      "metadata": {
        "id": "_RWR78-Zlcv6"
      },
      "execution_count": 9,
      "outputs": []
    },
    {
      "cell_type": "markdown",
      "source": [
        "# Clean the Text"
      ],
      "metadata": {
        "id": "H3OmhYudli3H"
      }
    },
    {
      "cell_type": "code",
      "execution_count": 11,
      "metadata": {
        "colab": {
          "base_uri": "https://localhost:8080/"
        },
        "id": "rC7SHOlnIJJ_",
        "outputId": "26349ece-122a-4ca4-b58f-ac4beee3df6b"
      },
      "outputs": [
        {
          "output_type": "execute_result",
          "data": {
            "text/plain": [
              "<!DOCTYPE html>\n",
              "\n",
              "<!-- saved from url=(0215)https://www.marefa.org/%D8%A3%D8%AE%D8%A8%D8%A7%D8%B1:%D9%85%D9%83%D9%88%D9%83_%D8%B5%D9%8A%D9%86%D9%8A_%D9%8A%D9%83%D9%85%D9%84_%D9%A2%D9%A7%D9%A6_%D9%8A%D9%88%D9%85%D8%A7_%D8%A8%D8%A7%D9%84%D9%81%D8%B6%D8%A7%D8%A1 -->\n",
              "<html class=\"client-js ve-available\" dir=\"rtl\" lang=\"ar\"><head><meta content=\"text/html; charset=utf-8\" http-equiv=\"Content-Type\"/>\n",
              "<title>أخبار:مكوك صيني يكمل ٢٧٦ يوما بالفضاء - المعرفة</title>\n",
              "<script src=\"./أخبار_مكوك صيني يكمل ٢٧٦ يوما بالفضاء - المعرفة_files/f(9).txt\"></script><script src=\"./أخبار_مكوك صيني يكمل ٢٧٦ يوما بالفضاء - المعرفة_files/f(10).txt\"></script><script id=\"google_shimpl\" src=\"./أخبار_مكوك صيني يكمل ٢٧٦ يوما بالفضاء - المعرفة_files/f(11).txt\"></script><script async=\"\" src=\"./أخبار_مكوك صيني يكمل ٢٧٦ يوما بالفضاء - المعرفة_files/analytics.js\"></script><script>document.documentElement.className=\"client-js\";RLCONF={\"wgBreakFrames\":false,\"wgSeparatorTransformTable\":[\".\\t,\",\"٫\\t٬\"],\"wgDigitTransformTable\":[\"0\\t1\\t2\\t3\\t4\\t5\\t6\\t7\\t8\\t9\",\"٠\\t١\\t٢\\t٣\\t٤\\t٥\\t٦\\t٧\\t٨\\t٩\"],\"wgDefaultDateFormat\":\"dmy\",\"wgMonthNames\":[\"\",\"يناير\",\"فبراير\",\"مارس\",\"أبريل\",\"مايو\",\"يونيو\",\"يوليو\",\"أغسطس\",\"سبتمبر\",\"أكتوبر\",\"نوفمبر\",\"ديسمبر\"],\"wgRequestId\":\"bfb2401183d4ed630d15d121\",\"wgCSPNonce\":false,\"wgCanonicalNamespace\":\"أخبار\",\"wgCanonicalSpecialPageName\":false,\"wgNamespaceNumber\":3000,\"wgPageName\":\"أخبار:مكوك_صيني_يكمل_٢٧٦_يوما_بالفضاء\",\"wgTitle\":\"مكوك صيني يكمل ٢٧٦ يوما بالفضاء\",\"wgCurRevisionId\":2916614,\"wgRevisionId\":2916614,\"wgArticleId\":1455603,\"wgIsArticle\":true,\"wgIsRedirect\":false,\"wgAction\":\"view\",\"wgUserName\":null,\"wgUserGroups\":[\"*\"],\"wgCategories\":[\"2023 في الصين\",\"2023 في رحلات الفضاء\",\n",
              "\"أخبار 9 مايو 2023\"],\"wgPageContentLanguage\":\"ar\",\"wgPageContentModel\":\"wikitext\",\"wgRelevantPageName\":\"أخبار:مكوك_صيني_يكمل_٢٧٦_يوما_بالفضاء\",\"wgRelevantArticleId\":1455603,\"wgIsProbablyEditable\":false,\"wgRelevantPageIsProbablyEditable\":false,\"wgRestrictionEdit\":[],\"wgRestrictionMove\":[],\"wgMFDisplayWikibaseDescriptions\":{\"search\":false,\"nearby\":false,\"watchlist\":false,\"tagline\":false},\"wgVisualEditor\":{\"pageLanguageCode\":\"ar\",\"pageLanguageDir\":\"rtl\",\"pageVariantFallbacks\":\"ar\"},\"wgWMESchemaEditAttemptStepOversample\":false,\"wgWMEPageLength\":10000,\"LiveChatClientURL\":\"wss://www.marefa.org:443/marefaLivechatSocket\",\"wgMediaViewerOnClick\":true,\"wgMediaViewerEnabledByDefault\":true,\"wgPopupsFlags\":4,\"wgULSAcceptLanguageList\":[\"ar\",\"en-us\",\"en\"],\"wgULSCurrentAutonym\":\"العربية\",\"wgEditSubmitButtonLabelPublish\":false,\"wgULSPosition\":\"personal\",\"wgULSisCompactLinksEnabled\":false};RLSTATE={\"site.styles\":\"ready\",\"user.styles\":\"ready\",\"user\":\"ready\",\n",
              "\"user.options\":\"loading\",\"ext.cite.styles\":\"ready\",\"mediawiki.skinning.interface\":\"ready\",\"skins.monobook.styles\":\"ready\",\"skins.nimbus\":\"ready\",\"ext.socialprofile.responsive\":\"ready\",\"ext.marefa.icons\":\"ready\",\"ext.visualEditor.desktopArticleTarget.noscript\":\"ready\",\"ext.wikimediaBadges\":\"ready\",\"wikibase.client.init\":\"ready\",\"ext.uls.pt\":\"ready\",\"ext.socialprofile.userstats.randomfeatureduser.styles\":\"ready\"};RLPAGEMODULES=[\"ext.cite.ux-enhancements\",\"ext.marefa.ads\",\"site\",\"mediawiki.page.ready\",\"mediawiki.toc\",\"ext.marefa.common\",\"ext.visualEditor.desktopArticleTarget.init\",\"ext.visualEditor.targetLoader\",\"ext.eventLogging\",\"ext.wikimediaEvents\",\"mmv.head\",\"mmv.bootstrap.autostart\",\"ext.LiveStreaming.watcher\",\"ext.gadget.switcher\",\"ext.popups\",\"skins.nimbus.menu\"];</script>\n",
              "<script>(RLQ=window.RLQ||[]).push(function(){mw.loader.implement(\"user.options@12s5i\",function($,jQuery,require,module){mw.user.tokens.set({\"patrolToken\":\"+\\\\\",\"watchToken\":\"+\\\\\",\"csrfToken\":\"+\\\\\"});});});</script>\n",
              "<link href=\"./أخبار_مكوك صيني يكمل ٢٧٦ يوما بالفضاء - المعرفة_files/load.php\" rel=\"stylesheet\"/>\n",
              "<script async=\"\" src=\"./أخبار_مكوك صيني يكمل ٢٧٦ يوما بالفضاء - المعرفة_files/load(1).php\"></script>\n",
              "<style>\n",
              ".mw-editfont-monospace{font-family:monospace,monospace}.mw-editfont-sans-serif{font-family:sans-serif}.mw-editfont-serif{font-family:serif} .mw-editfont-monospace,.mw-editfont-sans-serif,.mw-editfont-serif{  font-size:13px;  -moz-tab-size:4; tab-size:4; }.mw-editfont-monospace.oo-ui-textInputWidget,.mw-editfont-sans-serif.oo-ui-textInputWidget,.mw-editfont-serif.oo-ui-textInputWidget{font-size:inherit}.mw-editfont-monospace.oo-ui-textInputWidget > .oo-ui-inputWidget-input,.mw-editfont-sans-serif.oo-ui-textInputWidget > .oo-ui-inputWidget-input,.mw-editfont-serif.oo-ui-textInputWidget > .oo-ui-inputWidget-input{  font-size:13px}.mw-editfont-monospace.oo-ui-textInputWidget > input.oo-ui-inputWidget-input,.mw-editfont-sans-serif.oo-ui-textInputWidget > input.oo-ui-inputWidget-input,.mw-editfont-serif.oo-ui-textInputWidget > input.oo-ui-inputWidget-input{min-height:32px}\n",
              ".mw-ui-button{background-color:#f8f9fa;color:#202122;display:inline-block;box-sizing:border-box;margin:0;border:1px solid #a2a9b1;border-radius:0;cursor:pointer;vertical-align:middle;font-family:inherit;font-size:1em;font-weight:bold;line-height:1.28571429em;text-align:center; -webkit-appearance:none}.mw-ui-button:not(.mw-ui-icon-element){min-height:32px;min-width:4em;max-width:28.75em;padding:5px 12px}.mw-ui-button:not(:disabled){transition-property:background-color,color,border-color,box-shadow;transition-duration:100ms}.mw-ui-button:not(:disabled):visited{color:#202122}.mw-ui-button:not(:disabled):hover{background-color:#ffffff;color:#404244;border-color:#a2a9b1}.mw-ui-button:not(:disabled):focus{color:#202122;border-color:#3366cc;box-shadow:inset 0 0 0 1px #3366cc,inset 0 0 0 2px #ffffff;outline-width:0}.mw-ui-button:not(:disabled):focus::-moz-focus-inner{border-color:transparent;padding:0}.mw-ui-button:not(:disabled):active,.mw-ui-button:not(:disabled).is-on{background-color:#c8ccd1;color:#000000;border-color:#72777d;box-shadow:none}.mw-ui-button:disabled{background-color:#c8ccd1;color:#ffffff;border-color:#c8ccd1;cursor:default}.mw-ui-button.mw-ui-icon-element:not(.mw-ui-icon-with-label-desktop){color:transparent !important}.mw-ui-button.mw-ui-icon-element:not(.mw-ui-icon-with-label-desktop) span{display:block;position:absolute !important; clip:rect(1px,1px,1px,1px);width:1px;height:1px;margin:-1px;border:0;padding:0;overflow:hidden}@media all and (max-width:1000px){.mw-ui-button.mw-ui-icon-element.mw-ui-icon-with-label-desktop{color:transparent !important}.mw-ui-button.mw-ui-icon-element span{display:block;position:absolute !important; clip:rect(1px,1px,1px,1px);width:1px;height:1px;margin:-1px;border:0;padding:0;overflow:hidden}}.mw-ui-button.mw-ui-quiet,.mw-ui-button.mw-ui-quiet.mw-ui-progressive,.mw-ui-button.mw-ui-quiet.mw-ui-destructive{background-color:transparent;color:#202122;border-color:transparent;font-weight:bold}.mw-ui-button.mw-ui-quiet:not(.mw-ui-icon-element),.mw-ui-button.mw-ui-quiet.mw-ui-progressive:not(.mw-ui-icon-element),.mw-ui-button.mw-ui-quiet.mw-ui-destructive:not(.mw-ui-icon-element){min-height:32px}input[type='checkbox']:hover + .mw-ui-button.mw-ui-quiet,input[type='checkbox']:hover + .mw-ui-button.mw-ui-quiet.mw-ui-progressive,input[type='checkbox']:hover + .mw-ui-button.mw-ui-quiet.mw-ui-destructive,.mw-ui-button.mw-ui-quiet:hover,.mw-ui-button.mw-ui-quiet.mw-ui-progressive:hover,.mw-ui-button.mw-ui-quiet.mw-ui-destructive:hover{background-color:rgba(0,24,73,0.02745098);color:#202122;border-color:transparent}input[type='checkbox']:focus + .mw-ui-button.mw-ui-quiet,input[type='checkbox']:focus + .mw-ui-button.mw-ui-quiet.mw-ui-progressive,input[type='checkbox']:focus + .mw-ui-button.mw-ui-quiet.mw-ui-destructive,.mw-ui-button.mw-ui-quiet:focus,.mw-ui-button.mw-ui-quiet.mw-ui-progressive:focus,.mw-ui-button.mw-ui-quiet.mw-ui-destructive:focus{color:#202122;border-color:#3366cc;box-shadow:inset 0 0 0 1px #3366cc,inset 0 0 0 2px #ffffff}input[type='checkbox']:active + .mw-ui-button.mw-ui-quiet,input[type='checkbox']:active + .mw-ui-button.mw-ui-quiet.mw-ui-progressive,input[type='checkbox']:active + .mw-ui-button.mw-ui-quiet.mw-ui-destructive,.mw-ui-button.mw-ui-quiet:active,.mw-ui-button.mw-ui-quiet.mw-ui-progressive:active,.mw-ui-button.mw-ui-quiet.mw-ui-destructive:active{background-color:rgba(0,36,73,0.08235294);color:#000000;border-color:#72777d;box-shadow:none}.mw-ui-button.mw-ui-quiet:disabled,.mw-ui-button.mw-ui-quiet.mw-ui-progressive:disabled,.mw-ui-button.mw-ui-quiet.mw-ui-destructive:disabled,.mw-ui-button.mw-ui-quiet:disabled:hover,.mw-ui-button.mw-ui-quiet.mw-ui-progressive:disabled:hover,.mw-ui-button.mw-ui-quiet.mw-ui-destructive:disabled:hover,.mw-ui-button.mw-ui-quiet:disabled:active,.mw-ui-button.mw-ui-quiet.mw-ui-progressive:disabled:active,.mw-ui-button.mw-ui-quiet.mw-ui-destructive:disabled:active{background-color:transparent;color:#72777d;border-color:transparent}.mw-ui-button.mw-ui-progressive:not(:disabled){background-color:#3366cc;color:#fff;border-color:#3366cc}.mw-ui-button.mw-ui-progressive:not(:disabled):hover{background-color:#447ff5;border-color:#447ff5}.mw-ui-button.mw-ui-progressive:not(:disabled):focus{box-shadow:inset 0 0 0 1px #3366cc,inset 0 0 0 2px #ffffff}.mw-ui-button.mw-ui-progressive:not(:disabled):active,.mw-ui-button.mw-ui-progressive:not(:disabled).is-on{background-color:#2a4b8d;border-color:#2a4b8d;box-shadow:none}.mw-ui-button.mw-ui-progressive:disabled{background-color:#c8ccd1;color:#fff;border-color:#c8ccd1}.mw-ui-button.mw-ui-progressive.mw-ui-quiet{color:#3366cc;background-color:transparent;border-color:transparent}input[type='checkbox']:hover + .mw-ui-button.mw-ui-progressive.mw-ui-quiet,.mw-ui-button.mw-ui-progressive.mw-ui-quiet:hover{background-color:rgba(52,123,255,0.2);border-color:transparent;color:#447ff5}input[type='checkbox']:focus + .mw-ui-button.mw-ui-progressive.mw-ui-quiet,.mw-ui-button.mw-ui-progressive.mw-ui-quiet:focus{color:#3366cc;border-color:#3366cc}input[type='checkbox']:active + .mw-ui-button.mw-ui-progressive.mw-ui-quiet,.mw-ui-button.mw-ui-progressive.mw-ui-quiet:active{color:#ffffff;background-color:#2a4b8d;border-color:#2a4b8d}.mw-ui-button.mw-ui-destructive:not(:disabled){background-color:#dd3333;color:#fff;border-color:#dd3333}.mw-ui-button.mw-ui-destructive:not(:disabled):hover{background-color:#ff4242;border-color:#ff4242}.mw-ui-button.mw-ui-destructive:not(:disabled):focus{box-shadow:inset 0 0 0 1px #dd3333,inset 0 0 0 2px #ffffff}.mw-ui-button.mw-ui-destructive:not(:disabled):active,.mw-ui-button.mw-ui-destructive:not(:disabled).is-on{background-color:#b32424;border-color:#b32424;box-shadow:none}.mw-ui-button.mw-ui-destructive:disabled{background-color:#c8ccd1;color:#fff;border-color:#c8ccd1}.mw-ui-button.mw-ui-destructive.mw-ui-quiet{color:#dd3333;background-color:transparent;border-color:transparent}input[type='checkbox']:hover + .mw-ui-button.mw-ui-destructive.mw-ui-quiet,.mw-ui-button.mw-ui-destructive.mw-ui-quiet:hover{background-color:rgba(209,29,19,0.2);border-color:transparent;color:#ff4242}input[type='checkbox']:focus + .mw-ui-button.mw-ui-destructive.mw-ui-quiet,.mw-ui-button.mw-ui-destructive.mw-ui-quiet:focus{color:#dd3333;border-color:#dd3333}input[type='checkbox']:active + .mw-ui-button.mw-ui-destructive.mw-ui-quiet,.mw-ui-button.mw-ui-destructive.mw-ui-quiet:active{color:#ffffff;background-color:#b32424;border-color:#b32424}.mw-ui-button.mw-ui-big{font-size:1.3em}.mw-ui-button.mw-ui-block{display:block;width:100%;margin-right:auto;margin-left:auto}a.mw-ui-button{text-decoration:none}a.mw-ui-button:hover,a.mw-ui-button:focus{text-decoration:none}.mw-ui-button-group > *{min-width:48px;border-radius:0;float:right}.mw-ui-button-group > *:first-child{border-top-right-radius:0;border-bottom-right-radius:0}.mw-ui-button-group > *:not(:first-child){border-right:0}.mw-ui-button-group > *:last-child{border-top-left-radius:0;border-bottom-left-radius:0}.mw-ui-button-group .is-on .button{cursor:default}\n",
              ".mw-ui-icon{ font-size:initial;position:relative;display:inline-block;box-sizing:content-box !important;width:1.25em;height:1.25em;min-width:1.25em;min-height:1.25em;flex-basis:1.25em;vertical-align:middle;line-height:0;overflow:hidden;text-overflow:ellipsis;white-space:nowrap; -moz-appearance:none; -webkit-appearance:none;background-color:transparent;margin:0;padding:0}.mw-ui-icon:not(.mw-ui-button){border:0}.mw-ui-icon:before{content:'';display:block;width:100%;height:100%;min-width:1.25em;min-height:1.25em;background-repeat:no-repeat;background-size:1.25em 1.25em;background-position:center}.mw-ui-icon + span:not(:empty){margin-right:8px} .mw-ui-icon-flush-top{margin-top:-0.75em}.mw-ui-icon-flush-left{margin-right:-0.75em}.mw-ui-icon-flush-right{margin-left:-0.75em}.mw-ui-icon-element{border-radius:0;padding:0.75em;transition:background-color 100ms;color:transparent}.mw-ui-icon-element:focus,.mw-ui-icon-element:active,.mw-ui-icon-element:visited{color:transparent}.mw-ui-icon-element:active{background-color:rgba(0,0,0,0.03)}@media (hover:hover){.mw-ui-icon-element:not(.disabled):hover{background-color:rgba(0,0,0,0.03)}}.mw-ui-icon-small{width:1em;height:1em;min-width:1em;min-height:1em;flex-basis:1em;line-height:1em}.mw-ui-icon-small:before{content:'';display:block;width:100%;height:100%;min-width:1em;min-height:1em;background-repeat:no-repeat;background-size:1em 1em;background-position:center}.mw-ui-icon-small.mw-ui-icon-element{padding:0.5625em}.mw-ui-icon-small.mw-ui-icon-flush-left{margin-right:-0.5625em}.mw-ui-icon-small.mw-ui-icon-flush-right{margin-left:-0.5625em}.mw-ui-icon-small.mw-ui-icon-before:before{min-width:1em;min-height:1em;margin-left:0.5625em}.mw-ui-icon-before{width:auto;max-width:100%}.mw-ui-icon-before:before{display:inline-block; font-size:initial;width:auto;min-width:1.25em;min-height:1.25em;margin-left:8px;vertical-align:middle}.mw-ui-icon-before span{vertical-align:middle}@media all and (min-width:1000px){.mw-ui-icon-with-label-desktop{color:#54595d !important;width:auto;line-height:inherit;flex-basis:auto;font-weight:500 !important}.mw-ui-icon-with-label-desktop:hover,.mw-ui-icon-with-label-desktop:focus,.mw-ui-icon-with-label-desktop:active,.mw-ui-icon-with-label-desktop:visited{color:#54595d;text-decoration:none}.mw-ui-icon-with-label-desktop:before{width:auto;display:inline-block;margin-left:8px;vertical-align:text-bottom}}\n",
              "body.skin-minerva .marefa-inline-ad{clear:both}.marefa-inline-ad{display:flex;overflow:hidden; }.marefa-block-ad{clear:both;padding:.5em}@media screen and (max-width:720px){.marefa-block-ad,.marefa-inline-ad{padding:.5em 0;display:block;clear:both;float:none;width:100%;overflow:visible; }}\n",
              "@media screen {\n",
              "\t.marefa-grey{color:#808080}.marefa-grey.oo-ui-buttonElement-frameless.oo-ui-widget-enabled > .oo-ui-buttonElement-button{color:#808080}.marefa-green{color:#008000}.marefa-green.oo-ui-buttonElement-frameless.oo-ui-widget-enabled > .oo-ui-buttonElement-button{color:#008000}.marefa-lime{color:#00ff00}.marefa-lime.oo-ui-buttonElement-frameless.oo-ui-widget-enabled > .oo-ui-buttonElement-button{color:#00ff00}.marefa-padded-inside > *:not(:first-child){padding-right:0.5em}.marefa-children-block > *{display:block}.marefa-children-block > .widget-items-layout > *:not(.widget-list-empty){display:block}td.mbox-image{ border:none;padding:2px 0.9em 2px 0; text-align:center}.oo-ui-icon-logoMarefa{background-image:url(/w/extensions/Marefa/resources/images/logo-Marefa.png?1d678);background-image:linear-gradient(transparent,transparent),url(\"data:image/svg+xml,%3Csvg width=%2220%22 height=%2220%22 version=%221.1%22 viewBox=%220 0 20 20%22 xml:space=%22preserve%22 xmlns=%22http://www.w3.org/2000/svg%22%3E%3Cg transform=%22matrix%281.3333 0 0 -1.3333 2.1644 20.458%29%22%3E%3Cg transform=%22matrix%28.017509 0 0 .017509 -1.4186 .60323%29%22%3E%3Cpath d=%22m298 756-22-45 40-45c21-24 42-45 45-45 6-1 35 60 41 85 2 6-16 30-40 53l-42 41z%22/%3E%3Cpath d=%22m565 634c-129-26-121-22-134-66l-13-40 69-63 68-63-55-107c-30-60-76-142-102-184-25-41-44-79-42-83 3-5 26 11 50 34 45 43 80 107 125 225 29 78 45 101 60 86 9-9 7-22-5-54-26-65-15-90 71-160 41-33 76-59 77-57 23 31 47 83 56 121 17 65 3 93-82 171l-69 63 32 52c28 45 31 54 21 77-7 14-28 32-47 40-35 14-43 15-80 8zm49-97c13-10 16-20 12-35-9-29-14-28-60 13l-39 35h34c20 0 43-6 53-13zm57-230c37-33 77-87 64-87-9 0-86 60-102 80-14 17-17 40-5 40 4-1 23-15 43-33z%22/%3E%3Cpath d=%22m295 588c-11-11-44-35-73-54-85-55-137-109-166-173-56-124 21-199 112-110l31 30 15-28c8-15 29-41 46-58 18-16 45-47 61-68l28-39 46 71c72 111 100 170 100 213 0 36-7 45-80 113-43 41-80 73-80 72-1-1-14-32-28-70-44-111-34-166 42-222 26-19 41-38 41-52 0-13-4-23-10-23-5 0-10 4-10 9 0 6-23 34-51 63-85 88-90 136-29 252 22 41 40 80 40 86 0 15-13 11-35-12zm-70-145c-13-27-26-69-30-95-6-39-11-47-33-53-21-5-31-1-50 20-35 41-25 64 53 122 39 29 73 53 77 53s-3-21-17-47zm208-110c18-30-1-21-51 25-29 27-52 54-52 61 0 13 89-60 103-86z%22/%3E%3C/g%3E%3C/g%3E%3C/svg%3E\")}  html .slick-prev::before,html .slick-next::before{color:grey}html[dir=\"rtl\"] .slick-slide{float:right} .marefa-news{padding:0 1.8em}.marefa-news .slick-slide:not(:last-child){margin-right:1em}.marefa-news .slick-list{padding-bottom:1em}.skin-minerva .marefa-news{font-size:.8em}.skin-minerva .mw-parser-output > section > *{overflow:auto}.marefa-votd .video{height:26em;width:100%;z-index:1}.marefa-votd .video video{opacity:0}}\n",
              ".cite-accessibility-label{ top:-99999px;clip:rect(1px,1px,1px,1px); position:absolute !important;padding:0 !important;border:0 !important;height:1px !important;width:1px !important; overflow:hidden}:target .mw-cite-targeted-backlink{font-weight:bold}.mw-cite-up-arrow-backlink{display:none}:target .mw-cite-up-arrow-backlink{display:inline}:target .mw-cite-up-arrow{display:none}\n",
              ".ve-init-mw-progressBarWidget{height:1em;overflow:hidden;margin:0 25%}.ve-init-mw-progressBarWidget-bar{height:1em;width:0} .ve-init-mw-progressBarWidget{background-color:#fff;box-sizing:border-box;height:0.875em;border:1px solid #36c;border-radius:0.875em;box-shadow:0 1px 1px rgba(0,0,0,0.15)}.ve-init-mw-progressBarWidget-bar{background-color:#36c;height:0.875em}\n",
              "@media screen {\n",
              "\t.toctoggle{-moz-user-select:none;-webkit-user-select:none;-ms-user-select:none;user-select:none;font-size:94%}}</style><style>\n",
              ".ve-init-mw-tempWikitextEditorWidget{border:0;padding:0;color:inherit;line-height:1.5em;width:100%; -moz-tab-size:4; tab-size:4; }.ve-init-mw-tempWikitextEditorWidget:focus{outline:0;padding:0}.ve-init-mw-tempWikitextEditorWidget::selection{background:rgba(109,169,247,0.5); }\n",
              ".mw-mmv-overlay{position:fixed;top:0;right:0;left:0;bottom:0;z-index:1000;background-color:#000}body.mw-mmv-lightbox-open{overflow-y:auto}body.mw-mmv-lightbox-open > *:not(.mw-notification-area-overlay){display:none}body.mw-mmv-lightbox-open > .mw-mmv-overlay,body.mw-mmv-lightbox-open > .mw-mmv-wrapper{display:block}.mw-mmv-filepage-buttons{margin-top:5px}.mw-mmv-filepage-buttons .mw-mmv-view-expanded,.mw-mmv-filepage-buttons .mw-mmv-view-config{display:block;line-height:inherit}.mw-mmv-filepage-buttons .mw-mmv-view-expanded .mw-ui-icon:before{background-image:url(\"data:image/svg+xml,%3Csvg xmlns=%22http://www.w3.org/2000/svg%22 viewBox=%220 0 1024 768%22%3E %3Cpath d=%22M851.2 71.6 690.7 232.1l-40.1-40.3-9.6 164.8 164.8-9.3-40.3-40.4L926 146.4l58.5 58.5L997.6 0 792.7 13.1%22/%3E %3Cpath d=%22M769.6 89.3H611.9l70.9 70.8 7.9 7.5m-47.1 234.6-51.2 3 3-51.2 9.4-164.4 5.8-100.3H26.4V768h883.1V387l-100.9 5.8-165 9.4zM813.9 678H113.6l207.2-270.2 31.5-12.9L548 599.8l105.9-63.2 159.8 140.8.2.6zm95.6-291.9V228l-79.1 78.9 7.8 7.9%22/%3E %3C/svg%3E\")}.mw-mmv-filepage-buttons .mw-mmv-view-config .mw-ui-icon:before{background-image:url(\"data:image/svg+xml,%3Csvg xmlns=%22http://www.w3.org/2000/svg%22 viewBox=%220 0 1024 768%22%3E %3Cpath d=%22M897 454.6V313.4L810.4 299c-6.4-23.3-16-45.7-27.3-65.8l50.5-71.4-99.4-100.2-71.4 50.5c-20.9-11.2-42.5-20.9-65.8-27.3L582.6-1H441.4L427 85.6c-23.3 6.4-45.7 16-65.8 27.3l-71.4-50.5-100.3 99.5 50.5 71.4c-11.2 20.9-20.9 42.5-27.3 66.6L127 313.4v141.2l85.8 14.4c6.4 23.3 16 45.7 27.3 66.6L189.6 607l99.5 99.5 71.4-50.5c20.9 11.2 42.5 20.9 66.6 27.3l14.4 85.8h141.2l14.4-86.6c23.3-6.4 45.7-16 65.8-27.3l71.4 50.5 99.5-99.5-50.5-71.4c11.2-20.9 20.9-42.5 27.3-66.6l86.4-13.6zm-385 77c-81.8 0-147.6-66.6-147.6-147.6 0-81.8 66.6-147.6 147.6-147.6S659.6 302.2 659.6 384 593.8 531.6 512 531.6z%22/%3E %3C/svg%3E\");margin-left:0;opacity:0.75}.mw-mmv-filepage-buttons .mw-mmv-view-config .mw-ui-icon:before:hover{opacity:1}.mw-mmv-filepage-buttons .mw-mmv-view-config .mw-ui-icon span{display:none}.mw-mmv-button{background-color:transparent;min-width:0;border:0;padding:0;overflow-x:hidden;text-indent:-9999em}</style><style>\n",
              ".ve-active .ve-init-mw-desktopArticleTarget-editableContent #toc,.ve-active #siteNotice,.ve-active .mw-indicators,.ve-active #t-print,.ve-active #t-permalink,.ve-active #p-coll-print_export,.ve-active #t-cite,.ve-active .ve-init-mw-desktopArticleTarget-editableContent,.ve-active .ve-init-mw-tempWikitextEditorWidget{display:none}.ve-deactivating .ve-ui-surface{display:none}.ve-activating{ }.ve-activating .ve-ui-surface{height:0;padding:0 !important; overflow:hidden} .ve-loading .ve-init-mw-desktopArticleTarget-targetContainer > :not(.ve-init-mw-desktopArticleTarget-toolbarPlaceholder):not(.ve-init-mw-desktopArticleTarget),.ve-loading .ve-init-mw-desktopArticleTarget-originalContent,.ve-activated:not(.ve-loading) .ve-init-mw-desktopArticleTarget-uneditableContent{pointer-events:none;-webkit-user-select:none;-moz-user-select:none;-ms-user-select:none;user-select:none;opacity:0.5}.ve-activated .ve-init-mw-desktopArticleTarget-targetContainer #firstHeading{ -webkit-user-select:text;-moz-user-select:text;-ms-user-select:text;user-select:text;pointer-events:auto;cursor:text}.ve-activated .ve-init-mw-desktopArticleTarget-targetContainer #firstHeading a{ pointer-events:none}.ve-activated .ve-init-mw-desktopArticleTarget-originalContent #catlinks{cursor:pointer}.ve-activated .ve-init-mw-desktopArticleTarget-originalContent #catlinks:hover{ background:#e9f2fd}.ve-activated .ve-init-mw-desktopArticleTarget-originalContent #catlinks a{opacity:1} .ve-init-mw-desktopArticleTarget-loading-overlay{z-index:2;position:absolute;width:100%;top:1em}.ve-init-mw-desktopArticleTarget-toolbarPlaceholder{overflow:hidden;transition:height 250ms ease;height:0;padding-bottom:2px; }.ve-init-mw-desktopArticleTarget-toolbarPlaceholder-bar{transform:translateY(-100%);transition:transform 250ms ease}.ve-init-mw-desktopArticleTarget-toolbarPlaceholder-open .ve-init-mw-desktopArticleTarget-toolbarPlaceholder-bar{transform:translateY(0)}.ve-init-mw-desktopArticleTarget-toolbarPlaceholder-floating{transition:none}.ve-init-mw-desktopArticleTarget-toolbarPlaceholder-floating .ve-init-mw-desktopArticleTarget-toolbarPlaceholder-bar{position:fixed;top:0;z-index:1;background:#fff} .oo-ui-element-hidden{display:none !important; } .mw-editsection{ unicode-bidi:-moz-isolate;unicode-bidi:-webkit-isolate;unicode-bidi:isolate}.mw-editsection:before{content:'\\200B'}.mw-editsection a{white-space:nowrap}.mw-editsection-divider{color:#54595d} .ve-init-mw-desktopArticleTarget-toolbarPlaceholder-bar{height:42px;border-bottom:1px solid #c8ccd1;box-shadow:0 1px 1px 0 rgba(0,0,0,0.1)}.ve-init-mw-desktopArticleTarget-toolbarPlaceholder-floating,.ve-init-mw-desktopArticleTarget-toolbarPlaceholder-open{height:42px}</style><style>\n",
              ".mw-ui-checkbox{display:table;position:relative;line-height:1.5625em;vertical-align:middle}.mw-ui-checkbox *{font-size:inherit;vertical-align:middle}.mw-ui-checkbox [type='checkbox']{display:table-cell;position:relative;width:1.5625em;height:1.5625em;max-width:none;opacity:0;z-index:1}.mw-ui-checkbox [type='checkbox'] + label{display:table-cell;padding-right:0.4em}.mw-ui-checkbox [type='checkbox'] + label:before{content:'';background-color:#fff;background-origin:border-box;background-position:center center;background-repeat:no-repeat;background-size:0 0;box-sizing:border-box;position:absolute;top:50%;right:0;width:1.5625em;height:1.5625em;margin-top:-0.78125em;border:1px solid #72777d;border-radius:0}.mw-ui-checkbox [type='checkbox']:checked + label:before{background-image:url(/w/resources/src/mediawiki.ui.checkbox/images/checkbox-checked.svg?8153e);background-size:90% 90%}.mw-ui-checkbox [type='checkbox']:enabled{cursor:pointer}.mw-ui-checkbox [type='checkbox']:enabled + label{cursor:pointer}.mw-ui-checkbox [type='checkbox']:enabled + label:before{cursor:pointer;transition:background-color 100ms,color 100ms,border-color 100ms,box-shadow 100ms}.mw-ui-checkbox [type='checkbox']:enabled:focus + label:before{border-color:#3366cc;box-shadow:inset 0 0 0 1px #3366cc}.mw-ui-checkbox [type='checkbox']:enabled:hover + label:before{border-color:#447ff5}.mw-ui-checkbox [type='checkbox']:enabled:active + label:before{background-color:#2a4b8d;border-color:#2a4b8d;box-shadow:inset 0 0 0 1px #2a4b8d}.mw-ui-checkbox [type='checkbox']:enabled:checked + label:before{background-color:#3366cc;border-color:#3366cc}.mw-ui-checkbox [type='checkbox']:enabled:checked:focus + label:before{background-color:#3366cc;border-color:#3366cc;box-shadow:inset 0 0 0 1px #3366cc,inset 0 0 0 2px #ffffff}.mw-ui-checkbox [type='checkbox']:enabled:checked:hover + label:before{background-color:#447ff5;border-color:#447ff5}.mw-ui-checkbox [type='checkbox']:enabled:checked:active + label:before{background-color:#2a4b8d;border-color:#2a4b8d}.mw-ui-checkbox [type='checkbox']:disabled + label:before{background-color:#c8ccd1;border-color:#c8ccd1}\n",
              ".oo-ui-icon-infoFilled,.mw-ui-icon-infoFilled:before{background-image:url(/w/load.php?modules=ext.popups.icons&image=infoFilled&format=rasterized&lang=ar&skin=nimbus&version=xt0m2);background-image:linear-gradient(transparent,transparent),url(\"data:image/svg+xml,%3Csvg xmlns=%22http://www.w3.org/2000/svg%22 width=%2220%22 height=%2220%22 viewBox=%220 0 20 20%22%3E%3Ctitle%3E lightbulb %3C/title%3E%3Cpath d=%22M8 19a1 1 0 0 0 1 1h2a1 1 0 0 0 1-1v-1H8zm9-12a7 7 0 1 0-12 4.9S7 14 7 15v1a1 1 0 0 0 1 1h4a1 1 0 0 0 1-1v-1c0-1 2-3.1 2-3.1A7 7 0 0 0 17 7z%22/%3E%3C/svg%3E\")}.oo-ui-image-invert.oo-ui-icon-infoFilled,.mw-ui-icon-infoFilled-invert:before{background-image:url(/w/load.php?modules=ext.popups.icons&image=infoFilled&variant=invert&format=rasterized&lang=ar&skin=nimbus&version=xt0m2);background-image:linear-gradient(transparent,transparent),url(\"data:image/svg+xml,%3Csvg xmlns=%22http://www.w3.org/2000/svg%22 width=%2220%22 height=%2220%22 viewBox=%220 0 20 20%22%3E%3Ctitle%3E lightbulb %3C/title%3E%3Cg fill=%22%23fff%22%3E%3Cpath d=%22M8 19a1 1 0 0 0 1 1h2a1 1 0 0 0 1-1v-1H8zm9-12a7 7 0 1 0-12 4.9S7 14 7 15v1a1 1 0 0 0 1 1h4a1 1 0 0 0 1-1v-1c0-1 2-3.1 2-3.1A7 7 0 0 0 17 7z%22/%3E%3C/g%3E%3C/svg%3E\")}.oo-ui-image-progressive.oo-ui-icon-infoFilled,.mw-ui-icon-infoFilled-progressive:before{background-image:url(/w/load.php?modules=ext.popups.icons&image=infoFilled&variant=progressive&format=rasterized&lang=ar&skin=nimbus&version=xt0m2);background-image:linear-gradient(transparent,transparent),url(\"data:image/svg+xml,%3Csvg xmlns=%22http://www.w3.org/2000/svg%22 width=%2220%22 height=%2220%22 viewBox=%220 0 20 20%22%3E%3Ctitle%3E lightbulb %3C/title%3E%3Cg fill=%22%2336c%22%3E%3Cpath d=%22M8 19a1 1 0 0 0 1 1h2a1 1 0 0 0 1-1v-1H8zm9-12a7 7 0 1 0-12 4.9S7 14 7 15v1a1 1 0 0 0 1 1h4a1 1 0 0 0 1-1v-1c0-1 2-3.1 2-3.1A7 7 0 0 0 17 7z%22/%3E%3C/g%3E%3C/svg%3E\")}.oo-ui-icon-settings,.mw-ui-icon-settings:before{background-image:url(/w/load.php?modules=ext.popups.icons&image=settings&format=rasterized&skin=nimbus&version=xt0m2);background-image:linear-gradient(transparent,transparent),url(\"data:image/svg+xml,%3Csvg xmlns=%22http://www.w3.org/2000/svg%22 xmlns:xlink=%22http://www.w3.org/1999/xlink%22 width=%2220%22 height=%2220%22 viewBox=%220 0 20 20%22%3E%3Ctitle%3E settings %3C/title%3E%3Cg transform=%22translate%2810 10%29%22%3E%3Cpath id=%22a%22 d=%22M1.5-10h-3l-1 6.5h5m0 7h-5l1 6.5h3%22/%3E%3Cuse xlink:href=%22%23a%22 transform=%22rotate%2845%29%22/%3E%3Cuse xlink:href=%22%23a%22 transform=%22rotate%2890%29%22/%3E%3Cuse xlink:href=%22%23a%22 transform=%22rotate%28135%29%22/%3E%3C/g%3E%3Cpath d=%22M10 2.5a7.5 7.5 0 0 0 0 15 7.5 7.5 0 0 0 0-15v4a3.5 3.5 0 0 1 0 7 3.5 3.5 0 0 1 0-7%22/%3E%3C/svg%3E\")}.oo-ui-image-invert.oo-ui-icon-settings,.mw-ui-icon-settings-invert:before{background-image:url(/w/load.php?modules=ext.popups.icons&image=settings&variant=invert&format=rasterized&skin=nimbus&version=xt0m2);background-image:linear-gradient(transparent,transparent),url(\"data:image/svg+xml,%3Csvg xmlns=%22http://www.w3.org/2000/svg%22 xmlns:xlink=%22http://www.w3.org/1999/xlink%22 width=%2220%22 height=%2220%22 viewBox=%220 0 20 20%22%3E%3Ctitle%3E settings %3C/title%3E%3Cg fill=%22%23fff%22%3E%3Cg xmlns:xlink=%22http://www.w3.org/1999/xlink%22 transform=%22translate%2810 10%29%22%3E%3Cpath id=%22a%22 d=%22M1.5-10h-3l-1 6.5h5m0 7h-5l1 6.5h3%22/%3E%3Cuse xlink:href=%22%23a%22 transform=%22rotate%2845%29%22/%3E%3Cuse xlink:href=%22%23a%22 transform=%22rotate%2890%29%22/%3E%3Cuse xlink:href=%22%23a%22 transform=%22rotate%28135%29%22/%3E%3C/g%3E%3Cpath d=%22M10 2.5a7.5 7.5 0 0 0 0 15 7.5 7.5 0 0 0 0-15v4a3.5 3.5 0 0 1 0 7 3.5 3.5 0 0 1 0-7%22/%3E%3C/g%3E%3C/svg%3E\")}.oo-ui-image-progressive.oo-ui-icon-settings,.mw-ui-icon-settings-progressive:before{background-image:url(/w/load.php?modules=ext.popups.icons&image=settings&variant=progressive&format=rasterized&skin=nimbus&version=xt0m2);background-image:linear-gradient(transparent,transparent),url(\"data:image/svg+xml,%3Csvg xmlns=%22http://www.w3.org/2000/svg%22 xmlns:xlink=%22http://www.w3.org/1999/xlink%22 width=%2220%22 height=%2220%22 viewBox=%220 0 20 20%22%3E%3Ctitle%3E settings %3C/title%3E%3Cg fill=%22%2336c%22%3E%3Cg xmlns:xlink=%22http://www.w3.org/1999/xlink%22 transform=%22translate%2810 10%29%22%3E%3Cpath id=%22a%22 d=%22M1.5-10h-3l-1 6.5h5m0 7h-5l1 6.5h3%22/%3E%3Cuse xlink:href=%22%23a%22 transform=%22rotate%2845%29%22/%3E%3Cuse xlink:href=%22%23a%22 transform=%22rotate%2890%29%22/%3E%3Cuse xlink:href=%22%23a%22 transform=%22rotate%28135%29%22/%3E%3C/g%3E%3Cpath d=%22M10 2.5a7.5 7.5 0 0 0 0 15 7.5 7.5 0 0 0 0-15v4a3.5 3.5 0 0 1 0 7 3.5 3.5 0 0 1 0-7%22/%3E%3C/g%3E%3C/svg%3E\")}\n",
              ".mw-ui-icon-popups-close:before{background-image:url(/w/load.php?modules=ext.popups.images&image=popups-close&format=rasterized&skin=nimbus&version=e1hr2);background-image:linear-gradient(transparent,transparent),url(\"data:image/svg+xml,%3Csvg xmlns=%22http://www.w3.org/2000/svg%22 width=%2220%22 height=%2220%22 viewBox=%220 0 20 20%22%3E %3Ctitle%3E close %3C/title%3E %3Cpath d=%22m4.34 2.93 12.73 12.73-1.41 1.41L2.93 4.35z%22/%3E %3Cpath d=%22M17.07 4.34 4.34 17.07l-1.41-1.41L15.66 2.93z%22/%3E %3C/svg%3E\")}.mw-ui-icon-preview-generic:before{background-image:url(/w/load.php?modules=ext.popups.images&image=preview-generic&format=rasterized&lang=ar&skin=nimbus&version=e1hr2);background-image:linear-gradient(transparent,transparent),url(\"data:image/svg+xml,%3Csvg xmlns=%22http://www.w3.org/2000/svg%22 width=%2220%22 height=%2220%22 viewBox=%220 0 20 20%22%3E %3Ctitle%3E sad face %3C/title%3E %3Cpath d=%22M18 0a2 2 0 0 1 2 2v18l-4-4H2a2 2 0 0 1-2-2V2a2 2 0 0 1 2-2zm-4 4c-1.336 0-2.007 1.617-1.06 2.56.943.947 2.56.276 2.56-1.06A1.5 1.5 0 0 0 14 4zM6 4C4.664 4 3.993 5.617 4.94 6.56c.943.947 2.56.276 2.56-1.06A1.5 1.5 0 0 0 6 4zm4 5c-2.61 0-4.83.67-5.65 3h11.3c-.82-2.33-3.04-3-5.65-3z%22/%3E %3C/svg%3E\")}.mw-ui-icon-footer:before{background-image:url(/w/load.php?modules=ext.popups.images&image=footer&format=rasterized&lang=ar&skin=nimbus&version=e1hr2);background-image:linear-gradient(transparent,transparent),url(\"data:image/svg+xml,%3Csvg xmlns=%22http://www.w3.org/2000/svg%22 xmlns:xlink=%22http://www.w3.org/1999/xlink%22 width=%22235%22 height=%22179%22 viewBox=%220 0 235 179%22%3E %3Cdefs%3E %3Crect id=%22a%22 width=%22201%22 height=%2213%22 rx=%222%22/%3E %3Crect id=%22b%22 width=%22201%22 height=%22169%22 y=%2210%22 rx=%222%22/%3E %3Crect id=%22c%22 width=%2230%22 height=%222%22 x=%2234%22 y=%22158%22 rx=%221%22/%3E %3C/defs%3E %3Cg fill=%22none%22 fill-rule=%22evenodd%22%3E %3Cg transform=%22translate%2834%29%22%3E %3Cg transform=%22matrix%281 0 0 -1 0 13%29%22%3E %3Cuse xlink:href=%22%23a%22 fill=%22%23f8f9fa%22/%3E %3Crect width=%22199%22 height=%2211%22 x=%221%22 y=%221%22 stroke=%22%23a2a9b1%22 stroke-width=%222%22 rx=%222%22/%3E %3C/g%3E %3Cuse xlink:href=%22%23b%22 fill=%22%23fff%22/%3E %3Crect width=%22199%22 height=%22167%22 x=%221%22 y=%2211%22 stroke=%22%23a2a9b1%22 stroke-width=%222%22 rx=%222%22/%3E %3Cg fill=%22%2372777d%22 opacity=%22.4%22 transform=%22matrix%28-1 0 0 1 132 35%29%22%3E %3Crect width=%2273%22 height=%222%22 y=%227%22 fill=%22%23c8ccd1%22 rx=%221%22/%3E %3Crect width=%2281%22 height=%222%22 y=%2231%22 rx=%221%22/%3E %3Crect width=%2232%22 height=%222%22 y=%2285%22 rx=%221%22/%3E %3Crect width=%2273%22 height=%222%22 x=%2235%22 y=%2285%22 rx=%221%22/%3E %3Crect width=%2217%22 height=%222%22 y=%2245%22 rx=%221%22/%3E %3Crect width=%2217%22 height=%222%22 x=%2291%22 y=%2245%22 rx=%221%22/%3E %3Crect width=%2268%22 height=%222%22 x=%2220%22 y=%2245%22 rx=%221%22/%3E %3Crect width=%2217%22 height=%222%22 y=%2278%22 rx=%221%22/%3E %3Crect width=%2237%22 height=%222%22 x=%2272%22 y=%2278%22 rx=%221%22/%3E %3Crect width=%2249%22 height=%222%22 x=%2220%22 y=%2278%22 rx=%221%22/%3E %3Crect width=%2224%22 height=%222%22 x=%2284%22 y=%2231%22 rx=%221%22 transform=%22matrix%28-1 0 0 1 192 0%29%22/%3E %3Crect width=%2281%22 height=%222%22 y=%2266%22 rx=%221%22/%3E %3Crect width=%2214%22 height=%222%22 x=%2254%22 y=%2224%22 rx=%221%22/%3E %3Crect width=%2237%22 height=%222%22 x=%2271%22 y=%2224%22 rx=%221%22/%3E %3Crect width=%2251%22 height=%222%22 y=%2224%22 rx=%221%22/%3E %3Crect width=%22108%22 height=%222%22 y=%2259%22 rx=%221%22/%3E %3Crect width=%22108%22 height=%222%22 y=%2252%22 rx=%221%22/%3E %3Crect width=%22108%22 height=%222%22 y=%2292%22 rx=%221%22/%3E %3Crect width=%22108%22 height=%222%22 y=%2238%22 rx=%221%22/%3E %3Crect width=%2251%22 height=%222%22 rx=%221%22/%3E %3C/g%3E %3Crect width=%2230%22 height=%222%22 x=%2269%22 y=%22158%22 fill=%22%2372777d%22 opacity=%22.4%22 rx=%221%22/%3E %3Crect width=%2230%22 height=%222%22 x=%22101%22 y=%22158%22 fill=%22%2372777d%22 opacity=%22.4%22 rx=%221%22/%3E %3Cuse xlink:href=%22%23c%22 fill=%22%2336C%22/%3E %3Crect width=%2233%22 height=%225%22 x=%2232.5%22 y=%22156.5%22 stroke=%22%23ffc057%22 stroke-opacity=%22.447%22 stroke-width=%223%22 rx=%222.5%22/%3E %3Ccircle cx=%22168%22 cy=%2249%22 r=%2219%22 fill=%22%23eaecf0%22/%3E %3Cg fill=%22%23a2a9b1%22 transform=%22translate%28183 5%29%22%3E %3Ccircle cx=%221.5%22 cy=%221.5%22 r=%221.5%22/%3E %3Ccircle cx=%226%22 cy=%221.5%22 r=%221.5%22/%3E %3Ccircle cx=%2210.5%22 cy=%221.5%22 r=%221.5%22/%3E %3C/g%3E %3C/g%3E %3Cpath stroke=%22%23ff00af%22 stroke-linecap=%22square%22 d=%22M.5 159.5h54.01%22/%3E %3C/g%3E %3C/svg%3E\")}.mw-ui-icon-preview-disambiguation:before{background-image:url(/w/load.php?modules=ext.popups.images&image=preview-disambiguation&format=rasterized&lang=ar&skin=nimbus&version=e1hr2);background-image:linear-gradient(transparent,transparent),url(\"data:image/svg+xml,%3Csvg xmlns=%22http://www.w3.org/2000/svg%22 width=%2220%22 height=%2220%22 viewBox=%220 0 20 20%22%3E %3Ctitle%3E articles %3C/title%3E %3Cpath d=%22M15 0v2H4v14H2V2a2 2 0 0 1 2-2z%22/%3E %3Cpath d=%22M18 5a2 2 0 0 0-2-2H7a2 2 0 0 0-2 2v13a2 2 0 0 0 2 2h9a2 2 0 0 0 2-2zm-7 5H7V5h4zm5-4h-4V5h4zm0 2h-4V7h4zm0 2h-4V9h4zm0 2H7v-1h9zm0 2H7v-1h9zm0 2H7v-1h9z%22/%3E %3C/svg%3E\")}.mw-ui-icon-reference-generic:before{background-image:url(/w/load.php?modules=ext.popups.images&image=reference-generic&format=rasterized&skin=nimbus&version=e1hr2);background-image:linear-gradient(transparent,transparent),url(\"data:image/svg+xml,%3Csvg xmlns=%22http://www.w3.org/2000/svg%22 width=%2220%22 height=%2220%22 viewBox=%220 0 20 20%22%3E %3Ctitle%3E reference %3C/title%3E %3Cpath d=%22m15 10-2.78-2.78L9.44 10V1H5a2 2 0 0 0-2 2v14a2 2 0 0 0 2 2h10a2 2 0 0 0 2-2V3a2 2 0 0 0-2-2z%22/%3E %3C/svg%3E\")}.mw-ui-icon-reference-book:before{background-image:url(/w/load.php?modules=ext.popups.images&image=reference-book&format=rasterized&lang=ar&skin=nimbus&version=e1hr2);background-image:linear-gradient(transparent,transparent),url(\"data:image/svg+xml,%3Csvg xmlns=%22http://www.w3.org/2000/svg%22 width=%2220%22 height=%2220%22 viewBox=%220 0 20 20%22%3E %3Ctitle%3E book %3C/title%3E %3Cpath d=%22M1 2v15h4a7.65 7.65 0 0 1 5 2 7.65 7.65 0 0 1 5-2h4V2h-4a7.65 7.65 0 0 0-5 2 7.65 7.65 0 0 0-5-2zm1.5 1.5H5C8 3.5 9 5 9 5v11.5a4.38 4.38 0 0 0-3-1H2.5z%22/%3E %3Cpath d=%22M9 3.5h2v1H9z%22/%3E %3C/svg%3E\")}.mw-ui-icon-reference-journal:before{background-image:url(/w/load.php?modules=ext.popups.images&image=reference-journal&format=rasterized&lang=ar&skin=nimbus&version=e1hr2);background-image:linear-gradient(transparent,transparent),url(\"data:image/svg+xml,%3Csvg xmlns=%22http://www.w3.org/2000/svg%22 width=%2220%22 height=%2220%22 viewBox=%220 0 20 20%22%3E %3Ctitle%3E journal %3C/title%3E %3Cpath d=%22M15 0v20h1.5c.8 0 1.5-.7 1.5-1.5v-17c0-.8-.7-1.5-1.5-1.5zM2 18c0 1.1.9 2 2 2h10V0H4C2.9 0 2 .9 2 2zM4 5h8v1H4zm3 2h5v1H7z%22/%3E %3C/svg%3E\")}.mw-ui-icon-reference-news:before{background-image:url(/w/load.php?modules=ext.popups.images&image=reference-news&format=rasterized&lang=ar&skin=nimbus&version=e1hr2);background-image:linear-gradient(transparent,transparent),url(\"data:image/svg+xml,%3Csvg xmlns=%22http://www.w3.org/2000/svg%22 width=%2220%22 height=%2220%22 viewBox=%220 0 20 20%22%3E %3Ctitle%3E newspaper %3C/title%3E %3Cpath d=%22M0 16c0 1.1.9 2 2 2h16.5c.8 0 1.5-.7 1.5-1.5v-10c0-.8-.7-1.5-1.5-1.5H18v10c0 .6-.4 1-1 1V4c0-1.1-.9-2-2-2H2C.9 2 0 2.9 0 4zM3 4h11v4H3zm0 6h4v5H3zm5 0h6v1H8zm0 2h6v1H8zm0 2h6v1H8z%22/%3E %3C/svg%3E\")}.mw-ui-icon-reference-web:before{background-image:url(/w/load.php?modules=ext.popups.images&image=reference-web&format=rasterized&lang=ar&skin=nimbus&version=e1hr2);background-image:linear-gradient(transparent,transparent),url(\"data:image/svg+xml,%3Csvg xmlns=%22http://www.w3.org/2000/svg%22 width=%2220%22 height=%2220%22 viewBox=%220 0 20 20%22%3E %3Ctitle%3E browser %3C/title%3E %3Cpath d=%22M0 16c0 1.1.9 2 2 2h16c1.1 0 2-.9 2-2V4c0-1.1-.9-2-2-2H2C.9 2 0 2.9 0 4zM17.5 5c0 .8-.7 1.5-1.5 1.5s-1.5-.7-1.5-1.5.7-1.5 1.5-1.5 1.5.7 1.5 1.5zM2 8h16v8H2z%22/%3E %3C/svg%3E\")}</style><style>\n",
              "@keyframes mwe-popups-fade-in-up{0%{opacity:0;transform:translate(0,20px)}100%{opacity:1;transform:translate(0,0)}}@keyframes mwe-popups-fade-in-down{0%{opacity:0;transform:translate(0,-20px)}100%{opacity:1;transform:translate(0,0)}}@keyframes mwe-popups-fade-out-down{0%{opacity:1;transform:translate(0,0)}100%{opacity:0;transform:translate(0,20px)}}@keyframes mwe-popups-fade-out-up{0%{opacity:1;transform:translate(0,0)}100%{opacity:0;transform:translate(0,-20px)}}.mwe-popups-fade-in-up{animation:mwe-popups-fade-in-up 0.2s ease forwards}.mwe-popups-fade-in-down{animation:mwe-popups-fade-in-down 0.2s ease forwards}.mwe-popups-fade-out-down{animation:mwe-popups-fade-out-down 0.2s ease forwards}.mwe-popups-fade-out-up{animation:mwe-popups-fade-out-up 0.2s ease forwards} #mwe-popups-settings{z-index:1000;background:#fff;width:420px;border:1px solid #a2a9b1;box-shadow:0 2px 2px 0 rgba(0,0,0,0.25);border-radius:0;font-size:14px}#mwe-popups-settings header{box-sizing:border-box;border-bottom:1px solid #c8ccd1;position:relative;display:table;width:100%;padding:5px 0 5px 7px}#mwe-popups-settings header > div{display:table-cell;width:3.5em;vertical-align:middle;cursor:pointer}#mwe-popups-settings header h1{margin-bottom:0.6em;padding-top:0.5em;border:0;width:100%;font-family:sans-serif;font-size:18px;font-weight:bold;text-align:center}#mwe-popups-settings .mwe-ui-icon-popups-close{opacity:0.87;transition:opacity 100ms}#mwe-popups-settings .mwe-ui-icon-popups-close:hover{opacity:0.73}#mwe-popups-settings .mwe-ui-icon-popups-close:active{opacity:1}#mwe-popups-settings main#mwe-popups-settings-form{display:block;width:350px;padding:32px 0 24px;margin:0 auto}#mwe-popups-settings main#mwe-popups-settings-form p{color:#54595d;font-size:14px;margin:16px 0 0}#mwe-popups-settings main#mwe-popups-settings-form p:first-child{margin-top:0}#mwe-popups-settings main#mwe-popups-settings-form form img{margin-left:60px}#mwe-popups-settings main#mwe-popups-settings-form form input{margin-left:10px}#mwe-popups-settings main#mwe-popups-settings-form form label{font-size:13px;line-height:16px;width:300px}#mwe-popups-settings main#mwe-popups-settings-form form label > span{color:#000;font-size:14px;font-weight:bold;display:block;margin-bottom:5px}#mwe-popups-settings main#mwe-popups-settings-form form label:before{top:0.78125em !important}.mwe-popups-settings-help{font-size:13px;font-weight:800;margin:40px;position:relative}.mwe-popups-settings-help .mw-ui-icon:before,.mwe-popups-settings-help .mw-ui-icon{background-size:contain;height:140px;width:180px;max-width:none;margin:0;padding:0}.mwe-popups-settings-help p{right:180px;bottom:20px;position:absolute}.mwe-popups{background:#fff;position:absolute;z-index:110;box-shadow:0 30px 90px -20px rgba(0,0,0,0.3),0 0 1px 1px rgba(0,0,0,0.05);padding:0;display:none;font-size:14px;line-height:20px;min-width:300px;border-radius:0; }.mwe-popups .mw-ui-icon-preview-disambiguation,.mwe-popups .mw-ui-icon-preview-generic{opacity:0.25}.mwe-popups .mwe-popups-container{color:#202122;margin-top:-8px;padding-top:9px;text-decoration:none}.mwe-popups .mwe-popups-container footer{padding:0 16px 16px;margin:0;position:absolute;bottom:0;right:0;pointer-events:none}.mwe-popups .mwe-popups-container footer a{pointer-events:auto}.mwe-popups .mwe-popups-settings-icon{display:block;float:left;border-radius:0;opacity:0.67;transition:background-color 100ms,opacity 100ms}.mwe-popups .mwe-popups-settings-icon:hover{background-color:#eaecf0}.mwe-popups .mwe-popups-settings-icon:active{background-color:#c8ccd1;opacity:1}.mwe-popups .mwe-popups-extract{margin:16px;display:block;color:#202122;text-decoration:none;position:relative;   }.mwe-popups .mwe-popups-extract:hover{text-decoration:none}.mwe-popups .mwe-popups-extract:after,.mwe-popups .mwe-popups-extract blockquote:after{content:' ';position:absolute;bottom:0;width:25%;height:20px;background-color:transparent;pointer-events:none}.mwe-popups .mwe-popups-extract[dir='ltr']:after{ right:0; background-image:linear-gradient(to right,rgba(255,255,255,0),#ffffff 50%)}.mwe-popups .mwe-popups-extract[dir='rtl']:after{ left:0; background-image:linear-gradient(to left,rgba(255,255,255,0),#ffffff 50%)}.mwe-popups .mwe-popups-extract blockquote:after{width:100%;height:25px; bottom:0; background-image:linear-gradient(to bottom,rgba(255,255,255,0),#ffffff 75%)}.mwe-popups .mwe-popups-extract p{margin:0}.mwe-popups .mwe-popups-extract ul,.mwe-popups .mwe-popups-extract ol,.mwe-popups .mwe-popups-extract li,.mwe-popups .mwe-popups-extract dl,.mwe-popups .mwe-popups-extract dd,.mwe-popups .mwe-popups-extract dt{margin-top:0;margin-bottom:0}.mwe-popups svg{overflow:hidden}.mwe-popups.mwe-popups-is-tall{width:450px}.mwe-popups.mwe-popups-is-tall > div > a > svg{vertical-align:middle}.mwe-popups.mwe-popups-is-tall .mwe-popups-extract{width:215px;height:176px;overflow:hidden;float:right}.mwe-popups.mwe-popups-is-tall .mwe-popups-extract + footer{right:0;left:203px}.rtl .mwe-popups.mwe-popups-is-tall .mwe-popups-extract + footer{ right:-12px;width:215px}.mwe-popups.mwe-popups-is-not-tall{width:320px}.mwe-popups.mwe-popups-is-not-tall .mwe-popups-extract{min-height:58px;max-height:136px;overflow:hidden;margin-bottom:58px;padding-bottom:0}.mwe-popups.mwe-popups-is-not-tall footer{width:288px}.mwe-popups .mwe-popups-container.footer-empty .mwe-popups-extract{margin-bottom:16px}.mwe-popups .mwe-popups-container.footer-empty .mwe-popups-extract .mwe-popups-scroll{max-height:379px}.mwe-popups.flipped-y .mwe-popups-container.footer-empty .mwe-popups-extract,.mwe-popups.flipped-x-y .mwe-popups-container.footer-empty .mwe-popups-extract{margin-bottom:24px}.mwe-popups.mwe-popups-type-generic .mwe-popups-extract,.mwe-popups.mwe-popups-type-disambiguation .mwe-popups-extract{min-height:auto;padding-top:4px;margin-top:0;margin-bottom:var(--margin-bottom);--margin-bottom:60px}.mwe-popups.mwe-popups-type-generic .mwe-popups-read-link,.mwe-popups.mwe-popups-type-disambiguation .mwe-popups-read-link{font-weight:bold;font-size:12px}.mwe-popups.mwe-popups-type-generic .mwe-popups-extract:hover + footer .mwe-popups-read-link,.mwe-popups.mwe-popups-type-disambiguation .mwe-popups-extract:hover + footer .mwe-popups-read-link{text-decoration:underline}.mwe-popups.mwe-popups-no-image-pointer:before{content:'';position:absolute;border:8px solid transparent;border-top:0;border-bottom:8px solid rgba(0,0,0,0.07000000000000001);top:-8px;right:10px}.mwe-popups.mwe-popups-no-image-pointer:after{content:'';position:absolute;border:11px solid transparent;border-top:0;border-bottom:11px solid #ffffff;top:-7px;right:7px}.mwe-popups.flipped-x.mwe-popups-no-image-pointer:before{right:auto;left:10px}.mwe-popups.flipped-x.mwe-popups-no-image-pointer:after{right:auto;left:7px}.mwe-popups.mwe-popups-image-pointer:before{content:'';position:absolute;border:9px solid transparent;border-top:0;border-bottom:9px solid #a2a9b1;top:-9px;right:9px;z-index:111}.mwe-popups.mwe-popups-image-pointer:after{content:'';position:absolute;border:12px solid transparent;border-top:0;border-bottom:12px solid #ffffff;top:-8px;right:6px;z-index:112}.mwe-popups.mwe-popups-image-pointer.flipped-x:before{content:'';position:absolute;border:9px solid transparent;border-top:0;border-bottom:9px solid #a2a9b1;top:-9px;right:293px}.mwe-popups.mwe-popups-image-pointer.flipped-x:after{content:'';position:absolute;border:12px solid transparent;border-top:0;border-bottom:12px solid #ffffff;top:-8px;right:290px}.mwe-popups.mwe-popups-image-pointer .mwe-popups-extract{padding-top:16px;margin-top:200px}.mwe-popups.mwe-popups-image-pointer > div > a > svg{margin-top:-8px;position:absolute;z-index:113;right:0}.mwe-popups.flipped-x.mwe-popups-is-tall{min-height:242px}.mwe-popups.flipped-x.mwe-popups-is-tall:before{content:'';position:absolute;border:9px solid transparent;border-top:0;border-bottom:9px solid #a2a9b1;top:-9px;right:420px;z-index:111}.mwe-popups.flipped-x.mwe-popups-is-tall > div > a > svg{margin:0;margin-top:-8px;margin-bottom:-7px;position:absolute;z-index:113;left:0}.mwe-popups.flipped-x.mwe-popups-is-tall .mwe-popups-extract{margin-top:8px}.mwe-popups.flipped-x-y:before{content:'';position:absolute;border:9px solid transparent;border-bottom:0;border-top:9px solid #a2a9b1;bottom:-9px;right:293px;z-index:111}.mwe-popups.flipped-x-y:after{content:'';position:absolute;border:12px solid transparent;border-bottom:0;border-top:12px solid #ffffff;bottom:-8px;right:290px;z-index:112}.mwe-popups.flipped-x-y.mwe-popups-is-tall{min-height:242px}.mwe-popups.flipped-x-y.mwe-popups-is-tall:before{content:'';position:absolute;border:9px solid transparent;border-bottom:0;border-top:9px solid #a2a9b1;bottom:-9px;right:420px}.mwe-popups.flipped-x-y.mwe-popups-is-tall:after{content:'';position:absolute;border:12px solid transparent;border-bottom:0;border-top:12px solid #ffffff;bottom:-8px;right:417px}.mwe-popups.flipped-x-y.mwe-popups-is-tall > div > a > svg{margin:0;margin-bottom:-9px;position:absolute;z-index:113;left:0}.mwe-popups.flipped-y:before{content:'';position:absolute;border:8px solid transparent;border-bottom:0;border-top:8px solid #a2a9b1;bottom:-8px;right:10px}.mwe-popups.flipped-y:after{content:'';position:absolute;border:11px solid transparent;border-bottom:0;border-top:11px solid #ffffff;bottom:-7px;right:7px}.mwe-popups-is-tall polyline{transform:translate(0,0)}.mwe-popups-is-tall.flipped-x-y polyline{transform:translate(0,-8px)}.mwe-popups-is-tall.flipped-x polyline{transform:translate(0,8px)}.rtl .mwe-popups-is-tall polyline{transform:translate(100%,0)}.rtl .mwe-popups-is-tall.flipped-x-y polyline{transform:translate(100%,-8px)}.rtl .mwe-popups-is-tall.flipped-x polyline{transform:translate(100%,8px)}@supports (clip-path:polygon(1px 1px)){.mwe-popups .mwe-popups-thumbnail{display:block;object-fit:cover;outline:1px solid rgba(0,0,0,0.1)}.mwe-popups .mwe-popups-extract[dir='rtl'] + footer{ left:unset; right:0}.mwe-popups .mwe-popups-extract[dir='rtl'] + footer .mwe-popups-settings-icon{ float:left}.mwe-popups.flipped-y .mwe-popups-discreet,.mwe-popups.flipped-x-y .mwe-popups-discreet{margin-bottom:0}.mwe-popups.flipped-y .mwe-popups-container,.mwe-popups.flipped-x-y .mwe-popups-container{--y1:100%;--y2:calc(100% - var(--pointer-height));--y3:calc(100% - var(--pointer-height) - var(--pseudo-radius));--y4:var(--pseudo-radius);--y5:0;margin-bottom:-9px;margin-top:0}.mwe-popups .mwe-popups-container{--x1:0;--x2:var(--pseudo-radius);--x3:calc(var(--pointer-offset) - (var(--pointer-width) / 2));--x4:var(--pointer-offset);--x5:calc(var(--pointer-offset) + (var(--pointer-width) / 2));--x6:calc(100% - var(--pseudo-radius));--x7:100%;--y1:0;--y2:var(--pointer-height);--y3:calc(var(--pointer-height) + var(--pseudo-radius));--y4:calc(100% - var(--pseudo-radius));--y5:100%;padding-top:0;display:flex;background:#fff;--pseudo-radius:2px;--pointer-height:8px;--pointer-width:16px;--pointer-offset:26px;clip-path:polygon(var(--x2) var(--y2),var(--x3) var(--y2),var(--x4) var(--y1),var(--x5) var(--y2),var(--x6) var(--y2),var(--x7) var(--y3),var(--x7) var(--y4),var(--x6) var(--y5),var(--x2) var(--y5),var(--x1) var(--y4),var(--x1) var(--y3))}.mwe-popups.mwe-popups-is-tall{flex-direction:row}.mwe-popups.mwe-popups-is-tall .mwe-popups-discreet{order:1}.mwe-popups.mwe-popups-is-tall .mwe-popups-discreet .mwe-popups-thumbnail{width:203px;box-sizing:border-box;height:250px}.mwe-popups.mwe-popups-is-not-tall .mwe-popups-thumbnail{width:320px;height:192px}.mwe-popups.mwe-popups-is-not-tall .mwe-popups-container{flex-direction:column}.mwe-popups:before{display:none}.mwe-popups:after{display:none}.mwe-popups.mwe-popups-image-pointer .mwe-popups-discreet{margin-bottom:0}.mwe-popups.mwe-popups-image-pointer .mwe-popups-extract{margin-top:0}.mwe-popups:not(.flipped-y):not(.flipped-x-y):not(.mwe-popups-image-pointer):not(.mwe-popups-type-disambiguation) .mwe-popups-extract{padding-top:var(--pointer-height)}.mwe-popups.mwe-popups-type-generic:not(.flipped-y):not(.flipped-x-y) .mwe-popups-container,.mwe-popups.mwe-popups-type-disambiguation:not(.flipped-y):not(.flipped-x-y) .mwe-popups-container{padding-top:var(--pointer-height)}.mwe-popups.mwe-popups-type-generic:not(.flipped-y):not(.flipped-x-y) .mwe-popups-container .mwe-popups-extract,.mwe-popups.mwe-popups-type-disambiguation:not(.flipped-y):not(.flipped-x-y) .mwe-popups-container .mwe-popups-extract{margin-bottom:calc(var(--margin-bottom) - var(--pointer-height))}body.ltr .mwe-popups.flipped-x .mwe-popups-container,body.ltr .mwe-popups.flipped-x-y .mwe-popups-container,body.rtl .mwe-popups:not(.flipped-x):not(.flipped-x-y) .mwe-popups-container{--x3:calc(100% - var(--pointer-offset) - (var(--pointer-width) / 2));--x4:calc(100% - var(--pointer-offset));--x5:calc(100% - var(--pointer-offset) + (var(--pointer-width) / 2))}}.mwe-popups .mwe-popups-title{display:block;font-weight:bold;margin:0 16px}#mw-content-text .reference a[href*='#'] *{pointer-events:none}.mwe-popups.mwe-popups-type-reference .mwe-popups-title{margin:0 0 12px 0}.mwe-popups.mwe-popups-type-reference .mwe-popups-title .mw-ui-icon{padding:0 0 0 8px}.mwe-popups.mwe-popups-type-reference .mwe-popups-title .mw-ui-icon:hover{ background-color:transparent !important}.mwe-popups.mwe-popups-type-reference .mwe-popups-title .mw-ui-icon-reference-note{display:none}.mwe-popups.mwe-popups-type-reference .mwe-popups-extract{margin-left:0;max-height:inherit}.mwe-popups.mwe-popups-type-reference .mwe-popups-extract .mwe-popups-scroll{max-height:348px;overflow:auto;padding-left:16px}.mwe-popups.mwe-popups-type-reference .mwe-popups-extract .mw-parser-output{overflow-wrap:break-word}.mwe-popups.mwe-popups-type-reference .mwe-popups-extract:after{display:none}.mwe-popups.mwe-popups-type-reference .mwe-popups-extract .mwe-popups-fade{position:absolute;width:100%;height:20px;background-color:transparent;background-image:linear-gradient(rgba(255,255,255,0),#ffffff);opacity:0;pointer-events:none;transition:opacity 250ms ease}.mwe-popups.mwe-popups-type-reference .mwe-popups-extract.mwe-popups-fade-out .mwe-popups-fade{opacity:1}.mwe-popups.mwe-popups-type-reference .mwe-collapsible-placeholder{font-weight:bold;margin:1em 0;position:relative}.mwe-popups.mwe-popups-type-reference .mwe-collapsible-placeholder .mw-ui-icon{margin-right:-0.78em;position:absolute}.mwe-popups.mwe-popups-type-reference .mwe-collapsible-placeholder .mwe-collapsible-placeholder-label{margin-right:2.5em}.mwe-popups-overlay{background-color:rgba(255,255,255,0.9);z-index:999;position:fixed;height:100%;width:100%;top:0;bottom:0;right:0;left:0;display:flex;justify-content:center;align-items:center}#mwe-popups-svg{position:absolute;top:-1000px}</style><meta content=\"\" name=\"ResourceLoaderDynamicStyles\"/>\n",
              "<link href=\"./أخبار_مكوك صيني يكمل ٢٧٦ يوما بالفضاء - المعرفة_files/load(2).php\" rel=\"stylesheet\"/>\n",
              "<meta content=\"MediaWiki 1.39.2\" name=\"generator\"/>\n",
              "<meta content=\"telephone=no\" name=\"format-detection\"/>\n",
              "<meta content=\"summary\" name=\"twitter:card\"/>\n",
              "<meta content=\"@Marefa\" name=\"twitter:site\"/>\n",
              "<meta content=\"المعرفة\" property=\"og:site_name\"/>\n",
              "<meta content=\"أخبار:مكوك صيني يكمل ٢٧٦ يوما بالفضاء - المعرفة\" property=\"og:title\"/>\n",
              "<meta content=\"article\" property=\"og:type\"/>\n",
              "<meta content=\"https://www.marefa.org/%D8%A3%D8%AE%D8%A8%D8%A7%D8%B1:%D9%85%D9%83%D9%88%D9%83_%D8%B5%D9%8A%D9%86%D9%8A_%D9%8A%D9%83%D9%85%D9%84_%D9%A2%D9%A7%D9%A6_%D9%8A%D9%88%D9%85%D8%A7_%D8%A8%D8%A7%D9%84%D9%81%D8%B6%D8%A7%D8%A1\" property=\"og:url\"/>\n",
              "<meta content=\"https://www.marefa.org/w/images/3/34/%D9%85%D8%B1%D9%83%D8%A8%D8%A9_%D9%81%D8%B6%D8%A7%D8%A6%D9%8A%D8%A9_%D8%B5%D9%8A%D9%86%D9%8A%D8%A9_%D8%BA%D8%A7%D9%85%D8%B6%D8%A9_%D8%AA%D9%87%D8%A8%D8%B7_%D8%B9%D9%84%D9%89_%D8%A7%D9%84%D8%A3%D8%B1%D8%B6.jpg\" property=\"og:image\"/>\n",
              "<meta content=\"1200\" property=\"og:image:width\"/>\n",
              "<meta content=\"1131\" property=\"og:image:height\"/>\n",
              "<meta content=\"https://www.marefa.org/w/images/3/34/%D9%85%D8%B1%D9%83%D8%A8%D8%A9_%D9%81%D8%B6%D8%A7%D8%A6%D9%8A%D8%A9_%D8%B5%D9%8A%D9%86%D9%8A%D8%A9_%D8%BA%D8%A7%D9%85%D8%B6%D8%A9_%D8%AA%D9%87%D8%A8%D8%B7_%D8%B9%D9%84%D9%89_%D8%A7%D9%84%D8%A3%D8%B1%D8%B6.jpg\" property=\"og:image\"/>\n",
              "<meta content=\"800\" property=\"og:image:width\"/>\n",
              "<meta content=\"754\" property=\"og:image:height\"/>\n",
              "<meta content=\"640\" property=\"og:image:width\"/>\n",
              "<meta content=\"603\" property=\"og:image:height\"/>\n",
              "<meta content=\"width=1000\" name=\"viewport\"/>\n",
              "<link href=\"https://m.marefa.org/%D8%A3%D8%AE%D8%A8%D8%A7%D8%B1:%D9%85%D9%83%D9%88%D9%83_%D8%B5%D9%8A%D9%86%D9%8A_%D9%8A%D9%83%D9%85%D9%84_%D9%A2%D9%A7%D9%A6_%D9%8A%D9%88%D9%85%D8%A7_%D8%A8%D8%A7%D9%84%D9%81%D8%B6%D8%A7%D8%A1\" media=\"only screen and (max-width: 720px)\" rel=\"alternate\"/>\n",
              "<link href=\"https://www.marefa.org/apple-touch-icon.png\" rel=\"apple-touch-icon\"/>\n",
              "<link href=\"https://www.marefa.org/favicon.ico\" rel=\"icon\"/>\n",
              "<link href=\"https://www.marefa.org/w/opensearch_desc.php\" rel=\"search\" title=\"المعرفة (ar)\" type=\"application/opensearchdescription+xml\"/>\n",
              "<link href=\"https://www.marefa.org/w/api.php?action=rsd\" rel=\"EditURI\" type=\"application/rsd+xml\"/>\n",
              "<link href=\"https://www.marefa.org/%D8%A3%D8%AE%D8%A8%D8%A7%D8%B1:%D9%85%D9%83%D9%88%D9%83_%D8%B5%D9%8A%D9%86%D9%8A_%D9%8A%D9%83%D9%85%D9%84_%D9%A2%D9%A7%D9%A6_%D9%8A%D9%88%D9%85%D8%A7_%D8%A8%D8%A7%D9%84%D9%81%D8%B6%D8%A7%D8%A1\" rel=\"canonical\"/>\n",
              "<script type=\"text/javascript\">\n",
              "function clear_ad_wraper( adWrapper ) {\n",
              "\tif ( adWrapper && adWrapper.childNodes && adWrapper.childNodes[0] && adWrapper.childNodes[0].nodeType === 3 ) {\n",
              "\t\tadWrapper.childNodes[0].nodeValue = '';\n",
              "\t}\n",
              "}\n",
              "function marefa_get_ins( adWrapper, slot, layout, format ) {\n",
              "\tif ( typeof marefaMobileMode !== \"undefined\" ) { // Mobile version\n",
              "\t\tclear_ad_wraper( adWrapper );\n",
              "\t\treturn '<ins class=\"adsbygoogle\" style=\"display:block; text-align:center;\" data-ad-layout=\"' + layout + '\" data-ad-format=\"' + format + '\" data-ad-slot=\"' + slot + '\" data-ad-client=\"ca-pub-5007306297648877\"></ins>';\n",
              "\t}\n",
              "\t// Desktop version\n",
              "\tvar adWidth = adWrapper && (adWrapper.getBoundingClientRect().width || adWrapper.offsetWidth);\n",
              "\tclear_ad_wraper( adWrapper );\n",
              "\tif ( adWidth >= 970 )\n",
              "\t\tgoogle_ad_size = [\"970\", \"90\"];\n",
              "    else if ( adWidth >= 728 )\n",
              "\t\tgoogle_ad_size = [\"728\", \"90\"];\n",
              "    else if ( adWidth >= 468 )\n",
              "\t\tgoogle_ad_size = [\"468\", \"60\"];\n",
              "    else if ( adWidth >= 336 )\n",
              "\t\tgoogle_ad_size = [\"336\", \"280\"];\n",
              "    else if ( adWidth >= 300 )\n",
              "\t\tgoogle_ad_size = [\"300\", \"250\"];\n",
              "    else if ( adWidth >= 250 )\n",
              "\t\tgoogle_ad_size = [\"250\", \"250\"];\n",
              "    else if ( adWidth >= 200 )\n",
              "\t\tgoogle_ad_size = [\"200\", \"200\"];\n",
              "    else if ( adWidth >= 180 )\n",
              "\t\tgoogle_ad_size = [\"180\", \"150\"];\n",
              "    else\n",
              "\t\tgoogle_ad_size = [\"125\", \"125\"];\n",
              "\n",
              "\treturn '<ins class=\"adsbygoogle\" style=\"display:inline-block; width:' + google_ad_size[0] + 'px; height:' + google_ad_size[1] + 'px; flex: auto; text-align:center;\" data-ad-slot=\"' + slot + '\" data-ad-client=\"ca-pub-5007306297648877\"></ins>';\n",
              "}\n",
              "</script>\n",
              "<meta content=\"بعد 276 يوماً من إتمام مهمته ..مكوك صيني غامض يعود إلى الأرض. في 8 مايو 2023، أكمل مكوك صيني تجريبي غامض، غير مأهول وقابل لإعادة الاستخدام مهمته الثانية بعد بقائه في المدار لمدة 276 يوماً، وفقاً للإعل\" name=\"description\" property=\"og:description\"/>\n",
              "<meta content=\"A7CQXglZzTrThjGTBEn1rWTxHOEtkWivwzgea+NjyardrwlieSjVuyG44PkYgIPGs8Q9svD8sF3Yedn0BBBjXAkAAACFeyJvcmlnaW4iOiJodHRwczovL2RvdWJsZWNsaWNrLm5ldDo0NDMiLCJmZWF0dXJlIjoiUHJpdmFjeVNhbmRib3hBZHNBUElzIiwiZXhwaXJ5IjoxNjk1MTY3OTk5LCJpc1N1YmRvbWFpbiI6dHJ1ZSwiaXNUaGlyZFBhcnR5Ijp0cnVlfQ==\" http-equiv=\"origin-trial\"/><meta content=\"A3vKT9yxRPjmXN3DpIiz58f5JykcWHjUo/W7hvmtjgh9jPpQgem9VbADiNovG8NkO6mRmk70Kex8/KUqAYWVWAEAAACLeyJvcmlnaW4iOiJodHRwczovL2dvb2dsZXN5bmRpY2F0aW9uLmNvbTo0NDMiLCJmZWF0dXJlIjoiUHJpdmFjeVNhbmRib3hBZHNBUElzIiwiZXhwaXJ5IjoxNjk1MTY3OTk5LCJpc1N1YmRvbWFpbiI6dHJ1ZSwiaXNUaGlyZFBhcnR5Ijp0cnVlfQ==\" http-equiv=\"origin-trial\"/><meta content=\"A4A26Ymj79UVY7C7JGUS4BG1s7MdcDokAQf/RP0paks+RoTYbXHxceT/5L4iKcsleFCngi75YfNRGW2+SpVv1ggAAACLeyJvcmlnaW4iOiJodHRwczovL2dvb2dsZXRhZ3NlcnZpY2VzLmNvbTo0NDMiLCJmZWF0dXJlIjoiUHJpdmFjeVNhbmRib3hBZHNBUElzIiwiZXhwaXJ5IjoxNjk1MTY3OTk5LCJpc1N1YmRvbWFpbiI6dHJ1ZSwiaXNUaGlyZFBhcnR5Ijp0cnVlfQ==\" http-equiv=\"origin-trial\"/><meta content=\"As0hBNJ8h++fNYlkq8cTye2qDLyom8NddByiVytXGGD0YVE+2CEuTCpqXMDxdhOMILKoaiaYifwEvCRlJ/9GcQ8AAAB8eyJvcmlnaW4iOiJodHRwczovL2RvdWJsZWNsaWNrLm5ldDo0NDMiLCJmZWF0dXJlIjoiV2ViVmlld1hSZXF1ZXN0ZWRXaXRoRGVwcmVjYXRpb24iLCJleHBpcnkiOjE3MTk1MzI3OTksImlzU3ViZG9tYWluIjp0cnVlfQ==\" http-equiv=\"origin-trial\"/><meta content=\"AgRYsXo24ypxC89CJanC+JgEmraCCBebKl8ZmG7Tj5oJNx0cmH0NtNRZs3NB5ubhpbX/bIt7l2zJOSyO64NGmwMAAACCeyJvcmlnaW4iOiJodHRwczovL2dvb2dsZXN5bmRpY2F0aW9uLmNvbTo0NDMiLCJmZWF0dXJlIjoiV2ViVmlld1hSZXF1ZXN0ZWRXaXRoRGVwcmVjYXRpb24iLCJleHBpcnkiOjE3MTk1MzI3OTksImlzU3ViZG9tYWluIjp0cnVlfQ==\" http-equiv=\"origin-trial\"/><meta content=\"A7CQXglZzTrThjGTBEn1rWTxHOEtkWivwzgea+NjyardrwlieSjVuyG44PkYgIPGs8Q9svD8sF3Yedn0BBBjXAkAAACFeyJvcmlnaW4iOiJodHRwczovL2RvdWJsZWNsaWNrLm5ldDo0NDMiLCJmZWF0dXJlIjoiUHJpdmFjeVNhbmRib3hBZHNBUElzIiwiZXhwaXJ5IjoxNjk1MTY3OTk5LCJpc1N1YmRvbWFpbiI6dHJ1ZSwiaXNUaGlyZFBhcnR5Ijp0cnVlfQ==\" http-equiv=\"origin-trial\"/><meta content=\"A3vKT9yxRPjmXN3DpIiz58f5JykcWHjUo/W7hvmtjgh9jPpQgem9VbADiNovG8NkO6mRmk70Kex8/KUqAYWVWAEAAACLeyJvcmlnaW4iOiJodHRwczovL2dvb2dsZXN5bmRpY2F0aW9uLmNvbTo0NDMiLCJmZWF0dXJlIjoiUHJpdmFjeVNhbmRib3hBZHNBUElzIiwiZXhwaXJ5IjoxNjk1MTY3OTk5LCJpc1N1YmRvbWFpbiI6dHJ1ZSwiaXNUaGlyZFBhcnR5Ijp0cnVlfQ==\" http-equiv=\"origin-trial\"/><meta content=\"A4A26Ymj79UVY7C7JGUS4BG1s7MdcDokAQf/RP0paks+RoTYbXHxceT/5L4iKcsleFCngi75YfNRGW2+SpVv1ggAAACLeyJvcmlnaW4iOiJodHRwczovL2dvb2dsZXRhZ3NlcnZpY2VzLmNvbTo0NDMiLCJmZWF0dXJlIjoiUHJpdmFjeVNhbmRib3hBZHNBUElzIiwiZXhwaXJ5IjoxNjk1MTY3OTk5LCJpc1N1YmRvbWFpbiI6dHJ1ZSwiaXNUaGlyZFBhcnR5Ijp0cnVlfQ==\" http-equiv=\"origin-trial\"/><meta content=\"As0hBNJ8h++fNYlkq8cTye2qDLyom8NddByiVytXGGD0YVE+2CEuTCpqXMDxdhOMILKoaiaYifwEvCRlJ/9GcQ8AAAB8eyJvcmlnaW4iOiJodHRwczovL2RvdWJsZWNsaWNrLm5ldDo0NDMiLCJmZWF0dXJlIjoiV2ViVmlld1hSZXF1ZXN0ZWRXaXRoRGVwcmVjYXRpb24iLCJleHBpcnkiOjE3MTk1MzI3OTksImlzU3ViZG9tYWluIjp0cnVlfQ==\" http-equiv=\"origin-trial\"/><meta content=\"AgRYsXo24ypxC89CJanC+JgEmraCCBebKl8ZmG7Tj5oJNx0cmH0NtNRZs3NB5ubhpbX/bIt7l2zJOSyO64NGmwMAAACCeyJvcmlnaW4iOiJodHRwczovL2dvb2dsZXN5bmRpY2F0aW9uLmNvbTo0NDMiLCJmZWF0dXJlIjoiV2ViVmlld1hSZXF1ZXN0ZWRXaXRoRGVwcmVjYXRpb24iLCJleHBpcnkiOjE3MTk1MzI3OTksImlzU3ViZG9tYWluIjp0cnVlfQ==\" http-equiv=\"origin-trial\"/><meta content=\"A7CQXglZzTrThjGTBEn1rWTxHOEtkWivwzgea+NjyardrwlieSjVuyG44PkYgIPGs8Q9svD8sF3Yedn0BBBjXAkAAACFeyJvcmlnaW4iOiJodHRwczovL2RvdWJsZWNsaWNrLm5ldDo0NDMiLCJmZWF0dXJlIjoiUHJpdmFjeVNhbmRib3hBZHNBUElzIiwiZXhwaXJ5IjoxNjk1MTY3OTk5LCJpc1N1YmRvbWFpbiI6dHJ1ZSwiaXNUaGlyZFBhcnR5Ijp0cnVlfQ==\" http-equiv=\"origin-trial\"/><meta content=\"A3vKT9yxRPjmXN3DpIiz58f5JykcWHjUo/W7hvmtjgh9jPpQgem9VbADiNovG8NkO6mRmk70Kex8/KUqAYWVWAEAAACLeyJvcmlnaW4iOiJodHRwczovL2dvb2dsZXN5bmRpY2F0aW9uLmNvbTo0NDMiLCJmZWF0dXJlIjoiUHJpdmFjeVNhbmRib3hBZHNBUElzIiwiZXhwaXJ5IjoxNjk1MTY3OTk5LCJpc1N1YmRvbWFpbiI6dHJ1ZSwiaXNUaGlyZFBhcnR5Ijp0cnVlfQ==\" http-equiv=\"origin-trial\"/><meta content=\"A4A26Ymj79UVY7C7JGUS4BG1s7MdcDokAQf/RP0paks+RoTYbXHxceT/5L4iKcsleFCngi75YfNRGW2+SpVv1ggAAACLeyJvcmlnaW4iOiJodHRwczovL2dvb2dsZXRhZ3NlcnZpY2VzLmNvbTo0NDMiLCJmZWF0dXJlIjoiUHJpdmFjeVNhbmRib3hBZHNBUElzIiwiZXhwaXJ5IjoxNjk1MTY3OTk5LCJpc1N1YmRvbWFpbiI6dHJ1ZSwiaXNUaGlyZFBhcnR5Ijp0cnVlfQ==\" http-equiv=\"origin-trial\"/><meta content=\"As0hBNJ8h++fNYlkq8cTye2qDLyom8NddByiVytXGGD0YVE+2CEuTCpqXMDxdhOMILKoaiaYifwEvCRlJ/9GcQ8AAAB8eyJvcmlnaW4iOiJodHRwczovL2RvdWJsZWNsaWNrLm5ldDo0NDMiLCJmZWF0dXJlIjoiV2ViVmlld1hSZXF1ZXN0ZWRXaXRoRGVwcmVjYXRpb24iLCJleHBpcnkiOjE3MTk1MzI3OTksImlzU3ViZG9tYWluIjp0cnVlfQ==\" http-equiv=\"origin-trial\"/><meta content=\"AgRYsXo24ypxC89CJanC+JgEmraCCBebKl8ZmG7Tj5oJNx0cmH0NtNRZs3NB5ubhpbX/bIt7l2zJOSyO64NGmwMAAACCeyJvcmlnaW4iOiJodHRwczovL2dvb2dsZXN5bmRpY2F0aW9uLmNvbTo0NDMiLCJmZWF0dXJlIjoiV2ViVmlld1hSZXF1ZXN0ZWRXaXRoRGVwcmVjYXRpb24iLCJleHBpcnkiOjE3MTk1MzI3OTksImlzU3ViZG9tYWluIjp0cnVlfQ==\" http-equiv=\"origin-trial\"/><link as=\"script\" href=\"./أخبار_مكوك صيني يكمل ٢٧٦ يوما بالفضاء - المعرفة_files/f(12).txt\" rel=\"preload\"/><script src=\"./أخبار_مكوك صيني يكمل ٢٧٦ يوما بالفضاء - المعرفة_files/f(12).txt\" type=\"text/javascript\"></script><link as=\"script\" href=\"./أخبار_مكوك صيني يكمل ٢٧٦ يوما بالفضاء - المعرفة_files/f(13).txt\" rel=\"preload\"/><script src=\"./أخبار_مكوك صيني يكمل ٢٧٦ يوما بالفضاء - المعرفة_files/f(13).txt\" type=\"text/javascript\"></script></head>\n",
              "<body class=\"mediawiki rtl sitedir-rtl mw-hide-empty-elt ns-3000 ns-subject page-أخبار_مكوك_صيني_يكمل_٢٧٦_يوما_بالفضاء rootpage-أخبار_مكوك_صيني_يكمل_٢٧٦_يوما_بالفضاء skin-nimbus action-view approvedRevs-noapprovedrev\" data-gr-ext-installed=\"\" data-new-gr-c-s-check-loaded=\"14.1110.0\" style=\"padding: 0px;\"><div id=\"container\" style=\"height: auto !important;\">\n",
              "<header class=\"noprint\" id=\"header\">\n",
              "<ul>\n",
              "<li class=\"mw-list-item\" id=\"pt-createaccount\"><a href=\"https://www.marefa.org/w/index.php?title=%D8%AE%D8%A7%D8%B5:%D8%A5%D9%86%D8%B4%D8%A7%D8%A1_%D8%AD%D8%B3%D8%A7%D8%A8&amp;returnto=%D8%A3%D8%AE%D8%A8%D8%A7%D8%B1%3A%D9%85%D9%83%D9%88%D9%83+%D8%B5%D9%8A%D9%86%D9%8A+%D9%8A%D9%83%D9%85%D9%84+%D9%A2%D9%A7%D9%A6+%D9%8A%D9%88%D9%85%D8%A7+%D8%A8%D8%A7%D9%84%D9%81%D8%B6%D8%A7%D8%A1\" title=\"نشجعك على عمل حساب وتسجيل دخولك؛ لكنه غير ضروري على اي حال\">إنشاء حساب</a></li><li class=\"mw-list-item\" id=\"pt-login\"><a accesskey=\"o\" href=\"https://www.marefa.org/w/index.php?title=%D8%AE%D8%A7%D8%B5:%D8%AF%D8%AE%D9%88%D9%84_%D8%A7%D9%84%D9%85%D8%B3%D8%AA%D8%AE%D8%AF%D9%85&amp;returnto=%D8%A3%D8%AE%D8%A8%D8%A7%D8%B1%3A%D9%85%D9%83%D9%88%D9%83+%D8%B5%D9%8A%D9%86%D9%8A+%D9%8A%D9%83%D9%85%D9%84+%D9%A2%D9%A7%D9%A6+%D9%8A%D9%88%D9%85%D8%A7+%D8%A8%D8%A7%D9%84%D9%81%D8%B6%D8%A7%D8%A1\" title=\"من المفضل أن تقوم بتسجيل الدخول، هذا ليس إلزاميا. [ctrl-option-o]\">دخول</a></li>\n",
              "</ul>\n",
              "</header>\n",
              "<div class=\"noprint\" id=\"site-header\">\n",
              "<div id=\"site-logo\" role=\"banner\">\n",
              "<a href=\"https://www.marefa.org/%D8%A7%D9%84%D8%B5%D9%81%D8%AD%D8%A9_%D8%A7%D9%84%D8%B1%D8%A6%D9%8A%D8%B3%D9%8A%D8%A9\" rel=\"nofollow\" title=\"\">\n",
              "<img alt=\"\" src=\"./أخبار_مكوك صيني يكمل ٢٧٦ يوما بالفضاء - المعرفة_files/135px-Marefa_site_logo.png\"/>\n",
              "</a>\n",
              "</div>\n",
              "</div>\n",
              "<div id=\"body-container\" style=\"height: auto !important;\">\n",
              "<div class=\"noprint\" id=\"action-bar\">\n",
              "<ul>\n",
              "<li class=\"selected mw-list-item\" id=\"ca-nstab-أخبار\"><a href=\"https://www.marefa.org/%D8%A3%D8%AE%D8%A8%D8%A7%D8%B1:%D9%85%D9%83%D9%88%D9%83_%D8%B5%D9%8A%D9%86%D9%8A_%D9%8A%D9%83%D9%85%D9%84_%D9%A2%D9%A7%D9%A6_%D9%8A%D9%88%D9%85%D8%A7_%D8%A8%D8%A7%D9%84%D9%81%D8%B6%D8%A7%D8%A1\">أخبار</a></li><li class=\"new mw-list-item\" id=\"ca-talk\"><a accesskey=\"t\" href=\"https://www.marefa.org/w/index.php?title=%D9%86%D9%82%D8%A7%D8%B4_%D8%A3%D8%AE%D8%A8%D8%A7%D8%B1:%D9%85%D9%83%D9%88%D9%83_%D8%B5%D9%8A%D9%86%D9%8A_%D9%8A%D9%83%D9%85%D9%84_%D9%A2%D9%A7%D9%A6_%D9%8A%D9%88%D9%85%D8%A7_%D8%A8%D8%A7%D9%84%D9%81%D8%B6%D8%A7%D8%A1&amp;action=edit&amp;redlink=1\" rel=\"discussion\" title=\"نقاش حول صفحة المقال (الصفحة غير موجودة) [ctrl-option-t]\">ناقش هذه الصفحة</a></li>\n",
              "<li class=\"selected mw-list-item\" id=\"ca-view\"><a href=\"https://www.marefa.org/%D8%A3%D8%AE%D8%A8%D8%A7%D8%B1:%D9%85%D9%83%D9%88%D9%83_%D8%B5%D9%8A%D9%86%D9%8A_%D9%8A%D9%83%D9%85%D9%84_%D9%A2%D9%A7%D9%A6_%D9%8A%D9%88%D9%85%D8%A7_%D8%A8%D8%A7%D9%84%D9%81%D8%B6%D8%A7%D8%A1\">اقرأ</a></li><li class=\"mw-list-item\" id=\"ca-viewsource\"><a accesskey=\"e\" href=\"https://www.marefa.org/w/index.php?title=%D8%A3%D8%AE%D8%A8%D8%A7%D8%B1:%D9%85%D9%83%D9%88%D9%83_%D8%B5%D9%8A%D9%86%D9%8A_%D9%8A%D9%83%D9%85%D9%84_%D9%A2%D9%A7%D9%A6_%D9%8A%D9%88%D9%85%D8%A7_%D8%A8%D8%A7%D9%84%D9%81%D8%B6%D8%A7%D8%A1&amp;action=edit\" title=\"هذه الصفحة محمية، يمكنك رؤية المصدر النصي لها. [ctrl-option-e]\">عرض المصدر</a></li><li class=\"mw-list-item\" id=\"ca-history\"><a accesskey=\"h\" href=\"https://www.marefa.org/w/index.php?title=%D8%A3%D8%AE%D8%A8%D8%A7%D8%B1:%D9%85%D9%83%D9%88%D9%83_%D8%B5%D9%8A%D9%86%D9%8A_%D9%8A%D9%83%D9%85%D9%84_%D9%A2%D9%A7%D9%A6_%D9%8A%D9%88%D9%85%D8%A7_%D8%A8%D8%A7%D9%84%D9%81%D8%B6%D8%A7%D8%A1&amp;action=history\" title=\"النسخ السابقة من هذه الصفحة [ctrl-option-h]\">تاريخ</a></li>\n",
              "<li class=\"mw-list-item\" id=\"more-tab\">\n",
              "<span title=\"المزيد من الخيارات\">المزيد</span>\n",
              "<div class=\"article-more-actions\" id=\"article-more-container\" style=\"display:none\">\n",
              "<ul>\n",
              "<li class=\"mw-list-item\" id=\"p-tb\"><span>أدوات</span></li>\n",
              "<li class=\"mw-list-item\" id=\"t-whatlinkshere\"><a accesskey=\"j\" href=\"https://www.marefa.org/%D8%AE%D8%A7%D8%B5:%D9%85%D8%A7%D8%B0%D8%A7_%D9%8A%D8%B5%D9%84_%D9%87%D9%86%D8%A7/%D8%A3%D8%AE%D8%A8%D8%A7%D8%B1:%D9%85%D9%83%D9%88%D9%83_%D8%B5%D9%8A%D9%86%D9%8A_%D9%8A%D9%83%D9%85%D9%84_%D9%A2%D9%A7%D9%A6_%D9%8A%D9%88%D9%85%D8%A7_%D8%A8%D8%A7%D9%84%D9%81%D8%B6%D8%A7%D8%A1\" title=\"قائمة بكل الصفحات التي تصل هنا [ctrl-option-j]\">ماذا يرتبط هنا؟</a></li><li class=\"mw-list-item\" id=\"t-recentchangeslinked\"><a accesskey=\"k\" href=\"https://www.marefa.org/%D8%AE%D8%A7%D8%B5:%D8%A3%D8%AD%D8%AF%D8%AB_%D8%A7%D9%84%D8%AA%D8%BA%D9%8A%D9%8A%D8%B1%D8%A7%D8%AA_%D8%A7%D9%84%D9%85%D9%88%D8%B5%D9%88%D9%84%D8%A9/%D8%A3%D8%AE%D8%A8%D8%A7%D8%B1:%D9%85%D9%83%D9%88%D9%83_%D8%B5%D9%8A%D9%86%D9%8A_%D9%8A%D9%83%D9%85%D9%84_%D9%A2%D9%A7%D9%A6_%D9%8A%D9%88%D9%85%D8%A7_%D8%A8%D8%A7%D9%84%D9%81%D8%B6%D8%A7%D8%A1\" rel=\"nofollow\" title=\"أحدث التغييرات في الصفحات الموجودة وصلاتها هنا. [ctrl-option-k]\">تغييرات ذات علاقة</a></li><li class=\"mw-list-item\" id=\"t-specialpages\"><a accesskey=\"q\" href=\"https://www.marefa.org/%D8%AE%D8%A7%D8%B5:%D8%B5%D9%81%D8%AD%D8%A7%D8%AA_%D8%AE%D8%A7%D8%B5%D8%A9\" title=\"قائمة بكل الصفحات الخاصة [ctrl-option-q]\">الصفحات الخاصّة</a></li><li class=\"mw-list-item\" id=\"t-print\"><a accesskey=\"p\" href=\"javascript:print();\" rel=\"alternate\" title=\"نسخة للطباعة لهذه الصفحة [ctrl-option-p]\">نسخة للطباعة</a></li><li class=\"mw-list-item\" id=\"t-permalink\"><a href=\"https://www.marefa.org/w/index.php?title=%D8%A3%D8%AE%D8%A8%D8%A7%D8%B1:%D9%85%D9%83%D9%88%D9%83_%D8%B5%D9%8A%D9%86%D9%8A_%D9%8A%D9%83%D9%85%D9%84_%D9%A2%D9%A7%D9%A6_%D9%8A%D9%88%D9%85%D8%A7_%D8%A8%D8%A7%D9%84%D9%81%D8%B6%D8%A7%D8%A1&amp;oldid=2916614\" title=\"وصلة دائمة لهذه النسخة من الصفحة\">وصلة دائمة</a></li><li class=\"mw-list-item\" id=\"t-info\"><a href=\"https://www.marefa.org/w/index.php?title=%D8%A3%D8%AE%D8%A8%D8%A7%D8%B1:%D9%85%D9%83%D9%88%D9%83_%D8%B5%D9%8A%D9%86%D9%8A_%D9%8A%D9%83%D9%85%D9%84_%D9%A2%D9%A7%D9%A6_%D9%8A%D9%88%D9%85%D8%A7_%D8%A8%D8%A7%D9%84%D9%81%D8%B6%D8%A7%D8%A1&amp;action=info\" title=\"المزيد من المعلومات عن هذه الصفحة\">معلومات عن هذه الصفحة</a></li>\n",
              "</ul>\n",
              "</div>\n",
              "</li>\n",
              "</ul>\n",
              "</div>\n",
              "<div id=\"article\" style=\"height: auto !important;\">\n",
              "<main class=\"mw-body-content\" id=\"article-body\" style=\"height: auto !important;\">\n",
              "<div id=\"siteNotice\"></div>\n",
              "<script async=\"\" crossorigin=\"anonymous\" data-checked-head=\"true\" src=\"./أخبار_مكوك صيني يكمل ٢٧٦ يوما بالفضاء - المعرفة_files/f(14).txt\"></script>\n",
              "<!-- Marefa Top Leaderboard -->\n",
              "<ins class=\"adsbygoogle\" data-ad-client=\"ca-pub-5007306297648877\" data-ad-slot=\"1447935661\" data-ad-status=\"filled\" data-adsbygoogle-status=\"done\" style=\"display:inline-block;width:970px;height:90px\"><div aria-label=\"Advertisement\" id=\"aswift_2_host\" style=\"border: none; height: 90px; width: 970px; margin: 0px; padding: 0px; position: relative; visibility: visible; background-color: transparent; display: inline-block;\" tabindex=\"0\" title=\"Advertisement\"><iframe allowtransparency=\"true\" data-google-container-id=\"a!3\" data-google-query-id=\"CICSsp7T-_4CFUUkwQodWREFMg\" data-load-complete=\"true\" frameborder=\"0\" height=\"90\" hspace=\"0\" id=\"aswift_2\" marginheight=\"0\" marginwidth=\"0\" name=\"aswift_2\" sandbox=\"allow-forms allow-popups allow-popups-to-escape-sandbox allow-same-origin allow-scripts allow-top-navigation-by-user-activation\" scrolling=\"no\" src=\"./أخبار_مكوك صيني يكمل ٢٧٦ يوما بالفضاء - المعرفة_files/ads(1).html\" style=\"left:0;position:absolute;top:0;border:0;width:970px;height:90px;\" vspace=\"0\" width=\"970\"></iframe></div></ins>\n",
              "<script>\n",
              "\t     (adsbygoogle = window.adsbygoogle || []).push({});\n",
              "\t</script>\n",
              "<div class=\"clearfix ve-init-mw-desktopArticleTarget-targetContainer\" id=\"content\" style=\"height: auto !important;\">\n",
              "<div class=\"mw-indicators\">\n",
              "</div>\n",
              "<h1 class=\"firstHeading mw-first-heading\" id=\"firstHeading\"><span class=\"mw-page-title-namespace\">أخبار</span><span class=\"mw-page-title-separator\">:</span><span class=\"mw-page-title-main\">مكوك صيني يكمل ٢٧٦ يوما بالفضاء</span></h1>\n",
              "<div id=\"siteSub\"></div>\n",
              "<div id=\"contentSub\"></div>\n",
              "<!-- start content -->\n",
              "<div class=\"mw-body-content mw-content-rtl\" dir=\"rtl\" id=\"mw-content-text\" lang=\"ar\" style=\"height: auto !important;\"><div class=\"mw-parser-output\"><div class=\"thumb tleft\"><div class=\"thumbinner\" style=\"width:302px;\"><a class=\"image\" href=\"https://www.marefa.org/w/index.php?title=%D9%85%D9%84%D9%81:%D9%85%D8%B1%D9%83%D8%A8%D8%A9_%D9%81%D8%B6%D8%A7%D8%A6%D9%8A%D8%A9_%D8%B5%D9%8A%D9%86%D9%8A%D8%A9_%D8%BA%D8%A7%D9%85%D8%B6%D8%A9_%D8%AA%D9%87%D8%A8%D8%B7_%D8%B9%D9%84%D9%89_%D8%A7%D9%84%D8%A3%D8%B1%D8%B6.jpg&amp;filetimestamp=20230509094042&amp;\"><img alt=\"مركبة فضائية صينية غامضة تهبط على الأرض.jpg\" class=\"thumbimage\" data-file-height=\"526\" data-file-width=\"558\" decoding=\"async\" height=\"283\" src=\"./أخبار_مكوك صيني يكمل ٢٧٦ يوما بالفضاء - المعرفة_files/300px-مركبة_فضائية_صينية_غامضة_تهبط_على_الأرض.jpg\" srcset=\"/w/images/thumb/3/34/%D9%85%D8%B1%D9%83%D8%A8%D8%A9_%D9%81%D8%B6%D8%A7%D8%A6%D9%8A%D8%A9_%D8%B5%D9%8A%D9%86%D9%8A%D8%A9_%D8%BA%D8%A7%D9%85%D8%B6%D8%A9_%D8%AA%D9%87%D8%A8%D8%B7_%D8%B9%D9%84%D9%89_%D8%A7%D9%84%D8%A3%D8%B1%D8%B6.jpg/450px-%D9%85%D8%B1%D9%83%D8%A8%D8%A9_%D9%81%D8%B6%D8%A7%D8%A6%D9%8A%D8%A9_%D8%B5%D9%8A%D9%86%D9%8A%D8%A9_%D8%BA%D8%A7%D9%85%D8%B6%D8%A9_%D8%AA%D9%87%D8%A8%D8%B7_%D8%B9%D9%84%D9%89_%D8%A7%D9%84%D8%A3%D8%B1%D8%B6.jpg 1.5x, /w/images/3/34/%D9%85%D8%B1%D9%83%D8%A8%D8%A9_%D9%81%D8%B6%D8%A7%D8%A6%D9%8A%D8%A9_%D8%B5%D9%8A%D9%86%D9%8A%D8%A9_%D8%BA%D8%A7%D9%85%D8%B6%D8%A9_%D8%AA%D9%87%D8%A8%D8%B7_%D8%B9%D9%84%D9%89_%D8%A7%D9%84%D8%A3%D8%B1%D8%B6.jpg 2x\" width=\"300\"/></a> <div class=\"thumbcaption\"><div class=\"magnify\"><a class=\"internal\" href=\"https://www.marefa.org/w/index.php?title=%D9%85%D9%84%D9%81:%D9%85%D8%B1%D9%83%D8%A8%D8%A9_%D9%81%D8%B6%D8%A7%D8%A6%D9%8A%D8%A9_%D8%B5%D9%8A%D9%86%D9%8A%D8%A9_%D8%BA%D8%A7%D9%85%D8%B6%D8%A9_%D8%AA%D9%87%D8%A8%D8%B7_%D8%B9%D9%84%D9%89_%D8%A7%D9%84%D8%A3%D8%B1%D8%B6.jpg&amp;filetimestamp=20230509094042\" title=\"تكبير\"></a></div>يُقال أنه مكان هبوط المكوك الصيني الغامض العائد إلى الأرض بعد 276 يوماً (8 مايو 2023)</div></div></div>\n",
              "<ul><li>بعد 276 يوماً من إتمام مهمته ..<a href=\"https://www.marefa.org/%D9%85%D9%83%D9%88%D9%83_%D9%81%D8%B6%D8%A7%D8%A1\" title=\"مكوك فضاء\">مكوك</a> صيني غامض يعود إلى الأرض.</li></ul>\n",
              "<p>في <a href=\"https://www.marefa.org/8_%D9%85%D8%A7%D9%8A%D9%88\" title=\"8 مايو\">8 مايو</a> <a href=\"https://www.marefa.org/2023\" title=\"2023\">2023</a>، أكمل <a href=\"https://www.marefa.org/%D9%85%D9%83%D9%88%D9%83_%D9%81%D8%B6%D8%A7%D8%A1\" title=\"مكوك فضاء\">مكوك</a> صيني تجريبي غامض، <a class=\"mw-redirect\" href=\"https://www.marefa.org/%D9%85%D8%B1%D9%83%D8%A8%D8%A9_%D8%AC%D9%88%D9%8A%D8%A9_%D8%BA%D9%8A%D8%B1_%D9%85%D8%A3%D9%87%D9%88%D9%84%D8%A9\" title=\"مركبة جوية غير مأهولة\">غير مأهول</a> وقابل لإعادة الاستخدام مهمته الثانية بعد بقائه في المدار لمدة 276 يوماً، وفقاً للإعلام الرسمي الصيني.<sup class=\"reference\" id=\"cite_ref-1\"><a href=\"https://www.marefa.org/%D8%A3%D8%AE%D8%A8%D8%A7%D8%B1:%D9%85%D9%83%D9%88%D9%83_%D8%B5%D9%8A%D9%86%D9%8A_%D9%8A%D9%83%D9%85%D9%84_%D9%A2%D9%A7%D9%A6_%D9%8A%D9%88%D9%85%D8%A7_%D8%A8%D8%A7%D9%84%D9%81%D8%B6%D8%A7%D8%A1#cite_note-1\">[1]</a></sup>\n",
              "</p><p>وترتبط أهمية المكوك بندرة المعلومات المعلنة عنه، ورغم شك الخبراء بأنه يمكن استخدامه للتدخل في <a href=\"https://www.marefa.org/%D8%B3%D8%A7%D8%AA%D9%84\" title=\"ساتل\">السواتل</a> الموجودة بالمدار.\n",
              "ولم تصدر السلطات الصينية الكثير من التفاصيل علناً حول المكوك أو المهمة الثانية، باستثناء مدة البقاء في المدار، وأنه تم إطلاقه من مركز إطلاق السواتل في <a href=\"https://www.marefa.org/%D8%AC%D9%8A%D9%88%DA%86%D9%88%D8%A7%D9%86\" title=\"جيوچوان\">جيوتشوان</a> في <a href=\"https://www.marefa.org/%D8%B5%D8%AD%D8%B1%D8%A7%D8%A1_%DA%AF%D9%88%D8%A8%D9%8A\" title=\"صحراء گوبي\">صحراء غوبي</a> على متن صاروخ \"<a href=\"https://www.marefa.org/%D9%84%D9%88%D9%86%DA%AF_%D9%85%D8%A7%D8%B1%D8%B4_2%D8%A5%D9%81\" title=\"لونگ مارش 2إف\">لونغ مارش-2 إف</a>\" في أغسطس 2022.\n",
              "</p><p>كنا ذكرت وسائل الإعلام الرسمية أن الاختبار يشكل اختراقاً في بحث الصين عن تقنية المركبات الفضائية القابلة لإعادة الاستخدام، والتي قالت إنها ستوفر للبلاد أساليب أكثر ملاءمة وأقل تكلفة لـ \"الاستخدام السلمي للفضاء في المستقبل\".\n",
              "</p><p>ومن الغير واضح مدى الارتفاع الذي وصل إليه المكوك الصيني، أو نوعية التقنيات التي تم اختبارها خلال الرحلة، ولا حتى أين هبط بالضبط يوم <a href=\"https://www.marefa.org/8_%D9%85%D8%A7%D9%8A%D9%88\" title=\"8 مايو\">8 مايو</a>.\n",
              "يذكر أن المكوك أطلق جسماً في المدار بعد حوالي شهرين من الإطلاق، حسبما ذكرت سبيس نيوز، مستشهدة ببيانات تتبع القوات الفضائية الأمريكية.<sup class=\"reference\" id=\"cite_ref-2\"><a href=\"https://www.marefa.org/%D8%A3%D8%AE%D8%A8%D8%A7%D8%B1:%D9%85%D9%83%D9%88%D9%83_%D8%B5%D9%8A%D9%86%D9%8A_%D9%8A%D9%83%D9%85%D9%84_%D9%A2%D9%A7%D9%A6_%D9%8A%D9%88%D9%85%D8%A7_%D8%A8%D8%A7%D9%84%D9%81%D8%B6%D8%A7%D8%A1#cite_note-2\">[2]</a></sup>\n",
              "</p><p>كما أنه من الغير معروف بالضبط ما هو الجسم الذي كان بجانب المكوك الصيني ونفذ حركات مشتركة معها بعد أشهر من إطلاقه. ولم يُنشر أي صور رسمية للمكوك - والتي يشار إليه باسم \"<a href=\"https://www.marefa.org/%D8%B4%D9%86_%D9%84%D9%88%D9%86%D8%AC_(%D9%85%D8%B1%D9%83%D8%A8%D8%A9_%D9%81%D8%B6%D8%A7%D8%A6%D9%8A%D8%A9)\" title=\"شن لونج (مركبة فضائية)\">شن لونج</a>\" - علناً، على الرغم من التقاط صور لأحد نماذجه عام 2007.\n",
              "وفقاً لما قالته ماكينا يونغ من مركز الدراسات الاستراتيجية والدولية لـ Axios: \"إن القدرة على إطلاق جسم في المدار هو شيء يمكن استخدامه في المستقبل كقدرة لمواجهة الفضاء، وليس لدينا أي إشارة الآن إلى أن هذا ما يتم اختباره، لكنه ممكن بالتأكيد في المستقبل، ويعتمد ذلك حقاً على النية، والتي من الصعب بالفعل تمييزها\".\n",
              "</p><p>يُعد تطوير الصين للمكوك مثالًا على سرعة التقنيات التي يتم زرعها في البلاد والتي قد تنافس قدرات الفضاء الأمريكية. ويمكن أن يكون رداً مباشراً على <a href=\"https://www.marefa.org/%D8%A8%D9%88%D9%8A%D9%86%DA%AF_X-37\" title=\"بوينگ X-37\">بوينغ X-37</a> الأمريكية، وهي مركبة فضائية قابلة لإعادة الاستخدام تم تطويرها منذ أواخر الأربعينيات. وقد انتهت مهمة X-37B الكبرى في نوفمبر 2022 بعد قضاء أكثر من 900 يوم في المدار.\n",
              "</p><p>وتختلف هذه الرحلة الثانية الظاهرة على متن المركبة الفضائية السرية عن مهمتها الأولى في عام 2020. وشهدت تلك الرحلة مدار الطائرة الفضائية لمدة أربعة أيام في مدار 331×347 كيلومتراً ومائل بزاوية 50 درجة. استغرقت المهمة التي اكتملت للتو 276 يوماً، حيث دخلت المركبة الفضائية في مدار أولي 346 × 593 كيلومتراً مائلاً بمقدار 50 درجة، ثم حولت المدار بشكل دائري إلى 597 بمقدار 608 كيلومترات.\n",
              "</p>\n",
              "<div aria-labelledby=\"mw-toc-heading\" class=\"toc\" id=\"toc\" role=\"navigation\"><input class=\"toctogglecheckbox\" id=\"toctogglecheckbox\" role=\"button\" style=\"display:none\" type=\"checkbox\"/><div class=\"toctitle\" dir=\"rtl\" lang=\"ar\"><h2 id=\"mw-toc-heading\">فهرست</h2><span class=\"toctogglespan\"><label class=\"toctogglelabel\" for=\"toctogglecheckbox\"></label></span></div>\n",
              "<ul>\n",
              "<li class=\"toclevel-1 tocsection-1\"><a href=\"https://www.marefa.org/%D8%A3%D8%AE%D8%A8%D8%A7%D8%B1:%D9%85%D9%83%D9%88%D9%83_%D8%B5%D9%8A%D9%86%D9%8A_%D9%8A%D9%83%D9%85%D9%84_%D9%A2%D9%A7%D9%A6_%D9%8A%D9%88%D9%85%D8%A7_%D8%A8%D8%A7%D9%84%D9%81%D8%B6%D8%A7%D8%A1#%D9%85%D9%87%D8%A7%D9%85%D9%87\"><span class=\"tocnumber\">1</span> <span class=\"toctext\">مهامه</span></a></li>\n",
              "<li class=\"toclevel-1 tocsection-2\"><a href=\"https://www.marefa.org/%D8%A3%D8%AE%D8%A8%D8%A7%D8%B1:%D9%85%D9%83%D9%88%D9%83_%D8%B5%D9%8A%D9%86%D9%8A_%D9%8A%D9%83%D9%85%D9%84_%D9%A2%D9%A7%D9%A6_%D9%8A%D9%88%D9%85%D8%A7_%D8%A8%D8%A7%D9%84%D9%81%D8%B6%D8%A7%D8%A1#%D9%85%D8%B1%D8%A6%D9%8A%D8%A7%D8%AA\"><span class=\"tocnumber\">2</span> <span class=\"toctext\">مرئيات</span></a></li>\n",
              "<li class=\"toclevel-1 tocsection-3\"><a href=\"https://www.marefa.org/%D8%A3%D8%AE%D8%A8%D8%A7%D8%B1:%D9%85%D9%83%D9%88%D9%83_%D8%B5%D9%8A%D9%86%D9%8A_%D9%8A%D9%83%D9%85%D9%84_%D9%A2%D9%A7%D9%A6_%D9%8A%D9%88%D9%85%D8%A7_%D8%A8%D8%A7%D9%84%D9%81%D8%B6%D8%A7%D8%A1#%D8%A7%D9%86%D8%B8%D8%B1_%D8%A3%D9%8A%D8%B6%D8%A7%D9%8B\"><span class=\"tocnumber\">3</span> <span class=\"toctext\">انظر أيضاً</span></a></li>\n",
              "<li class=\"toclevel-1 tocsection-4\"><a href=\"https://www.marefa.org/%D8%A3%D8%AE%D8%A8%D8%A7%D8%B1:%D9%85%D9%83%D9%88%D9%83_%D8%B5%D9%8A%D9%86%D9%8A_%D9%8A%D9%83%D9%85%D9%84_%D9%A2%D9%A7%D9%A6_%D9%8A%D9%88%D9%85%D8%A7_%D8%A8%D8%A7%D9%84%D9%81%D8%B6%D8%A7%D8%A1#%D8%A7%D9%84%D9%85%D8%B5%D8%A7%D8%AF%D8%B1\"><span class=\"tocnumber\">4</span> <span class=\"toctext\">المصادر</span></a></li>\n",
              "</ul>\n",
              "</div>\n",
              "<h2><span id=\".D9.85.D9.87.D8.A7.D9.85.D9.87\"></span><span class=\"mw-headline\" id=\"مهامه\">مهامه</span></h2>\n",
              "<div class=\"thumb tleft\"><div class=\"thumbinner\" style=\"width:302px;\"><a class=\"image\" href=\"https://www.marefa.org/w/index.php?title=%D9%85%D9%84%D9%81:%D9%85%D9%87%D8%A7%D9%85_%D8%A7%D9%84%D9%85%D9%83%D9%88%D9%83_%D8%B4%D9%86_%D9%84%D9%88%D9%86%D8%AC.jpeg&amp;filetimestamp=20230510090812&amp;\"><img alt=\"مهام المكوك شن لونج.\" class=\"thumbimage\" data-file-height=\"431\" data-file-width=\"679\" decoding=\"async\" height=\"190\" src=\"./أخبار_مكوك صيني يكمل ٢٧٦ يوما بالفضاء - المعرفة_files/300px-مهام_المكوك_شن_لونج.jpeg\" srcset=\"/w/images/thumb/3/3d/%D9%85%D9%87%D8%A7%D9%85_%D8%A7%D9%84%D9%85%D9%83%D9%88%D9%83_%D8%B4%D9%86_%D9%84%D9%88%D9%86%D8%AC.jpeg/450px-%D9%85%D9%87%D8%A7%D9%85_%D8%A7%D9%84%D9%85%D9%83%D9%88%D9%83_%D8%B4%D9%86_%D9%84%D9%88%D9%86%D8%AC.jpeg 1.5x, /w/images/thumb/3/3d/%D9%85%D9%87%D8%A7%D9%85_%D8%A7%D9%84%D9%85%D9%83%D9%88%D9%83_%D8%B4%D9%86_%D9%84%D9%88%D9%86%D8%AC.jpeg/600px-%D9%85%D9%87%D8%A7%D9%85_%D8%A7%D9%84%D9%85%D9%83%D9%88%D9%83_%D8%B4%D9%86_%D9%84%D9%88%D9%86%D8%AC.jpeg 2x\" width=\"300\"/></a> <div class=\"thumbcaption\"><div class=\"magnify\"><a class=\"internal\" href=\"https://www.marefa.org/w/index.php?title=%D9%85%D9%84%D9%81:%D9%85%D9%87%D8%A7%D9%85_%D8%A7%D9%84%D9%85%D9%83%D9%88%D9%83_%D8%B4%D9%86_%D9%84%D9%88%D9%86%D8%AC.jpeg&amp;filetimestamp=20230510090812\" title=\"تكبير\"></a></div>اتهامات بأن شن لونج يقوم باختطاف السواتل في مداراتها.</div></div></div>\n",
              "<p>هناك اتهامات أن شن لونج يقوم باختطاف السواتل في الفضاء ووفق تصريحات تفيد بأن شن لونج قد دفع وقام بعمليات اقتراب مع الجسم J، بما في ذلك ما يبدو أنه على الأقل عملية اصطياد/رصد اثنين وربما ثلاث عمليات.<sup class=\"reference\" id=\"cite_ref-3\"><a href=\"https://www.marefa.org/%D8%A3%D8%AE%D8%A8%D8%A7%D8%B1:%D9%85%D9%83%D9%88%D9%83_%D8%B5%D9%8A%D9%86%D9%8A_%D9%8A%D9%83%D9%85%D9%84_%D9%A2%D9%A7%D9%A6_%D9%8A%D9%88%D9%85%D8%A7_%D8%A8%D8%A7%D9%84%D9%81%D8%B6%D8%A7%D8%A1#cite_note-3\">[3]</a></sup>\n",
              "</p><p>تُستخدم أجهزة الرادار الضخمة الموجهة نحو الأعلى من بعض النقاط على الأرض لتتبع الأشياء التي تدور في مدار الأرض المنخفض.\n",
              "وهذا ما يساعد إذا كانت الحاجة إلى تجنب التصادمات أثناء تحرك السواتل الخاصة بها حول الأرض. أو لتتبع عمليات الإطلاق، وما إلى ذلك.\n",
              "</p><p>من وجهة نظر عسكرية، يمكن أن يكون تقييم الأضرار على السواتل وإمكانية إعادتها للعمل بسرعة ضرورياً في حالة وقوع صراع كبير. وتعتمد القوات المسلحة الأمريكية بشكل كبير على الأصول الفضائية لتوفير التحذير المبكر وجمع المعلومات والتوجيه بالأسلحة والاتصالات وتبادل البيانات والدعم الآخر.\n",
              "</p><p>يمكن استخدام مركبات الفضاء القابلة لإعادة الاستخدام والتي تتمتع بقدرة عالية على التحرك والتلاعب بالأجسام في المدار لأغراض البحث والتطوير والتقييم والاختبار.\n",
              "</p><p>ومع ذلك، فإن مركبة الفضاء التي تتمتع بالقدرة على الاقتراب بشكل كبير من الأجسام الأخرى في المدار والتفاعل معها بشكل مادي هي قادرة بشكل أساسي على العمل كسلاح. وهناك قلق منذ فترة طويلة بشأن ما يسمى \"السواتل القاتلة\" التي يمكنها إطلاق مجموعة متنوعة من أنواع الهجمات على الأجسام الأخرى في الفضاء.\n",
              "</p><p>يمكن أن تشير قدرة الاتصال أو الاستيلاء على مركبة الفضاء الصينية القابلة لإعادة الاستخدام إلى وجود ذراعي روبوتات أو بروزات أخرى يمكن استخدامها لمحاولة إلحاق الضرر بأي ساتل معارض. يمكن تجهيز مركبة الفضاء بأنواع أخرى من القدرات الهجومية، بما في ذلك أنظمة الحرب الإلكترونية أو القدرة على إطلاق نوع ما من المقذوفات.\n",
              "</p><p>كما تقول شركة خدمات الفضاء الخاصة LeoLabs إن بياناتها تظهر مركبة فضائية صينية قابلة لإعادة الاستخدام، يُعتقد أنها تصميم طائرة فضاء مصغرة، رست أو التقطت بطريقة أخرى جسماً منفصلاً في مناسبات متعددة خلال مهمتها الأخيرة التي استمرت 276 يوماً في المدار. يمكن استخدام مركبة فضائية ذات قدرة عالية على المناورة مع هذا النوع من القدرة لمراقبة الأجسام الفضائية للخصم وتعطيلها ومهاجمتها بشكل مباشر، وكذلك استرداد الأجسام الصديقة أو التفاعل معها بأي طريقة أخرى.<sup class=\"reference\" id=\"cite_ref-4\"><a href=\"https://www.marefa.org/%D8%A3%D8%AE%D8%A8%D8%A7%D8%B1:%D9%85%D9%83%D9%88%D9%83_%D8%B5%D9%8A%D9%86%D9%8A_%D9%8A%D9%83%D9%85%D9%84_%D9%A2%D9%A7%D9%A6_%D9%8A%D9%88%D9%85%D8%A7_%D8%A8%D8%A7%D9%84%D9%81%D8%B6%D8%A7%D8%A1#cite_note-4\">[4]</a></sup>\n",
              "</p>\n",
              "<h2><span id=\".D9.85.D8.B1.D8.A6.D9.8A.D8.A7.D8.AA\"></span><span class=\"mw-headline\" id=\"مرئيات\">مرئيات</span></h2>\n",
              "<table class=\"wikitable\">\n",
              "<tbody><tr>\n",
              "<td><iframe allowfullscreen=\"allowfullscreen\" frameborder=\"0\" height=\"202\" src=\"./أخبار_مكوك صيني يكمل ٢٧٦ يوما بالفضاء - المعرفة_files/3593.html\" style=\"max-width: 100%;\" width=\"360\">\n",
              "<p></p></iframe>\n",
              "<p class=\"mw-empty-elt\"></p>\n",
              "</td></tr>\n",
              "<tr>\n",
              "<td style=\"max-width:360px\"><a href=\"https://www.marefa.org/%D9%85%D9%83%D9%88%D9%83_%D9%81%D8%B6%D8%A7%D8%A1\" title=\"مكوك فضاء\">مكوك</a> صيني تجريبي غامض، <a class=\"mw-redirect\" href=\"https://www.marefa.org/%D9%85%D8%B1%D9%83%D8%A8%D8%A9_%D8%AC%D9%88%D9%8A%D8%A9_%D8%BA%D9%8A%D8%B1_%D9%85%D8%A3%D9%87%D9%88%D9%84%D8%A9\" title=\"مركبة جوية غير مأهولة\">غير مأهول</a> وقابل لإعادة الاستخدام يكمل مهمته الثانية بعد بقائه في المدار لمدة 276 يوماً، وفقاً للإعلام الرسمي الصيني. <a href=\"https://www.marefa.org/8_%D9%85%D8%A7%D9%8A%D9%88\" title=\"8 مايو\">8 مايو</a> <a href=\"https://www.marefa.org/2023\" title=\"2023\">2023</a>.\n",
              "</td></tr>\n",
              "</tbody></table>\n",
              "<h2><span id=\".D8.A7.D9.86.D8.B8.D8.B1_.D8.A3.D9.8A.D8.B6.D8.A7.D9.8B\"></span><span class=\"mw-headline\" id=\"انظر_أيضاً\">انظر أيضاً</span></h2>\n",
              "<ul><li><a href=\"https://www.marefa.org/%D8%B4%D9%86_%D9%84%D9%88%D9%86%D8%AC_(%D9%85%D8%B1%D9%83%D8%A8%D8%A9_%D9%81%D8%B6%D8%A7%D8%A6%D9%8A%D8%A9)\" title=\"شن لونج (مركبة فضائية)\">شن لونج</a></li>\n",
              "<li><a href=\"https://www.marefa.org/%D9%85%D9%83%D9%88%D9%83_%D9%81%D8%B6%D8%A7%D8%A1\" title=\"مكوك فضاء\">مكوك فضاء</a></li></ul>\n",
              "<h2><span id=\".D8.A7.D9.84.D9.85.D8.B5.D8.A7.D8.AF.D8.B1\"></span><span class=\"mw-headline\" id=\"المصادر\">المصادر</span></h2>\n",
              "<div class=\"reflist references-column-width\" style=\"list-style-type: decimal;\">\n",
              "<div class=\"mw-references-wrap\"><ol class=\"references\">\n",
              "<li id=\"cite_note-1\"><b><a href=\"https://www.marefa.org/%D8%A3%D8%AE%D8%A8%D8%A7%D8%B1:%D9%85%D9%83%D9%88%D9%83_%D8%B5%D9%8A%D9%86%D9%8A_%D9%8A%D9%83%D9%85%D9%84_%D9%A2%D9%A7%D9%A6_%D9%8A%D9%88%D9%85%D8%A7_%D8%A8%D8%A7%D9%84%D9%81%D8%B6%D8%A7%D8%A1#cite_ref-1\">^</a></b> <span class=\"reference-text\"><cite class=\"citation web cs1\" id=\"CITEREFJacob_Knutson2023\">Jacob Knutson (2023-05-08). <a class=\"external text\" href=\"https://www.axios.com/2023/05/08/china-reusable-spaceplane-276-days-orbit\" rel=\"nofollow\">\"China lands mysterious spaceplane after 276 days in orbit\"</a>. www.axios.com.</cite><span class=\"Z3988\" title=\"ctx_ver=Z39.88-2004&amp;rft_val_fmt=info%3Aofi%2Ffmt%3Akev%3Amtx%3Abook&amp;rft.genre=unknown&amp;rft.btitle=China+lands+mysterious+spaceplane+after+276+days+in+orbit&amp;rft.pub=www.axios.com&amp;rft.date=2023-05-08&amp;rft.au=Jacob+Knutson&amp;rft_id=https%3A%2F%2Fwww.axios.com%2F2023%2F05%2F08%2Fchina-reusable-spaceplane-276-days-orbit&amp;rfr_id=info%3Asid%2Fwww.marefa.org%3A%D8%A3%D8%AE%D8%A8%D8%A7%D8%B1%3A%D9%85%D9%83%D9%88%D9%83+%D8%B5%D9%8A%D9%86%D9%8A+%D9%8A%D9%83%D9%85%D9%84+%D9%A2%D9%A7%D9%A6+%D9%8A%D9%88%D9%85%D8%A7+%D8%A8%D8%A7%D9%84%D9%81%D8%B6%D8%A7%D8%A1\"></span><style data-mw-deduplicate=\"TemplateStyles:r2031634\">/*\n",
              "ورقة أنماط معالجة الأخطاء [[:وحدة:Citation/CS1/styles.css]] (مرا 2031634):\n",
              "• قيمة غير صالحة أو غير معتمدة للخاصية ⧼code⧽background⧼/code⧽ بالسطر 37 الحرف 14.\n",
              "• قيمة غير صالحة أو غير معتمدة للخاصية ⧼code⧽background⧼/code⧽ بالسطر 43 الحرف 14.\n",
              "• قيمة غير صالحة أو غير معتمدة للخاصية ⧼code⧽background⧼/code⧽ بالسطر 48 الحرف 14.\n",
              "• قيمة غير صالحة أو غير معتمدة للخاصية ⧼code⧽background⧼/code⧽ بالسطر 68 الحرف 14.\n",
              "*/\n",
              ".mw-parser-output cite.citation{font-style:inherit}.mw-parser-output .citation q{quotes:\"\\\"\"\"\\\"\"\"'\"\"'\"}.mw-parser-output .citation .cs1-lock-free a{background-position:right .1em center}.mw-parser-output .citation .cs1-lock-limited a,.mw-parser-output .citation .cs1-lock-registration a{background-position:right .1em center}.mw-parser-output .citation .cs1-lock-subscription a{background-position:right .1em center}.mw-parser-output .cs1-subscription,.mw-parser-output .cs1-registration{color:#555}.mw-parser-output .cs1-subscription span,.mw-parser-output .cs1-registration span{border-bottom:1px dotted;cursor:help}.mw-parser-output .cs1-ws-icon a{background-position:right .1em center}.mw-parser-output code.cs1-code{color:inherit;background:inherit;border:inherit;padding:inherit}.mw-parser-output .cs1-hidden-error{display:none;font-size:100%}.mw-parser-output .cs1-visible-error{font-size:100%}.mw-parser-output .cs1-maint{display:none;color:#33aa33;margin-left:0.3em}.mw-parser-output .cs1-subscription,.mw-parser-output .cs1-registration,.mw-parser-output .cs1-format{font-size:95%}.mw-parser-output .cs1-kern-left,.mw-parser-output .cs1-kern-wl-left{padding-left:0.2em}.mw-parser-output .cs1-kern-right,.mw-parser-output .cs1-kern-wl-right{padding-right:0.2em}</style></span>\n",
              "</li>\n",
              "<li id=\"cite_note-2\"><b><a href=\"https://www.marefa.org/%D8%A3%D8%AE%D8%A8%D8%A7%D8%B1:%D9%85%D9%83%D9%88%D9%83_%D8%B5%D9%8A%D9%86%D9%8A_%D9%8A%D9%83%D9%85%D9%84_%D9%A2%D9%A7%D9%A6_%D9%8A%D9%88%D9%85%D8%A7_%D8%A8%D8%A7%D9%84%D9%81%D8%B6%D8%A7%D8%A1#cite_ref-2\">^</a></b> <span class=\"reference-text\"><cite class=\"citation web cs1\" id=\"CITEREFAndrew_Jones2023\">Andrew Jones (2023-05-08). <a class=\"external text\" href=\"https://spacenews.com/chinas-mystery-reusable-spaceplane-lands-after-276-days-in-orbit/\" rel=\"nofollow\">\"China's mystery reusable spaceplane lands after 276 days in orbit\"</a>. spacenews.com.</cite><span class=\"Z3988\" title=\"ctx_ver=Z39.88-2004&amp;rft_val_fmt=info%3Aofi%2Ffmt%3Akev%3Amtx%3Abook&amp;rft.genre=unknown&amp;rft.btitle=China%E2%80%99s+mystery+reusable+spaceplane+lands+after+276+days+in+orbit&amp;rft.pub=spacenews.com&amp;rft.date=2023-05-08&amp;rft.au=Andrew+Jones&amp;rft_id=https%3A%2F%2Fspacenews.com%2Fchinas-mystery-reusable-spaceplane-lands-after-276-days-in-orbit%2F&amp;rfr_id=info%3Asid%2Fwww.marefa.org%3A%D8%A3%D8%AE%D8%A8%D8%A7%D8%B1%3A%D9%85%D9%83%D9%88%D9%83+%D8%B5%D9%8A%D9%86%D9%8A+%D9%8A%D9%83%D9%85%D9%84+%D9%A2%D9%A7%D9%A6+%D9%8A%D9%88%D9%85%D8%A7+%D8%A8%D8%A7%D9%84%D9%81%D8%B6%D8%A7%D8%A1\"></span><link href=\"mw-data:TemplateStyles:r2031634\" rel=\"mw-deduplicated-inline-style\"/></span>\n",
              "</li>\n",
              "<li id=\"cite_note-3\"><b><a href=\"https://www.marefa.org/%D8%A3%D8%AE%D8%A8%D8%A7%D8%B1:%D9%85%D9%83%D9%88%D9%83_%D8%B5%D9%8A%D9%86%D9%8A_%D9%8A%D9%83%D9%85%D9%84_%D9%A2%D9%A7%D9%A6_%D9%8A%D9%88%D9%85%D8%A7_%D8%A8%D8%A7%D9%84%D9%81%D8%B6%D8%A7%D8%A1#cite_ref-3\">^</a></b> <span class=\"reference-text\"><cite class=\"citation web cs1\" id=\"CITEREFJohn_Scott-Railton2023\">John Scott-Railton (2023-05-09). <a class=\"external text\" href=\"https://twitter.com/jsrailton/status/1656021959644413952?t=elg7wMOQzz3evc5PEvxOIg&amp;s=19\" rel=\"nofollow\">\"Chinese spaceplane that can capture satellites is extremely freaky\"</a>. twitter.com/jsrailton/status.</cite><span class=\"Z3988\" title=\"ctx_ver=Z39.88-2004&amp;rft_val_fmt=info%3Aofi%2Ffmt%3Akev%3Amtx%3Abook&amp;rft.genre=unknown&amp;rft.btitle=Chinese+spaceplane+that+can+capture+satellites+is+extremely+freaky.&amp;rft.pub=twitter.com%2Fjsrailton%2Fstatus&amp;rft.date=2023-05-09&amp;rft.au=John+Scott-Railton&amp;rft_id=https%3A%2F%2Ftwitter.com%2Fjsrailton%2Fstatus%2F1656021959644413952%3Ft%3Delg7wMOQzz3evc5PEvxOIg%26s%3D19&amp;rfr_id=info%3Asid%2Fwww.marefa.org%3A%D8%A3%D8%AE%D8%A8%D8%A7%D8%B1%3A%D9%85%D9%83%D9%88%D9%83+%D8%B5%D9%8A%D9%86%D9%8A+%D9%8A%D9%83%D9%85%D9%84+%D9%A2%D9%A7%D9%A6+%D9%8A%D9%88%D9%85%D8%A7+%D8%A8%D8%A7%D9%84%D9%81%D8%B6%D8%A7%D8%A1\"></span><link href=\"mw-data:TemplateStyles:r2031634\" rel=\"mw-deduplicated-inline-style\"/></span>\n",
              "</li>\n",
              "<li id=\"cite_note-4\"><b><a href=\"https://www.marefa.org/%D8%A3%D8%AE%D8%A8%D8%A7%D8%B1:%D9%85%D9%83%D9%88%D9%83_%D8%B5%D9%8A%D9%86%D9%8A_%D9%8A%D9%83%D9%85%D9%84_%D9%A2%D9%A7%D9%A6_%D9%8A%D9%88%D9%85%D8%A7_%D8%A8%D8%A7%D9%84%D9%81%D8%B6%D8%A7%D8%A1#cite_ref-4\">^</a></b> <span class=\"reference-text\"><cite class=\"citation web cs1\" id=\"CITEREFJOSEPH_TREVITHICK2023\">JOSEPH TREVITHICK (2023-05-09). <a class=\"external text\" href=\"https://www.thedrive.com/the-war-zone/chinese-spaceplane-docked-with-another-object-multiple-times-data-indicates\" rel=\"nofollow\">\"Chinese Spaceplane Docked With Another Object Multiple Times Data Indicates\"</a>. www.thedrive.com.</cite><span class=\"Z3988\" title=\"ctx_ver=Z39.88-2004&amp;rft_val_fmt=info%3Aofi%2Ffmt%3Akev%3Amtx%3Abook&amp;rft.genre=unknown&amp;rft.btitle=Chinese+Spaceplane+Docked+With+Another+Object+Multiple+Times+Data+Indicates&amp;rft.pub=www.thedrive.com&amp;rft.date=2023-05-09&amp;rft.au=JOSEPH+TREVITHICK&amp;rft_id=https%3A%2F%2Fwww.thedrive.com%2Fthe-war-zone%2Fchinese-spaceplane-docked-with-another-object-multiple-times-data-indicates&amp;rfr_id=info%3Asid%2Fwww.marefa.org%3A%D8%A3%D8%AE%D8%A8%D8%A7%D8%B1%3A%D9%85%D9%83%D9%88%D9%83+%D8%B5%D9%8A%D9%86%D9%8A+%D9%8A%D9%83%D9%85%D9%84+%D9%A2%D9%A7%D9%A6+%D9%8A%D9%88%D9%85%D8%A7+%D8%A8%D8%A7%D9%84%D9%81%D8%B6%D8%A7%D8%A1\"></span><link href=\"mw-data:TemplateStyles:r2031634\" rel=\"mw-deduplicated-inline-style\"/></span>\n",
              "</li>\n",
              "</ol></div></div>\n",
              "<!-- \n",
              "NewPP limit report\n",
              "Cached time: 20230517005437\n",
              "Cache expiry: 86400\n",
              "Reduced expiry: false\n",
              "Complications: [vary‐revision‐sha1, show‐toc]\n",
              "CPU time usage: 0.127 seconds\n",
              "Real time usage: 0.132 seconds\n",
              "Preprocessor visited node count: 193/1000000\n",
              "Post‐expand include size: 7745/2097152 bytes\n",
              "Template argument size: 0/2097152 bytes\n",
              "Highest expansion depth: 5/100\n",
              "Expensive parser function count: 0/599\n",
              "Unstrip recursion depth: 1/20\n",
              "Unstrip post‐expand size: 13110/5000000 bytes\n",
              "Lua time usage: 0.077/7.000 seconds\n",
              "Lua memory usage: 2751537/2097152000 bytes\n",
              "Number of Wikibase entities loaded: 0/250\n",
              "-->\n",
              "<!--\n",
              "Transclusion expansion time report (%,ms,calls,template)\n",
              "100.00%  104.754      1 -total\n",
              "100.00%  104.754      1 قالب:ثبت_المراجع\n",
              " 93.39%   97.829      4 قالب:Cite_web\n",
              "-->\n",
              "<!-- Saved in parser cache with key wikidb:pcache:idhash:1455603-0!canonical and timestamp 20230517005436 and revision id 2916614.\n",
              " -->\n",
              "</div><div class=\"marefa-block-ad\"><script async=\"\" crossorigin=\"anonymous\" data-checked-head=\"true\" src=\"./أخبار_مكوك صيني يكمل ٢٧٦ يوما بالفضاء - المعرفة_files/f(14).txt\"></script>\n",
              "<!-- below category -->\n",
              "<ins class=\"adsbygoogle\" data-ad-client=\"ca-pub-5007306297648877\" data-ad-format=\"auto\" data-ad-slot=\"4126105905\" data-ad-status=\"filled\" data-adsbygoogle-status=\"done\" data-full-width-responsive=\"true\" style=\"display: block; height: 280px;\"><div aria-label=\"Advertisement\" id=\"aswift_3_host\" style=\"border: none; height: 280px; width: 1188px; margin: 0px; padding: 0px; position: relative; visibility: visible; background-color: transparent; display: inline-block; overflow: visible;\" tabindex=\"0\" title=\"Advertisement\"><iframe allowtransparency=\"true\" data-google-container-id=\"a!4\" data-google-query-id=\"CPGQsp7T-_4CFSQawQod_mkPUg\" data-load-complete=\"true\" frameborder=\"0\" height=\"280\" hspace=\"0\" id=\"aswift_3\" marginheight=\"0\" marginwidth=\"0\" name=\"aswift_3\" sandbox=\"allow-forms allow-popups allow-popups-to-escape-sandbox allow-same-origin allow-scripts allow-top-navigation-by-user-activation\" scrolling=\"no\" src=\"./أخبار_مكوك صيني يكمل ٢٧٦ يوما بالفضاء - المعرفة_files/ads(2).html\" style=\"left:0;position:absolute;top:0;border:0;width:1188px;height:280px;\" vspace=\"0\" width=\"1188\"></iframe></div></ins>\n",
              "<script>\n",
              "\t     (adsbygoogle = window.adsbygoogle || []).push({});\n",
              "\t</script></div>\n",
              "<div class=\"printfooter\" data-nosnippet=\"\">تمّ الاسترجاع من \"<a dir=\"ltr\" href=\"https://www.marefa.org/w/index.php?title=%D8%A3%D8%AE%D8%A8%D8%A7%D8%B1:%D9%85%D9%83%D9%88%D9%83_%D8%B5%D9%8A%D9%86%D9%8A_%D9%8A%D9%83%D9%85%D9%84_%D9%A2%D9%A7%D9%A6_%D9%8A%D9%88%D9%85%D8%A7_%D8%A8%D8%A7%D9%84%D9%81%D8%B6%D8%A7%D8%A1&amp;oldid=2916614\">https://www.marefa.org/w/index.php?title=أخبار:مكوك_صيني_يكمل_٢٧٦_يوما_بالفضاء&amp;oldid=2916614</a>\"</div></div>\n",
              "<div class=\"catlinks\" data-mw=\"interface\" id=\"catlinks\"><div class=\"mw-normal-catlinks\" id=\"mw-normal-catlinks\"><a href=\"https://www.marefa.org/%D8%AE%D8%A7%D8%B5:%D8%AA%D8%B5%D9%86%D9%8A%D9%81%D8%A7%D8%AA\" title=\"خاص:تصنيفات\">تصنيفات</a>: <ul><li><a href=\"https://www.marefa.org/%D8%AA%D8%B5%D9%86%D9%8A%D9%81:2023_%D9%81%D9%8A_%D8%A7%D9%84%D8%B5%D9%8A%D9%86\" title=\"تصنيف:2023 في الصين\">2023 في الصين</a></li><li><a href=\"https://www.marefa.org/%D8%AA%D8%B5%D9%86%D9%8A%D9%81:2023_%D9%81%D9%8A_%D8%B1%D8%AD%D9%84%D8%A7%D8%AA_%D8%A7%D9%84%D9%81%D8%B6%D8%A7%D8%A1\" title=\"تصنيف:2023 في رحلات الفضاء\">2023 في رحلات الفضاء</a></li><li><a href=\"https://www.marefa.org/%D8%AA%D8%B5%D9%86%D9%8A%D9%81:%D8%A3%D8%AE%D8%A8%D8%A7%D8%B1_9_%D9%85%D8%A7%D9%8A%D9%88_2023\" title=\"تصنيف:أخبار 9 مايو 2023\">أخبار 9 مايو 2023</a></li></ul></div></div>\n",
              "<!-- end content -->\n",
              "</div>\n",
              "</main>\n",
              "</div>\n",
              "</div>\n",
              "</div>\n",
              "<script>(RLQ=window.RLQ||[]).push(function(){mw.log.warn(\"This page is using the deprecated ResourceLoader module \\\"mediawiki.skinning.interface\\\".\\n[1.37] The use of the `content` feature with ResourceLoaderSkinModule is deprecated. Use `content-media` instead. [1.37] The use of the `legacy` feature with ResourceLoaderSkinModule is deprecated(T89981) and is a NOOP since 1.39 (T304325). This should be urgently omited to retain compatibility with future MediaWiki versionsMore information can be found at [[mw:Manual:ResourceLoaderSkinModule]]. \");});</script>\n",
              "<!-- AddThis is disabled -->\n",
              "<!-- Global site tag (gtag.js) - Google Analytics -->\n",
              "<script async=\"\" src=\"./أخبار_مكوك صيني يكمل ٢٧٦ يوما بالفضاء - المعرفة_files/js\"></script>\n",
              "<script>\n",
              "  window.dataLayer = window.dataLayer || [];\n",
              "  function gtag(){dataLayer.push(arguments);}\n",
              "  gtag('js', new Date());\n",
              "\n",
              "  gtag('config', 'G-4X427SR0ZD');\n",
              "</script>\n",
              "<!-- Google Analytics -->\n",
              "<script>\n",
              "(function(i,s,o,g,r,a,m){i['GoogleAnalyticsObject']=r;i[r]=i[r]||function(){\n",
              "(i[r].q=i[r].q||[]).push(arguments)},i[r].l=1*new Date();a=s.createElement(o),\n",
              "m=s.getElementsByTagName(o)[0];a.async=1;a.src=g;m.parentNode.insertBefore(a,m)\n",
              "})(window,document,'script','https://www.google-analytics.com/analytics.js','ga');\n",
              "\n",
              "ga('create', 'UA-5287442-1', 'auto');\n",
              "ga('send', 'pageview');\n",
              "</script>\n",
              "<!-- End Google Analytics -->\n",
              "<script>(RLQ=window.RLQ||[]).push(function(){mw.config.set({\"wgPageParseReport\":{\"limitreport\":{\"cputime\":\"0.127\",\"walltime\":\"0.132\",\"ppvisitednodes\":{\"value\":193,\"limit\":1000000},\"postexpandincludesize\":{\"value\":7745,\"limit\":2097152},\"templateargumentsize\":{\"value\":0,\"limit\":2097152},\"expansiondepth\":{\"value\":5,\"limit\":100},\"expensivefunctioncount\":{\"value\":0,\"limit\":599},\"unstrip-depth\":{\"value\":1,\"limit\":20},\"unstrip-size\":{\"value\":13110,\"limit\":5000000},\"entityaccesscount\":{\"value\":0,\"limit\":250},\"timingprofile\":[\"100.00%  104.754      1 -total\",\"100.00%  104.754      1 قالب:ثبت_المراجع\",\" 93.39%   97.829      4 قالب:Cite_web\"]},\"scribunto\":{\"limitreport-timeusage\":{\"value\":\"0.077\",\"limit\":\"7.000\"},\"limitreport-memusage\":{\"value\":2751537,\"limit\":2097152000}},\"cachereport\":{\"timestamp\":\"20230517005437\",\"ttl\":86400,\"transientcontent\":false}}});mw.config.set({\"wgBackendResponseTime\":131});});</script>\n",
              "<ins class=\"adsbygoogle adsbygoogle-noablate\" data-ad-status=\"unfilled\" data-adsbygoogle-status=\"done\" style=\"display: none !important;\"><div aria-label=\"Advertisement\" id=\"aswift_0_host\" style=\"border: none; height: 0px; width: 0px; margin: 0px; padding: 0px; position: relative; visibility: visible; background-color: transparent; display: inline-block;\" tabindex=\"0\" title=\"Advertisement\"><iframe allowtransparency=\"true\" data-google-container-id=\"a!1\" data-load-complete=\"true\" frameborder=\"0\" hspace=\"0\" id=\"aswift_0\" marginheight=\"0\" marginwidth=\"0\" name=\"aswift_0\" sandbox=\"allow-forms allow-popups allow-popups-to-escape-sandbox allow-same-origin allow-scripts allow-top-navigation-by-user-activation\" scrolling=\"no\" src=\"./أخبار_مكوك صيني يكمل ٢٧٦ يوما بالفضاء - المعرفة_files/ads(3).html\" style=\"left:0;position:absolute;top:0;border:0;width:undefinedpx;height:undefinedpx;\" vspace=\"0\"></iframe></div></ins><ins class=\"adsbygoogle adsbygoogle-noablate\" data-ad-status=\"filled\" data-adsbygoogle-status=\"done\" data-anchor-shown=\"true\" data-anchor-status=\"displayed\" style=\"display: none; width: 100% !important; height: 105px !important; bottom: 0px; clear: none !important; float: none !important; left: 0px; margin: 0px !important; max-height: none !important; max-width: none !important; opacity: 1; overflow: visible !important; padding: 0px !important; position: fixed; right: auto !important; top: auto !important; vertical-align: baseline !important; visibility: visible !important; z-index: 2147483647; background: rgb(250, 250, 250) !important;\"><div class=\"grippy-host\"><template shadowrootmode=\"closed\"><ins class=\"ee\" style=\"inset: auto !important; clear: none !important; display: block !important; float: none !important; height: 5px !important; margin: 0px !important; max-height: none !important; max-width: none !important; opacity: 1 !important; overflow: visible !important; padding: 0px !important; position: relative !important; vertical-align: baseline !important; visibility: visible !important; width: auto !important; z-index: 1 !important; background-color: rgb(250, 250, 250) !important; box-shadow: rgba(0, 0, 0, 0.2) 0px -1px 5px -1px, rgba(0, 0, 0, 0.1) 0px 1px 2px -1px !important;\"><span style=\"display: block !important; width: 80px !important; height: 45px !important; bottom: 0px !important; left: 0% !important; pointer-events: none !important;\"><svg style=\"margin: 0px !important; position: absolute !important; bottom: 0px !important; left: 0% !important; display: block !important; width: 80px !important; height: 30px !important; transform: none !important; pointer-events: initial !important;\"><defs><filter color-interpolation-filters=\"sRGB\" filterunits=\"userSpaceOnUse\" id=\"dropShadowTop\"><fecomponenttransfer in=\"SourceAlpha\" result=\"TransferredAlpha\"><fefuncr tablevalues=\"0.5\" type=\"discrete\"></fefuncr><fefuncg tablevalues=\"0.5\" type=\"discrete\"></fefuncg><fefuncb tablevalues=\"0.5\" type=\"discrete\"></fefuncb></fecomponenttransfer><fegaussianblur in=\"TransferredAlpha\" stddeviation=\"2\"></fegaussianblur><feoffset dx=\"0\" dy=\"0\" result=\"offsetblur\"></feoffset><femerge><femergenode></femergenode><femergenode in=\"SourceGraphic\"></femergenode></femerge></filter></defs><path d=\"M0,26 L0,6 A6,6 0 0,1 6,1 L50,1 A6,6 0 0,1 56,6 L56,20 A6,6 0 0,0 62,26 Z\" fill=\"#FAFAFA\" stroke=\"#FAFAFA\" stroke-width=\"1\" style='filter: url(\"#dropShadowTop\");'></path><rect height=\"5\" style=\"fill: rgb(250, 250, 250);\" width=\"80\" x=\"0\" y=\"25\"></rect><g class=\"down\" stroke=\"#616161\" stroke-linecap=\"square\" stroke-width=\"2px\"><line x1=\"22\" x2=\"28\" y1=\"12\" y2=\"18\"></line><line x1=\"28\" x2=\"34\" y1=\"18\" y2=\"12\"></line></g></svg></span></ins></template></div><div aria-label=\"Advertisement\" id=\"aswift_4_host\" style=\"border: none !important; height: 100px !important; width: 100% !important; margin: 0px !important; padding: 0px !important; position: relative !important; visibility: visible !important; background-color: transparent !important; display: inline-block !important; inset: auto !important; clear: none !important; float: none !important; max-height: none !important; max-width: none !important; opacity: 1 !important; overflow: visible !important; vertical-align: baseline !important; z-index: auto !important;\" tabindex=\"0\" title=\"Advertisement\"><iframe allowtransparency=\"true\" data-google-container-id=\"a!5\" data-google-query-id=\"CPamsZ7T-_4CFVmDywEdd1QLYg\" data-load-complete=\"true\" frameborder=\"0\" height=\"100\" hspace=\"0\" id=\"aswift_4\" marginheight=\"0\" marginwidth=\"0\" name=\"aswift_4\" sandbox=\"allow-forms allow-popups allow-popups-to-escape-sandbox allow-same-origin allow-scripts allow-top-navigation-by-user-activation\" scrolling=\"no\" src=\"./أخبار_مكوك صيني يكمل ٢٧٦ يوما بالفضاء - المعرفة_files/zrt_lookup.html\" style=\"width: 600px !important; height: 100px !important; display: block; margin: 0px auto;\" vspace=\"0\" width=\"600\"></iframe></div></ins></body><iframe id=\"google_esf\" name=\"google_esf\" src=\"./أخبار_مكوك صيني يكمل ٢٧٦ يوما بالفضاء - المعرفة_files/zrt_lookup(1).html\" style=\"display: none;\"></iframe><grammarly-desktop-integration data-grammarly-shadow-root=\"true\"><template shadowrootmode=\"open\"><style>\n",
              "  div.grammarly-desktop-integration {\n",
              "    position: absolute;\n",
              "    width: 1px;\n",
              "    height: 1px;\n",
              "    padding: 0;\n",
              "    margin: -1px;\n",
              "    overflow: hidden;\n",
              "    clip: rect(0, 0, 0, 0);\n",
              "    white-space: nowrap;\n",
              "    border: 0;\n",
              "    -moz-user-select: none;\n",
              "    -webkit-user-select: none;\n",
              "    -ms-user-select:none;\n",
              "    user-select:none;\n",
              "  }\n",
              "\n",
              "  div.grammarly-desktop-integration:before {\n",
              "    content: attr(data-content);\n",
              "  }\n",
              "</style><div aria-label=\"grammarly-integration\" class=\"grammarly-desktop-integration\" data-content='{\"mode\":\"full\",\"isActive\":true,\"isUserDisabled\":false}' role=\"group\" tabindex=\"-1\"></div></template></grammarly-desktop-integration></html>"
            ]
          },
          "metadata": {},
          "execution_count": 11
        }
      ],
      "source": [
        "with open('/content/cleaned_html_file.html', 'r', encoding='utf-8') as f:\n",
        "    html_data = f.read()\n",
        "    soup = BeautifulSoup(html_data, 'html.parser')\n",
        "\n",
        "soup"
      ]
    },
    {
      "cell_type": "code",
      "execution_count": 12,
      "metadata": {
        "id": "xoTCW4gaIFbr"
      },
      "outputs": [],
      "source": [
        "# Remove all script and style tags\n",
        "for script in soup([\"script\", \"style\"]):\n",
        "    script.decompose()"
      ]
    },
    {
      "cell_type": "code",
      "execution_count": 13,
      "metadata": {
        "colab": {
          "base_uri": "https://localhost:8080/",
          "height": 185
        },
        "id": "lp1ud-s6ItQF",
        "outputId": "fe835dcc-b0e6-41e8-b8a8-bbad4cc5ad08"
      },
      "outputs": [
        {
          "output_type": "execute_result",
          "data": {
            "text/plain": [
              "'\\n\\n\\nأخبار:مكوك صيني يكمل ٢٧٦ يوما بالفضاء - المعرفة\\n\\n\\n\\n\\n\\n\\n\\n\\n\\n\\n\\n\\n\\n\\n\\n\\n\\n\\n\\n\\n\\n\\n\\n\\n\\n\\n\\n\\n\\n\\n\\n\\n\\n\\n\\nإنشاء حسابدخول\\n\\n\\n\\n\\n\\n\\n\\n\\n\\n\\n\\n\\nأخبارناقش هذه الصفحة\\nاقرأعرض المصدرتاريخ\\n\\nالمزيد\\n\\n\\nأدوات\\nماذا يرتبط هنا؟تغييرات ذات علاقةالصفحات الخاصّةنسخة للطباعةوصلة دائمةمعلومات عن هذه الصفحة\\n\\n\\n\\n\\n\\n\\n\\n\\n\\n\\n\\n\\n\\n\\n\\nأخبار:مكوك صيني يكمل ٢٧٦ يوما بالفضاء\\n\\n\\n\\n يُقال أنه مكان هبوط المكوك الصيني الغامض العائد إلى الأرض بعد 276 يوماً (8 مايو 2023)\\nبعد 276 يوماً من إتمام مهمته ..مكوك صيني غامض يعود إلى الأرض.\\nفي 8 مايو 2023، أكمل مكوك صيني تجريبي غامض، غير مأهول وقابل لإعادة الاستخدام مهمته الثانية بعد بقائه في المدار لمدة 276 يوماً، وفقاً للإعلام الرسمي الصيني.[1]\\nوترتبط أهمية المكوك بندرة المعلومات المعلنة عنه، ورغم شك الخبراء بأنه يمكن استخدامه للتدخل في السواتل الموجودة بالمدار.\\nولم تصدر السلطات الصينية الكثير من التفاصيل علناً حول المكوك أو المهمة الثانية، باستثناء مدة البقاء في المدار، وأنه تم إطلاقه من مركز إطلاق السواتل في جيوتشوان في صحراء غوبي على متن صاروخ \"لونغ مارش-2 إف\" في أغسطس 2022.\\nكنا ذكرت وسائل الإعلام الرسمية أن الاختبار يشكل اختراقاً في بحث الصين عن تقنية المركبات الفضائية القابلة لإعادة الاستخدام، والتي قالت إنها ستوفر للبلاد أساليب أكثر ملاءمة وأقل تكلفة لـ \"الاستخدام السلمي للفضاء في المستقبل\".\\nومن الغير واضح مدى الارتفاع الذي وصل إليه المكوك الصيني، أو نوعية التقنيات التي تم اختبارها خلال الرحلة، ولا حتى أين هبط بالضبط يوم 8 مايو.\\nيذكر أن المكوك أطلق جسماً في المدار بعد حوالي شهرين من الإطلاق، حسبما ذكرت سبيس نيوز، مستشهدة ببيانات تتبع القوات الفضائية الأمريكية.[2]\\nكما أنه من الغير معروف بالضبط ما هو الجسم الذي كان بجانب المكوك الصيني ونفذ حركات مشتركة معها بعد أشهر من إطلاقه. ولم يُنشر أي صور رسمية للمكوك - والتي يشار إليه باسم \"شن لونج\" - علناً، على الرغم من التقاط صور لأحد نماذجه عام 2007.\\nوفقاً لما قالته ماكينا يونغ من مركز الدراسات الاستراتيجية والدولية لـ Axios: \"إن القدرة على إطلاق جسم في المدار هو شيء يمكن استخدامه في المستقبل كقدرة لمواجهة الفضاء، وليس لدينا أي إشارة الآن إلى أن هذا ما يتم اختباره، لكنه ممكن بالتأكيد في المستقبل، ويعتمد ذلك حقاً على النية، والتي من الصعب بالفعل تمييزها\".\\nيُعد تطوير الصين للمكوك مثالًا على سرعة التقنيات التي يتم زرعها في البلاد والتي قد تنافس قدرات الفضاء الأمريكية. ويمكن أن يكون رداً مباشراً على بوينغ X-37 الأمريكية، وهي مركبة فضائية قابلة لإعادة الاستخدام تم تطويرها منذ أواخر الأربعينيات. وقد انتهت مهمة X-37B الكبرى في نوفمبر 2022 بعد قضاء أكثر من 900 يوم في المدار.\\nوتختلف هذه الرحلة الثانية الظاهرة على متن المركبة الفضائية السرية عن مهمتها الأولى في عام 2020. وشهدت تلك الرحلة مدار الطائرة الفضائية لمدة أربعة أيام في مدار 331×347 كيلومتراً ومائل بزاوية 50 درجة. استغرقت المهمة التي اكتملت للتو 276 يوماً، حيث دخلت المركبة الفضائية في مدار أولي 346 × 593 كيلومتراً مائلاً بمقدار 50 درجة، ثم حولت المدار بشكل دائري إلى 597 بمقدار 608 كيلومترات.\\n\\nفهرست\\n\\n1 مهامه\\n2 مرئيات\\n3 انظر أيضاً\\n4 المصادر\\n\\n\\nمهامه\\n اتهامات بأن شن لونج يقوم باختطاف السواتل في مداراتها.\\nهناك اتهامات أن شن لونج يقوم باختطاف السواتل في الفضاء ووفق تصريحات تفيد بأن شن لونج قد دفع وقام بعمليات اقتراب مع الجسم J، بما في ذلك ما يبدو أنه على الأقل عملية اصطياد/رصد اثنين وربما ثلاث عمليات.[3]\\nتُستخدم أجهزة الرادار الضخمة الموجهة نحو الأعلى من بعض النقاط على الأرض لتتبع الأشياء التي تدور في مدار الأرض المنخفض.\\nوهذا ما يساعد إذا كانت الحاجة إلى تجنب التصادمات أثناء تحرك السواتل الخاصة بها حول الأرض. أو لتتبع عمليات الإطلاق، وما إلى ذلك.\\nمن وجهة نظر عسكرية، يمكن أن يكون تقييم الأضرار على السواتل وإمكانية إعادتها للعمل بسرعة ضرورياً في حالة وقوع صراع كبير. وتعتمد القوات المسلحة الأمريكية بشكل كبير على الأصول الفضائية لتوفير التحذير المبكر وجمع المعلومات والتوجيه بالأسلحة والاتصالات وتبادل البيانات والدعم الآخر.\\nيمكن استخدام مركبات الفضاء القابلة لإعادة الاستخدام والتي تتمتع بقدرة عالية على التحرك والتلاعب بالأجسام في المدار لأغراض البحث والتطوير والتقييم والاختبار.\\nومع ذلك، فإن مركبة الفضاء التي تتمتع بالقدرة على الاقتراب بشكل كبير من الأجسام الأخرى في المدار والتفاعل معها بشكل مادي هي قادرة بشكل أساسي على العمل كسلاح. وهناك قلق منذ فترة طويلة بشأن ما يسمى \"السواتل القاتلة\" التي يمكنها إطلاق مجموعة متنوعة من أنواع الهجمات على الأجسام الأخرى في الفضاء.\\nيمكن أن تشير قدرة الاتصال أو الاستيلاء على مركبة الفضاء الصينية القابلة لإعادة الاستخدام إلى وجود ذراعي روبوتات أو بروزات أخرى يمكن استخدامها لمحاولة إلحاق الضرر بأي ساتل معارض. يمكن تجهيز مركبة الفضاء بأنواع أخرى من القدرات الهجومية، بما في ذلك أنظمة الحرب الإلكترونية أو القدرة على إطلاق نوع ما من المقذوفات.\\nكما تقول شركة خدمات الفضاء الخاصة LeoLabs إن بياناتها تظهر مركبة فضائية صينية قابلة لإعادة الاستخدام، يُعتقد أنها تصميم طائرة فضاء مصغرة، رست أو التقطت بطريقة أخرى جسماً منفصلاً في مناسبات متعددة خلال مهمتها الأخيرة التي استمرت 276 يوماً في المدار. يمكن استخدام مركبة فضائية ذات قدرة عالية على المناورة مع هذا النوع من القدرة لمراقبة الأجسام الفضائية للخصم وتعطيلها ومهاجمتها بشكل مباشر، وكذلك استرداد الأجسام الصديقة أو التفاعل معها بأي طريقة أخرى.[4]\\n\\nمرئيات\\n\\n\\n\\n\\n\\n\\n\\nمكوك صيني تجريبي غامض، غير مأهول وقابل لإعادة الاستخدام يكمل مهمته الثانية بعد بقائه في المدار لمدة 276 يوماً، وفقاً للإعلام الرسمي الصيني. 8 مايو 2023.\\n\\n\\nانظر أيضاً\\nشن لونج\\nمكوك فضاء\\nالمصادر\\n\\n\\n^ Jacob Knutson (2023-05-08). \"China lands mysterious spaceplane after 276 days in orbit\". www.axios.com.\\n\\n^ Andrew Jones (2023-05-08). \"China\\'s mystery reusable spaceplane lands after 276 days in orbit\". spacenews.com.\\n\\n^ John Scott-Railton (2023-05-09). \"Chinese spaceplane that can capture satellites is extremely freaky\". twitter.com/jsrailton/status.\\n\\n^ JOSEPH TREVITHICK (2023-05-09). \"Chinese Spaceplane Docked With Another Object Multiple Times Data Indicates\". www.thedrive.com.\\n\\n\\n\\n\\n\\n\\n\\n\\n\\nتمّ الاسترجاع من \"https://www.marefa.org/w/index.php?title=أخبار:مكوك_صيني_يكمل_٢٧٦_يوما_بالفضاء&oldid=2916614\"\\nتصنيفات: 2023 في الصين2023 في رحلات الفضاءأخبار 9 مايو 2023\\n\\n\\n\\n\\n\\n\\n\\n\\n\\n\\n\\n\\n\\n\\n\\n'"
            ],
            "application/vnd.google.colaboratory.intrinsic+json": {
              "type": "string"
            }
          },
          "metadata": {},
          "execution_count": 13
        }
      ],
      "source": [
        "# Remove all HTML tags\n",
        "text = soup.get_text()\n",
        "text"
      ]
    },
    {
      "cell_type": "code",
      "execution_count": 14,
      "metadata": {
        "colab": {
          "base_uri": "https://localhost:8080/",
          "height": 185
        },
        "id": "Rko7g0wrh9e6",
        "outputId": "68ed3fe6-58f7-48af-c421-c01c2838c8f5"
      },
      "outputs": [
        {
          "output_type": "execute_result",
          "data": {
            "text/plain": [
              "'\\n\\n\\nأخبار:مكوك صيني يكمل ٢٧٦ يوما بالفضاء - المعرفة\\n\\n\\n\\n\\n\\n\\n\\n\\n\\n\\n\\n\\n\\n\\n\\n\\n\\n\\n\\n\\n\\n\\n\\n\\n\\n\\n\\n\\n\\n\\n\\n\\n\\n\\n\\nإنشاء حسابدخول\\n\\n\\n\\n\\n\\n\\n\\n\\n\\n\\n\\n\\nأخبارناقش هذه الصفحة\\nاقرأعرض المصدرتاريخ\\n\\nالمزيد\\n\\n\\nأدوات\\nماذا يرتبط هنا؟تغييرات ذات علاقةالصفحات الخاصّةنسخة للطباعةوصلة دائمةمعلومات عن هذه الصفحة\\n\\n\\n\\n\\n\\n\\n\\n\\n\\n\\n\\n\\n\\n\\n\\nأخبار:مكوك صيني يكمل ٢٧٦ يوما بالفضاء\\n\\n\\n\\n يُقال أنه مكان هبوط المكوك الصيني الغامض العائد إلى الأرض بعد 276 يوماً (8 مايو 2023)\\nبعد 276 يوماً من إتمام مهمته ..مكوك صيني غامض يعود إلى الأرض.\\nفي 8 مايو 2023، أكمل مكوك صيني تجريبي غامض، غير مأهول وقابل لإعادة الاستخدام مهمته الثانية بعد بقائه في المدار لمدة 276 يوماً، وفقاً للإعلام الرسمي الصيني.[1]\\nوترتبط أهمية المكوك بندرة المعلومات المعلنة عنه، ورغم شك الخبراء بأنه يمكن استخدامه للتدخل في السواتل الموجودة بالمدار.\\nولم تصدر السلطات الصينية الكثير من التفاصيل علناً حول المكوك أو المهمة الثانية، باستثناء مدة البقاء في المدار، وأنه تم إطلاقه من مركز إطلاق السواتل في جيوتشوان في صحراء غوبي على متن صاروخ \"لونغ مارش-2 إف\" في أغسطس 2022.\\nكنا ذكرت وسائل الإعلام الرسمية أن الاختبار يشكل اختراقاً في بحث الصين عن تقنية المركبات الفضائية القابلة لإعادة الاستخدام، والتي قالت إنها ستوفر للبلاد أساليب أكثر ملاءمة وأقل تكلفة لـ \"الاستخدام السلمي للفضاء في المستقبل\".\\nومن الغير واضح مدى الارتفاع الذي وصل إليه المكوك الصيني، أو نوعية التقنيات التي تم اختبارها خلال الرحلة، ولا حتى أين هبط بالضبط يوم 8 مايو.\\nيذكر أن المكوك أطلق جسماً في المدار بعد حوالي شهرين من الإطلاق، حسبما ذكرت سبيس نيوز، مستشهدة ببيانات تتبع القوات الفضائية الأمريكية.[2]\\nكما أنه من الغير معروف بالضبط ما هو الجسم الذي كان بجانب المكوك الصيني ونفذ حركات مشتركة معها بعد أشهر من إطلاقه. ولم يُنشر أي صور رسمية للمكوك - والتي يشار إليه باسم \"شن لونج\" - علناً، على الرغم من التقاط صور لأحد نماذجه عام 2007.\\nوفقاً لما قالته ماكينا يونغ من مركز الدراسات الاستراتيجية والدولية لـ Axios: \"إن القدرة على إطلاق جسم في المدار هو شيء يمكن استخدامه في المستقبل كقدرة لمواجهة الفضاء، وليس لدينا أي إشارة الآن إلى أن هذا ما يتم اختباره، لكنه ممكن بالتأكيد في المستقبل، ويعتمد ذلك حقاً على النية، والتي من الصعب بالفعل تمييزها\".\\nيُعد تطوير الصين للمكوك مثالًا على سرعة التقنيات التي يتم زرعها في البلاد والتي قد تنافس قدرات الفضاء الأمريكية. ويمكن أن يكون رداً مباشراً على بوينغ X-37 الأمريكية، وهي مركبة فضائية قابلة لإعادة الاستخدام تم تطويرها منذ أواخر الأربعينيات. وقد انتهت مهمة X-37B الكبرى في نوفمبر 2022 بعد قضاء أكثر من 900 يوم في المدار.\\nوتختلف هذه الرحلة الثانية الظاهرة على متن المركبة الفضائية السرية عن مهمتها الأولى في عام 2020. وشهدت تلك الرحلة مدار الطائرة الفضائية لمدة أربعة أيام في مدار 331×347 كيلومتراً ومائل بزاوية 50 درجة. استغرقت المهمة التي اكتملت للتو 276 يوماً، حيث دخلت المركبة الفضائية في مدار أولي 346 × 593 كيلومتراً مائلاً بمقدار 50 درجة، ثم حولت المدار بشكل دائري إلى 597 بمقدار 608 كيلومترات.\\n\\nفهرست\\n\\n1 مهامه\\n2 مرئيات\\n3 انظر أيضاً\\n4 المصادر\\n\\n\\nمهامه\\n اتهامات بأن شن لونج يقوم باختطاف السواتل في مداراتها.\\nهناك اتهامات أن شن لونج يقوم باختطاف السواتل في الفضاء ووفق تصريحات تفيد بأن شن لونج قد دفع وقام بعمليات اقتراب مع الجسم J، بما في ذلك ما يبدو أنه على الأقل عملية اصطياد/رصد اثنين وربما ثلاث عمليات.[3]\\nتُستخدم أجهزة الرادار الضخمة الموجهة نحو الأعلى من بعض النقاط على الأرض لتتبع الأشياء التي تدور في مدار الأرض المنخفض.\\nوهذا ما يساعد إذا كانت الحاجة إلى تجنب التصادمات أثناء تحرك السواتل الخاصة بها حول الأرض. أو لتتبع عمليات الإطلاق، وما إلى ذلك.\\nمن وجهة نظر عسكرية، يمكن أن يكون تقييم الأضرار على السواتل وإمكانية إعادتها للعمل بسرعة ضرورياً في حالة وقوع صراع كبير. وتعتمد القوات المسلحة الأمريكية بشكل كبير على الأصول الفضائية لتوفير التحذير المبكر وجمع المعلومات والتوجيه بالأسلحة والاتصالات وتبادل البيانات والدعم الآخر.\\nيمكن استخدام مركبات الفضاء القابلة لإعادة الاستخدام والتي تتمتع بقدرة عالية على التحرك والتلاعب بالأجسام في المدار لأغراض البحث والتطوير والتقييم والاختبار.\\nومع ذلك، فإن مركبة الفضاء التي تتمتع بالقدرة على الاقتراب بشكل كبير من الأجسام الأخرى في المدار والتفاعل معها بشكل مادي هي قادرة بشكل أساسي على العمل كسلاح. وهناك قلق منذ فترة طويلة بشأن ما يسمى \"السواتل القاتلة\" التي يمكنها إطلاق مجموعة متنوعة من أنواع الهجمات على الأجسام الأخرى في الفضاء.\\nيمكن أن تشير قدرة الاتصال أو الاستيلاء على مركبة الفضاء الصينية القابلة لإعادة الاستخدام إلى وجود ذراعي روبوتات أو بروزات أخرى يمكن استخدامها لمحاولة إلحاق الضرر بأي ساتل معارض. يمكن تجهيز مركبة الفضاء بأنواع أخرى من القدرات الهجومية، بما في ذلك أنظمة الحرب الإلكترونية أو القدرة على إطلاق نوع ما من المقذوفات.\\nكما تقول شركة خدمات الفضاء الخاصة LeoLabs إن بياناتها تظهر مركبة فضائية صينية قابلة لإعادة الاستخدام، يُعتقد أنها تصميم طائرة فضاء مصغرة، رست أو التقطت بطريقة أخرى جسماً منفصلاً في مناسبات متعددة خلال مهمتها الأخيرة التي استمرت 276 يوماً في المدار. يمكن استخدام مركبة فضائية ذات قدرة عالية على المناورة مع هذا النوع من القدرة لمراقبة الأجسام الفضائية للخصم وتعطيلها ومهاجمتها بشكل مباشر، وكذلك استرداد الأجسام الصديقة أو التفاعل معها بأي طريقة أخرى.[4]\\n\\nمرئيات\\n\\n\\n\\n\\n\\n\\n\\nمكوك صيني تجريبي غامض، غير مأهول وقابل لإعادة الاستخدام يكمل مهمته الثانية بعد بقائه في المدار لمدة 276 يوماً، وفقاً للإعلام الرسمي الصيني. 8 مايو 2023.\\n\\n\\nانظر أيضاً\\nشن لونج\\nمكوك فضاء\\nالمصادر\\n\\n\\n^ Jacob Knutson (2023-05-08). \"China lands mysterious spaceplane after 276 days in orbit\". www.axios.com.\\n\\n^ Andrew Jones (2023-05-08). \"China\\'s mystery reusable spaceplane lands after 276 days in orbit\". spacenews.com.\\n\\n^ John Scott-Railton (2023-05-09). \"Chinese spaceplane that can capture satellites is extremely freaky\". twitter.com/jsrailton/status.\\n\\n^ JOSEPH TREVITHICK (2023-05-09). \"Chinese Spaceplane Docked With Another Object Multiple Times Data Indicates\". www.thedrive.com.\\n\\n\\n\\n\\n\\n\\n\\n\\n\\nتمّ الاسترجاع من \"https://www.marefa.org/w/index.php?title=أخبار:مكوك_صيني_يكمل_٢٧٦_يوما_بالفضاء&oldid=2916614\"\\nتصنيفات: 2023 في الصين2023 في رحلات الفضاءأخبار 9 مايو 2023\\n\\n\\n\\n\\n\\n\\n\\n\\n\\n\\n\\n\\n\\n\\n\\n'"
            ],
            "application/vnd.google.colaboratory.intrinsic+json": {
              "type": "string"
            }
          },
          "metadata": {},
          "execution_count": 14
        }
      ],
      "source": [
        "# Remove menus and ads by replacing them with an empty string using regular expressions\n",
        "text = re.sub(r\"<nav.*?</nav>\", \"\", text, flags=re.DOTALL)\n",
        "text = re.sub(r\"<div.*?class=['\\\"](?:menu|navbar)['\\\"].*?>.*?</div>\", \"\", text, flags=re.DOTALL)\n",
        "text = re.sub(r\"<(?:div|span|section).*?class=['\\\"](?:ads|advertisement)['\\\"].*?>.*?</(?:div|span|section)>\", \"\", text, flags=re.DOTALL)\n",
        "text"
      ]
    },
    {
      "cell_type": "code",
      "execution_count": 15,
      "metadata": {
        "colab": {
          "base_uri": "https://localhost:8080/",
          "height": 185
        },
        "id": "HSGEme9cFOGU",
        "outputId": "36deebca-f143-4b47-8f2a-feac1cacbc86"
      },
      "outputs": [
        {
          "output_type": "execute_result",
          "data": {
            "text/plain": [
              "'\\nأخبار:مكوك صيني يكمل ٢٧٦ يوما بالفضاء - المعرفة\\nإنشاء حسابدخول\\nأخبارناقش هذه الصفحة\\nاقرأعرض المصدرتاريخ\\nالمزيد\\nأدوات\\nماذا يرتبط هنا؟تغييرات ذات علاقةالصفحات الخاصّةنسخة للطباعةوصلة دائمةمعلومات عن هذه الصفحة\\nأخبار:مكوك صيني يكمل ٢٧٦ يوما بالفضاء\\n يُقال أنه مكان هبوط المكوك الصيني الغامض العائد إلى الأرض بعد 276 يوماً (8 مايو 2023)\\nبعد 276 يوماً من إتمام مهمته ..مكوك صيني غامض يعود إلى الأرض.\\nفي 8 مايو 2023، أكمل مكوك صيني تجريبي غامض، غير مأهول وقابل لإعادة الاستخدام مهمته الثانية بعد بقائه في المدار لمدة 276 يوماً، وفقاً للإعلام الرسمي الصيني.[1]\\nوترتبط أهمية المكوك بندرة المعلومات المعلنة عنه، ورغم شك الخبراء بأنه يمكن استخدامه للتدخل في السواتل الموجودة بالمدار.\\nولم تصدر السلطات الصينية الكثير من التفاصيل علناً حول المكوك أو المهمة الثانية، باستثناء مدة البقاء في المدار، وأنه تم إطلاقه من مركز إطلاق السواتل في جيوتشوان في صحراء غوبي على متن صاروخ \"لونغ مارش-2 إف\" في أغسطس 2022.\\nكنا ذكرت وسائل الإعلام الرسمية أن الاختبار يشكل اختراقاً في بحث الصين عن تقنية المركبات الفضائية القابلة لإعادة الاستخدام، والتي قالت إنها ستوفر للبلاد أساليب أكثر ملاءمة وأقل تكلفة لـ \"الاستخدام السلمي للفضاء في المستقبل\".\\nومن الغير واضح مدى الارتفاع الذي وصل إليه المكوك الصيني، أو نوعية التقنيات التي تم اختبارها خلال الرحلة، ولا حتى أين هبط بالضبط يوم 8 مايو.\\nيذكر أن المكوك أطلق جسماً في المدار بعد حوالي شهرين من الإطلاق، حسبما ذكرت سبيس نيوز، مستشهدة ببيانات تتبع القوات الفضائية الأمريكية.[2]\\nكما أنه من الغير معروف بالضبط ما هو الجسم الذي كان بجانب المكوك الصيني ونفذ حركات مشتركة معها بعد أشهر من إطلاقه. ولم يُنشر أي صور رسمية للمكوك - والتي يشار إليه باسم \"شن لونج\" - علناً، على الرغم من التقاط صور لأحد نماذجه عام 2007.\\nوفقاً لما قالته ماكينا يونغ من مركز الدراسات الاستراتيجية والدولية لـ Axios: \"إن القدرة على إطلاق جسم في المدار هو شيء يمكن استخدامه في المستقبل كقدرة لمواجهة الفضاء، وليس لدينا أي إشارة الآن إلى أن هذا ما يتم اختباره، لكنه ممكن بالتأكيد في المستقبل، ويعتمد ذلك حقاً على النية، والتي من الصعب بالفعل تمييزها\".\\nيُعد تطوير الصين للمكوك مثالًا على سرعة التقنيات التي يتم زرعها في البلاد والتي قد تنافس قدرات الفضاء الأمريكية. ويمكن أن يكون رداً مباشراً على بوينغ X-37 الأمريكية، وهي مركبة فضائية قابلة لإعادة الاستخدام تم تطويرها منذ أواخر الأربعينيات. وقد انتهت مهمة X-37B الكبرى في نوفمبر 2022 بعد قضاء أكثر من 900 يوم في المدار.\\nوتختلف هذه الرحلة الثانية الظاهرة على متن المركبة الفضائية السرية عن مهمتها الأولى في عام 2020. وشهدت تلك الرحلة مدار الطائرة الفضائية لمدة أربعة أيام في مدار 331×347 كيلومتراً ومائل بزاوية 50 درجة. استغرقت المهمة التي اكتملت للتو 276 يوماً، حيث دخلت المركبة الفضائية في مدار أولي 346 × 593 كيلومتراً مائلاً بمقدار 50 درجة، ثم حولت المدار بشكل دائري إلى 597 بمقدار 608 كيلومترات.\\nفهرست\\n1 مهامه\\n2 مرئيات\\n3 انظر أيضاً\\n4 المصادر\\nمهامه\\n اتهامات بأن شن لونج يقوم باختطاف السواتل في مداراتها.\\nهناك اتهامات أن شن لونج يقوم باختطاف السواتل في الفضاء ووفق تصريحات تفيد بأن شن لونج قد دفع وقام بعمليات اقتراب مع الجسم J، بما في ذلك ما يبدو أنه على الأقل عملية اصطياد/رصد اثنين وربما ثلاث عمليات.[3]\\nتُستخدم أجهزة الرادار الضخمة الموجهة نحو الأعلى من بعض النقاط على الأرض لتتبع الأشياء التي تدور في مدار الأرض المنخفض.\\nوهذا ما يساعد إذا كانت الحاجة إلى تجنب التصادمات أثناء تحرك السواتل الخاصة بها حول الأرض. أو لتتبع عمليات الإطلاق، وما إلى ذلك.\\nمن وجهة نظر عسكرية، يمكن أن يكون تقييم الأضرار على السواتل وإمكانية إعادتها للعمل بسرعة ضرورياً في حالة وقوع صراع كبير. وتعتمد القوات المسلحة الأمريكية بشكل كبير على الأصول الفضائية لتوفير التحذير المبكر وجمع المعلومات والتوجيه بالأسلحة والاتصالات وتبادل البيانات والدعم الآخر.\\nيمكن استخدام مركبات الفضاء القابلة لإعادة الاستخدام والتي تتمتع بقدرة عالية على التحرك والتلاعب بالأجسام في المدار لأغراض البحث والتطوير والتقييم والاختبار.\\nومع ذلك، فإن مركبة الفضاء التي تتمتع بالقدرة على الاقتراب بشكل كبير من الأجسام الأخرى في المدار والتفاعل معها بشكل مادي هي قادرة بشكل أساسي على العمل كسلاح. وهناك قلق منذ فترة طويلة بشأن ما يسمى \"السواتل القاتلة\" التي يمكنها إطلاق مجموعة متنوعة من أنواع الهجمات على الأجسام الأخرى في الفضاء.\\nيمكن أن تشير قدرة الاتصال أو الاستيلاء على مركبة الفضاء الصينية القابلة لإعادة الاستخدام إلى وجود ذراعي روبوتات أو بروزات أخرى يمكن استخدامها لمحاولة إلحاق الضرر بأي ساتل معارض. يمكن تجهيز مركبة الفضاء بأنواع أخرى من القدرات الهجومية، بما في ذلك أنظمة الحرب الإلكترونية أو القدرة على إطلاق نوع ما من المقذوفات.\\nكما تقول شركة خدمات الفضاء الخاصة LeoLabs إن بياناتها تظهر مركبة فضائية صينية قابلة لإعادة الاستخدام، يُعتقد أنها تصميم طائرة فضاء مصغرة، رست أو التقطت بطريقة أخرى جسماً منفصلاً في مناسبات متعددة خلال مهمتها الأخيرة التي استمرت 276 يوماً في المدار. يمكن استخدام مركبة فضائية ذات قدرة عالية على المناورة مع هذا النوع من القدرة لمراقبة الأجسام الفضائية للخصم وتعطيلها ومهاجمتها بشكل مباشر، وكذلك استرداد الأجسام الصديقة أو التفاعل معها بأي طريقة أخرى.[4]\\nمرئيات\\nمكوك صيني تجريبي غامض، غير مأهول وقابل لإعادة الاستخدام يكمل مهمته الثانية بعد بقائه في المدار لمدة 276 يوماً، وفقاً للإعلام الرسمي الصيني. 8 مايو 2023.\\nانظر أيضاً\\nشن لونج\\nمكوك فضاء\\nالمصادر\\n^ Jacob Knutson (2023-05-08). \"China lands mysterious spaceplane after 276 days in orbit\". www.axios.com.\\n^ Andrew Jones (2023-05-08). \"China\\'s mystery reusable spaceplane lands after 276 days in orbit\". spacenews.com.\\n^ John Scott-Railton (2023-05-09). \"Chinese spaceplane that can capture satellites is extremely freaky\". twitter.com/jsrailton/status.\\n^ JOSEPH TREVITHICK (2023-05-09). \"Chinese Spaceplane Docked With Another Object Multiple Times Data Indicates\". www.thedrive.com.\\nتمّ الاسترجاع من \"https://www.marefa.org/w/index.php?title=أخبار:مكوك_صيني_يكمل_٢٧٦_يوما_بالفضاء&oldid=2916614\"\\nتصنيفات: 2023 في الصين2023 في رحلات الفضاءأخبار 9 مايو 2023'"
            ],
            "application/vnd.google.colaboratory.intrinsic+json": {
              "type": "string"
            }
          },
          "metadata": {},
          "execution_count": 15
        }
      ],
      "source": [
        "# Remove duplicate lines\n",
        "text = \"\\n\".join(sorted(set(text.splitlines()), key=text.splitlines().index))\n",
        "text"
      ]
    },
    {
      "cell_type": "code",
      "execution_count": 16,
      "metadata": {
        "id": "A5gFlF3BIwqD"
      },
      "outputs": [],
      "source": [
        "# Remove extra whitespace\n",
        "#text = re.sub(r'\\s+',' ', text).strip()\n",
        "#text"
      ]
    },
    {
      "cell_type": "code",
      "execution_count": 17,
      "metadata": {
        "colab": {
          "base_uri": "https://localhost:8080/",
          "height": 185
        },
        "id": "O89-ZMbiIz5a",
        "outputId": "546a6a9e-a6b4-4266-f158-2eb75d749ece"
      },
      "outputs": [
        {
          "output_type": "execute_result",
          "data": {
            "text/plain": [
              "'\\nأخبار:مكوك صيني يكمل ٢٧٦ يوما بالفضاء - المعرفة\\nإنشاء حسابدخول\\nأخبارناقش هذه الصفحة\\nاقرأعرض المصدرتاريخ\\nالمزيد\\nأدوات\\nماذا يرتبط هنا؟تغييرات ذات علاقةالصفحات الخاصّةنسخة للطباعةوصلة دائمةمعلومات عن هذه الصفحة\\nأخبار:مكوك صيني يكمل ٢٧٦ يوما بالفضاء\\n يُقال أنه مكان هبوط المكوك الصيني الغامض العائد إلى الأرض بعد 276 يوماً (8 مايو 2023)\\nبعد 276 يوماً من إتمام مهمته ..مكوك صيني غامض يعود إلى الأرض.\\nفي 8 مايو 2023، أكمل مكوك صيني تجريبي غامض، غير مأهول وقابل لإعادة الاستخدام مهمته الثانية بعد بقائه في المدار لمدة 276 يوماً، وفقاً للإعلام الرسمي الصيني.[1]\\nوترتبط أهمية المكوك بندرة المعلومات المعلنة عنه، ورغم شك الخبراء بأنه يمكن استخدامه للتدخل في السواتل الموجودة بالمدار.\\nولم تصدر السلطات الصينية الكثير من التفاصيل علناً حول المكوك أو المهمة الثانية، باستثناء مدة البقاء في المدار، وأنه تم إطلاقه من مركز إطلاق السواتل في جيوتشوان في صحراء غوبي على متن صاروخ \"لونغ مارش-2 إف\" في أغسطس 2022.\\nكنا ذكرت وسائل الإعلام الرسمية أن الاختبار يشكل اختراقاً في بحث الصين عن تقنية المركبات الفضائية القابلة لإعادة الاستخدام، والتي قالت إنها ستوفر للبلاد أساليب أكثر ملاءمة وأقل تكلفة لـ \"الاستخدام السلمي للفضاء في المستقبل\".\\nومن الغير واضح مدى الارتفاع الذي وصل إليه المكوك الصيني، أو نوعية التقنيات التي تم اختبارها خلال الرحلة، ولا حتى أين هبط بالضبط يوم 8 مايو.\\nيذكر أن المكوك أطلق جسماً في المدار بعد حوالي شهرين من الإطلاق، حسبما ذكرت سبيس نيوز، مستشهدة ببيانات تتبع القوات الفضائية الأمريكية.[2]\\nكما أنه من الغير معروف بالضبط ما هو الجسم الذي كان بجانب المكوك الصيني ونفذ حركات مشتركة معها بعد أشهر من إطلاقه. ولم يُنشر أي صور رسمية للمكوك - والتي يشار إليه باسم \"شن لونج\" - علناً، على الرغم من التقاط صور لأحد نماذجه عام 2007.\\nوفقاً لما قالته ماكينا يونغ من مركز الدراسات الاستراتيجية والدولية لـ Axios: \"إن القدرة على إطلاق جسم في المدار هو شيء يمكن استخدامه في المستقبل كقدرة لمواجهة الفضاء، وليس لدينا أي إشارة الآن إلى أن هذا ما يتم اختباره، لكنه ممكن بالتأكيد في المستقبل، ويعتمد ذلك حقاً على النية، والتي من الصعب بالفعل تمييزها\".\\nيُعد تطوير الصين للمكوك مثالًا على سرعة التقنيات التي يتم زرعها في البلاد والتي قد تنافس قدرات الفضاء الأمريكية. ويمكن أن يكون رداً مباشراً على بوينغ X-37 الأمريكية، وهي مركبة فضائية قابلة لإعادة الاستخدام تم تطويرها منذ أواخر الأربعينيات. وقد انتهت مهمة X-37B الكبرى في نوفمبر 2022 بعد قضاء أكثر من 900 يوم في المدار.\\nوتختلف هذه الرحلة الثانية الظاهرة على متن المركبة الفضائية السرية عن مهمتها الأولى في عام 2020. وشهدت تلك الرحلة مدار الطائرة الفضائية لمدة أربعة أيام في مدار 331×347 كيلومتراً ومائل بزاوية 50 درجة. استغرقت المهمة التي اكتملت للتو 276 يوماً، حيث دخلت المركبة الفضائية في مدار أولي 346 × 593 كيلومتراً مائلاً بمقدار 50 درجة، ثم حولت المدار بشكل دائري إلى 597 بمقدار 608 كيلومترات.\\nفهرست\\n1 مهامه\\n2 مرئيات\\n3 انظر أيضاً\\n4 المصادر\\nمهامه\\n اتهامات بأن شن لونج يقوم باختطاف السواتل في مداراتها.\\nهناك اتهامات أن شن لونج يقوم باختطاف السواتل في الفضاء ووفق تصريحات تفيد بأن شن لونج قد دفع وقام بعمليات اقتراب مع الجسم J، بما في ذلك ما يبدو أنه على الأقل عملية اصطياد/رصد اثنين وربما ثلاث عمليات.[3]\\nتُستخدم أجهزة الرادار الضخمة الموجهة نحو الأعلى من بعض النقاط على الأرض لتتبع الأشياء التي تدور في مدار الأرض المنخفض.\\nوهذا ما يساعد إذا كانت الحاجة إلى تجنب التصادمات أثناء تحرك السواتل الخاصة بها حول الأرض. أو لتتبع عمليات الإطلاق، وما إلى ذلك.\\nمن وجهة نظر عسكرية، يمكن أن يكون تقييم الأضرار على السواتل وإمكانية إعادتها للعمل بسرعة ضرورياً في حالة وقوع صراع كبير. وتعتمد القوات المسلحة الأمريكية بشكل كبير على الأصول الفضائية لتوفير التحذير المبكر وجمع المعلومات والتوجيه بالأسلحة والاتصالات وتبادل البيانات والدعم الآخر.\\nيمكن استخدام مركبات الفضاء القابلة لإعادة الاستخدام والتي تتمتع بقدرة عالية على التحرك والتلاعب بالأجسام في المدار لأغراض البحث والتطوير والتقييم والاختبار.\\nومع ذلك، فإن مركبة الفضاء التي تتمتع بالقدرة على الاقتراب بشكل كبير من الأجسام الأخرى في المدار والتفاعل معها بشكل مادي هي قادرة بشكل أساسي على العمل كسلاح. وهناك قلق منذ فترة طويلة بشأن ما يسمى \"السواتل القاتلة\" التي يمكنها إطلاق مجموعة متنوعة من أنواع الهجمات على الأجسام الأخرى في الفضاء.\\nيمكن أن تشير قدرة الاتصال أو الاستيلاء على مركبة الفضاء الصينية القابلة لإعادة الاستخدام إلى وجود ذراعي روبوتات أو بروزات أخرى يمكن استخدامها لمحاولة إلحاق الضرر بأي ساتل معارض. يمكن تجهيز مركبة الفضاء بأنواع أخرى من القدرات الهجومية، بما في ذلك أنظمة الحرب الإلكترونية أو القدرة على إطلاق نوع ما من المقذوفات.\\nكما تقول شركة خدمات الفضاء الخاصة LeoLabs إن بياناتها تظهر مركبة فضائية صينية قابلة لإعادة الاستخدام، يُعتقد أنها تصميم طائرة فضاء مصغرة، رست أو التقطت بطريقة أخرى جسماً منفصلاً في مناسبات متعددة خلال مهمتها الأخيرة التي استمرت 276 يوماً في المدار. يمكن استخدام مركبة فضائية ذات قدرة عالية على المناورة مع هذا النوع من القدرة لمراقبة الأجسام الفضائية للخصم وتعطيلها ومهاجمتها بشكل مباشر، وكذلك استرداد الأجسام الصديقة أو التفاعل معها بأي طريقة أخرى.[4]\\nمرئيات\\nمكوك صيني تجريبي غامض، غير مأهول وقابل لإعادة الاستخدام يكمل مهمته الثانية بعد بقائه في المدار لمدة 276 يوماً، وفقاً للإعلام الرسمي الصيني. 8 مايو 2023.\\nانظر أيضاً\\nشن لونج\\nمكوك فضاء\\nالمصادر\\n^ Jacob Knutson (2023-05-08). \"China lands mysterious spaceplane after 276 days in orbit\". www.axios.com.\\n^ Andrew Jones (2023-05-08). \"China\\'s mystery reusable spaceplane lands after 276 days in orbit\". spacenews.com.\\n^ John Scott-Railton (2023-05-09). \"Chinese spaceplane that can capture satellites is extremely freaky\". twitter.com/jsrailton/status.\\n^ JOSEPH TREVITHICK (2023-05-09). \"Chinese Spaceplane Docked With Another Object Multiple Times Data Indicates\". www.thedrive.com.\\nتمّ الاسترجاع من \"https://www.marefa.org/w/index.php?title=أخبار:مكوك_صيني_يكمل_٢٧٦_يوما_بالفضاء&oldid=2916614\"\\nتصنيفات: 2023 في الصين2023 في رحلات الفضاءأخبار 9 مايو 2023'"
            ],
            "application/vnd.google.colaboratory.intrinsic+json": {
              "type": "string"
            }
          },
          "metadata": {},
          "execution_count": 17
        }
      ],
      "source": [
        "# Remove any remaining HTML entities\n",
        "text = re.sub(r'&\\w+;', '', text)\n",
        "text"
      ]
    },
    {
      "cell_type": "code",
      "execution_count": 18,
      "metadata": {
        "id": "Tq9QK7-wcE2r"
      },
      "outputs": [],
      "source": [
        "# Remove any remaining HTML entities and English characters\n",
        "#text = re.sub(r'[^\\u0600-\\u06FF\\s]', '', re.sub(r'&\\w+;', '', text))\n",
        "#text"
      ]
    },
    {
      "cell_type": "code",
      "execution_count": 19,
      "metadata": {
        "id": "Y8iV_HYMcuc_"
      },
      "outputs": [],
      "source": [
        "# Remove any remaining HTML entities, English characters, and numbers\n",
        "#text = re.sub(r'[^\\u0600-\\u06FF\\s]', '', re.sub(r'&\\w+;', '', text))\n",
        "#text = re.sub(r'\\d+', '', text)\n",
        "#text"
      ]
    },
    {
      "cell_type": "code",
      "execution_count": 20,
      "metadata": {
        "id": "1HR7C8DgQeQ0"
      },
      "outputs": [],
      "source": [
        "# Remove newlines\n",
        "#text = [re.sub('\\n' , ' ' , text) for doc in soup]\n",
        "#text"
      ]
    },
    {
      "cell_type": "code",
      "execution_count": 21,
      "metadata": {
        "colab": {
          "base_uri": "https://localhost:8080/",
          "height": 185
        },
        "id": "ZPUqHlLEdGVH",
        "outputId": "4947db04-3df5-4c3a-e757-25f3cd228df7"
      },
      "outputs": [
        {
          "output_type": "execute_result",
          "data": {
            "text/plain": [
              "'\\nأخبار:مكوك صيني يكمل ٢٧٦ يوما بالفضاء - المعرفة\\nإنشاء حسابدخول\\nأخبارناقش هذه الصفحة\\nاقرأعرض المصدرتاريخ\\nالمزيد\\nأدوات\\nماذا يرتبط هنا؟تغييرات ذات علاقةالصفحات الخاصّةنسخة للطباعةوصلة دائمةمعلومات عن هذه الصفحة\\nأخبار:مكوك صيني يكمل ٢٧٦ يوما بالفضاء\\n يُقال أنه مكان هبوط المكوك الصيني الغامض العائد إلى الأرض بعد 276 يوماً (8 مايو 2023)\\nبعد 276 يوماً من إتمام مهمته ..مكوك صيني غامض يعود إلى الأرض.\\nفي 8 مايو 2023، أكمل مكوك صيني تجريبي غامض، غير مأهول وقابل لإعادة الاستخدام مهمته الثانية بعد بقائه في المدار لمدة 276 يوماً، وفقاً للإعلام الرسمي الصيني.[1]\\nوترتبط أهمية المكوك بندرة المعلومات المعلنة عنه، ورغم شك الخبراء بأنه يمكن استخدامه للتدخل في السواتل الموجودة بالمدار.\\nولم تصدر السلطات الصينية الكثير من التفاصيل علناً حول المكوك أو المهمة الثانية، باستثناء مدة البقاء في المدار، وأنه تم إطلاقه من مركز إطلاق السواتل في جيوتشوان في صحراء غوبي على متن صاروخ \"لونغ مارش-2 إف\" في أغسطس 2022.\\nكنا ذكرت وسائل الإعلام الرسمية أن الاختبار يشكل اختراقاً في بحث الصين عن تقنية المركبات الفضائية القابلة لإعادة الاستخدام، والتي قالت إنها ستوفر للبلاد أساليب أكثر ملاءمة وأقل تكلفة لـ \"الاستخدام السلمي للفضاء في المستقبل\".\\nومن الغير واضح مدى الارتفاع الذي وصل إليه المكوك الصيني، أو نوعية التقنيات التي تم اختبارها خلال الرحلة، ولا حتى أين هبط بالضبط يوم 8 مايو.\\nيذكر أن المكوك أطلق جسماً في المدار بعد حوالي شهرين من الإطلاق، حسبما ذكرت سبيس نيوز، مستشهدة ببيانات تتبع القوات الفضائية الأمريكية.[2]\\nكما أنه من الغير معروف بالضبط ما هو الجسم الذي كان بجانب المكوك الصيني ونفذ حركات مشتركة معها بعد أشهر من إطلاقه. ولم يُنشر أي صور رسمية للمكوك - والتي يشار إليه باسم \"شن لونج\" - علناً، على الرغم من التقاط صور لأحد نماذجه عام 2007.\\nوفقاً لما قالته ماكينا يونغ من مركز الدراسات الاستراتيجية والدولية لـ Axios: \"إن القدرة على إطلاق جسم في المدار هو شيء يمكن استخدامه في المستقبل كقدرة لمواجهة الفضاء، وليس لدينا أي إشارة الآن إلى أن هذا ما يتم اختباره، لكنه ممكن بالتأكيد في المستقبل، ويعتمد ذلك حقاً على النية، والتي من الصعب بالفعل تمييزها\".\\nيُعد تطوير الصين للمكوك مثالًا على سرعة التقنيات التي يتم زرعها في البلاد والتي قد تنافس قدرات الفضاء الأمريكية. ويمكن أن يكون رداً مباشراً على بوينغ X-37 الأمريكية، وهي مركبة فضائية قابلة لإعادة الاستخدام تم تطويرها منذ أواخر الأربعينيات. وقد انتهت مهمة X-37B الكبرى في نوفمبر 2022 بعد قضاء أكثر من 900 يوم في المدار.\\nوتختلف هذه الرحلة الثانية الظاهرة على متن المركبة الفضائية السرية عن مهمتها الأولى في عام 2020. وشهدت تلك الرحلة مدار الطائرة الفضائية لمدة أربعة أيام في مدار 331×347 كيلومتراً ومائل بزاوية 50 درجة. استغرقت المهمة التي اكتملت للتو 276 يوماً، حيث دخلت المركبة الفضائية في مدار أولي 346 × 593 كيلومتراً مائلاً بمقدار 50 درجة، ثم حولت المدار بشكل دائري إلى 597 بمقدار 608 كيلومترات.\\nفهرست\\n1 مهامه\\n2 مرئيات\\n3 انظر أيضاً\\n4 المصادر\\nمهامه\\n اتهامات بأن شن لونج يقوم باختطاف السواتل في مداراتها.\\nهناك اتهامات أن شن لونج يقوم باختطاف السواتل في الفضاء ووفق تصريحات تفيد بأن شن لونج قد دفع وقام بعمليات اقتراب مع الجسم J، بما في ذلك ما يبدو أنه على الأقل عملية اصطياد/رصد اثنين وربما ثلاث عمليات.[3]\\nتُستخدم أجهزة الرادار الضخمة الموجهة نحو الأعلى من بعض النقاط على الأرض لتتبع الأشياء التي تدور في مدار الأرض المنخفض.\\nوهذا ما يساعد إذا كانت الحاجة إلى تجنب التصادمات أثناء تحرك السواتل الخاصة بها حول الأرض. أو لتتبع عمليات الإطلاق، وما إلى ذلك.\\nمن وجهة نظر عسكرية، يمكن أن يكون تقييم الأضرار على السواتل وإمكانية إعادتها للعمل بسرعة ضرورياً في حالة وقوع صراع كبير. وتعتمد القوات المسلحة الأمريكية بشكل كبير على الأصول الفضائية لتوفير التحذير المبكر وجمع المعلومات والتوجيه بالأسلحة والاتصالات وتبادل البيانات والدعم الآخر.\\nيمكن استخدام مركبات الفضاء القابلة لإعادة الاستخدام والتي تتمتع بقدرة عالية على التحرك والتلاعب بالأجسام في المدار لأغراض البحث والتطوير والتقييم والاختبار.\\nومع ذلك، فإن مركبة الفضاء التي تتمتع بالقدرة على الاقتراب بشكل كبير من الأجسام الأخرى في المدار والتفاعل معها بشكل مادي هي قادرة بشكل أساسي على العمل كسلاح. وهناك قلق منذ فترة طويلة بشأن ما يسمى \"السواتل القاتلة\" التي يمكنها إطلاق مجموعة متنوعة من أنواع الهجمات على الأجسام الأخرى في الفضاء.\\nيمكن أن تشير قدرة الاتصال أو الاستيلاء على مركبة الفضاء الصينية القابلة لإعادة الاستخدام إلى وجود ذراعي روبوتات أو بروزات أخرى يمكن استخدامها لمحاولة إلحاق الضرر بأي ساتل معارض. يمكن تجهيز مركبة الفضاء بأنواع أخرى من القدرات الهجومية، بما في ذلك أنظمة الحرب الإلكترونية أو القدرة على إطلاق نوع ما من المقذوفات.\\nكما تقول شركة خدمات الفضاء الخاصة LeoLabs إن بياناتها تظهر مركبة فضائية صينية قابلة لإعادة الاستخدام، يُعتقد أنها تصميم طائرة فضاء مصغرة، رست أو التقطت بطريقة أخرى جسماً منفصلاً في مناسبات متعددة خلال مهمتها الأخيرة التي استمرت 276 يوماً في المدار. يمكن استخدام مركبة فضائية ذات قدرة عالية على المناورة مع هذا النوع من القدرة لمراقبة الأجسام الفضائية للخصم وتعطيلها ومهاجمتها بشكل مباشر، وكذلك استرداد الأجسام الصديقة أو التفاعل معها بأي طريقة أخرى.[4]\\nمرئيات\\nمكوك صيني تجريبي غامض، غير مأهول وقابل لإعادة الاستخدام يكمل مهمته الثانية بعد بقائه في المدار لمدة 276 يوماً، وفقاً للإعلام الرسمي الصيني. 8 مايو 2023.\\nانظر أيضاً\\nشن لونج\\nمكوك فضاء\\nالمصادر\\n^ Jacob Knutson (2023-05-08). \"China lands mysterious spaceplane after 276 days in orbit\". www.axios.com.\\n^ Andrew Jones (2023-05-08). \"China\\'s mystery reusable spaceplane lands after 276 days in orbit\". spacenews.com.\\n^ John Scott-Railton (2023-05-09). \"Chinese spaceplane that can capture satellites is extremely freaky\". twitter.com/jsrailton/status.\\n^ JOSEPH TREVITHICK (2023-05-09). \"Chinese Spaceplane Docked With Another Object Multiple Times Data Indicates\". www.thedrive.com.\\nتمّ الاسترجاع من \"https://www.marefa.org/w/index.php?title=أخبار:مكوك_صيني_يكمل_٢٧٦_يوما_بالفضاء&oldid=2916614\"\\nتصنيفات: 2023 في الصين2023 في رحلات الفضاءأخبار 9 مايو 2023'"
            ],
            "application/vnd.google.colaboratory.intrinsic+json": {
              "type": "string"
            }
          },
          "metadata": {},
          "execution_count": 21
        }
      ],
      "source": [
        "# Convert list to string\n",
        "text = ''.join(text)\n",
        "text"
      ]
    },
    {
      "cell_type": "markdown",
      "source": [
        "# Save the final output as a JSON "
      ],
      "metadata": {
        "id": "p_JVk6u1PFTI"
      }
    },
    {
      "cell_type": "code",
      "execution_count": 22,
      "metadata": {
        "id": "K1CEtZKrdRTX"
      },
      "outputs": [],
      "source": [
        "# Write cleaned text to file\n",
        "with open('output.json', 'w', encoding='utf-8') as f:\n",
        "    f.write(text)"
      ]
    }
  ],
  "metadata": {
    "accelerator": "GPU",
    "colab": {
      "provenance": []
    },
    "gpuClass": "standard",
    "kernelspec": {
      "display_name": "Python 3 (ipykernel)",
      "language": "python",
      "name": "python3"
    },
    "language_info": {
      "codemirror_mode": {
        "name": "ipython",
        "version": 3
      },
      "file_extension": ".py",
      "mimetype": "text/x-python",
      "name": "python",
      "nbconvert_exporter": "python",
      "pygments_lexer": "ipython3",
      "version": "3.9.12"
    }
  },
  "nbformat": 4,
  "nbformat_minor": 0
}