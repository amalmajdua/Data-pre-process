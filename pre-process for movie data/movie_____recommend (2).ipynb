{
 "cells": [
  {
   "cell_type": "markdown",
   "id": "a253f2c1",
   "metadata": {
    "id": "a253f2c1"
   },
   "source": [
    "# import libraries"
   ]
  },
  {
   "cell_type": "code",
   "execution_count": 5,
   "id": "b28c771a",
   "metadata": {
    "id": "b28c771a"
   },
   "outputs": [],
   "source": [
    "import pandas as pd\n",
    "import numpy as np\n",
    "import matplotlib.pyplot as plt\n",
    "from pandas.api.types import CategoricalDtype\n",
    "from scipy import sparse\n"
   ]
  },
  {
   "cell_type": "markdown",
   "id": "d986da33",
   "metadata": {
    "id": "d986da33"
   },
   "source": [
    "\n",
    "# load the data"
   ]
  },
  {
   "cell_type": "code",
   "execution_count": 2,
   "id": "ab7937e9",
   "metadata": {
    "colab": {
     "base_uri": "https://localhost:8080/",
     "height": 424
    },
    "id": "ab7937e9",
    "outputId": "803cd401-f28f-4c37-e465-70efa66c19a3"
   },
   "outputs": [
    {
     "data": {
      "text/html": [
       "<div>\n",
       "<style scoped>\n",
       "    .dataframe tbody tr th:only-of-type {\n",
       "        vertical-align: middle;\n",
       "    }\n",
       "\n",
       "    .dataframe tbody tr th {\n",
       "        vertical-align: top;\n",
       "    }\n",
       "\n",
       "    .dataframe thead th {\n",
       "        text-align: right;\n",
       "    }\n",
       "</style>\n",
       "<table border=\"1\" class=\"dataframe\">\n",
       "  <thead>\n",
       "    <tr style=\"text-align: right;\">\n",
       "      <th></th>\n",
       "      <th>0</th>\n",
       "      <th>1</th>\n",
       "      <th>2</th>\n",
       "      <th>3</th>\n",
       "    </tr>\n",
       "  </thead>\n",
       "  <tbody>\n",
       "    <tr>\n",
       "      <th>0</th>\n",
       "      <td>196</td>\n",
       "      <td>242</td>\n",
       "      <td>3</td>\n",
       "      <td>881250949</td>\n",
       "    </tr>\n",
       "    <tr>\n",
       "      <th>1</th>\n",
       "      <td>186</td>\n",
       "      <td>302</td>\n",
       "      <td>3</td>\n",
       "      <td>891717742</td>\n",
       "    </tr>\n",
       "    <tr>\n",
       "      <th>2</th>\n",
       "      <td>22</td>\n",
       "      <td>377</td>\n",
       "      <td>1</td>\n",
       "      <td>878887116</td>\n",
       "    </tr>\n",
       "    <tr>\n",
       "      <th>3</th>\n",
       "      <td>244</td>\n",
       "      <td>51</td>\n",
       "      <td>2</td>\n",
       "      <td>880606923</td>\n",
       "    </tr>\n",
       "    <tr>\n",
       "      <th>4</th>\n",
       "      <td>166</td>\n",
       "      <td>346</td>\n",
       "      <td>1</td>\n",
       "      <td>886397596</td>\n",
       "    </tr>\n",
       "    <tr>\n",
       "      <th>...</th>\n",
       "      <td>...</td>\n",
       "      <td>...</td>\n",
       "      <td>...</td>\n",
       "      <td>...</td>\n",
       "    </tr>\n",
       "    <tr>\n",
       "      <th>99995</th>\n",
       "      <td>880</td>\n",
       "      <td>476</td>\n",
       "      <td>3</td>\n",
       "      <td>880175444</td>\n",
       "    </tr>\n",
       "    <tr>\n",
       "      <th>99996</th>\n",
       "      <td>716</td>\n",
       "      <td>204</td>\n",
       "      <td>5</td>\n",
       "      <td>879795543</td>\n",
       "    </tr>\n",
       "    <tr>\n",
       "      <th>99997</th>\n",
       "      <td>276</td>\n",
       "      <td>1090</td>\n",
       "      <td>1</td>\n",
       "      <td>874795795</td>\n",
       "    </tr>\n",
       "    <tr>\n",
       "      <th>99998</th>\n",
       "      <td>13</td>\n",
       "      <td>225</td>\n",
       "      <td>2</td>\n",
       "      <td>882399156</td>\n",
       "    </tr>\n",
       "    <tr>\n",
       "      <th>99999</th>\n",
       "      <td>12</td>\n",
       "      <td>203</td>\n",
       "      <td>3</td>\n",
       "      <td>879959583</td>\n",
       "    </tr>\n",
       "  </tbody>\n",
       "</table>\n",
       "<p>100000 rows × 4 columns</p>\n",
       "</div>"
      ],
      "text/plain": [
       "         0     1  2          3\n",
       "0      196   242  3  881250949\n",
       "1      186   302  3  891717742\n",
       "2       22   377  1  878887116\n",
       "3      244    51  2  880606923\n",
       "4      166   346  1  886397596\n",
       "...    ...   ... ..        ...\n",
       "99995  880   476  3  880175444\n",
       "99996  716   204  5  879795543\n",
       "99997  276  1090  1  874795795\n",
       "99998   13   225  2  882399156\n",
       "99999   12   203  3  879959583\n",
       "\n",
       "[100000 rows x 4 columns]"
      ]
     },
     "execution_count": 2,
     "metadata": {},
     "output_type": "execute_result"
    }
   ],
   "source": [
    "df = pd.read_csv('u.data' , sep = '\\t' , header=None)\n",
    "df"
   ]
  },
  {
   "cell_type": "markdown",
   "id": "52228031",
   "metadata": {
    "id": "52228031"
   },
   "source": [
    "# columns renaming"
   ]
  },
  {
   "cell_type": "code",
   "execution_count": 3,
   "id": "8ab721d8",
   "metadata": {
    "colab": {
     "base_uri": "https://localhost:8080/",
     "height": 424
    },
    "id": "8ab721d8",
    "outputId": "fe663953-1fe8-4c61-dceb-95679111c0e8"
   },
   "outputs": [
    {
     "data": {
      "text/html": [
       "<div>\n",
       "<style scoped>\n",
       "    .dataframe tbody tr th:only-of-type {\n",
       "        vertical-align: middle;\n",
       "    }\n",
       "\n",
       "    .dataframe tbody tr th {\n",
       "        vertical-align: top;\n",
       "    }\n",
       "\n",
       "    .dataframe thead th {\n",
       "        text-align: right;\n",
       "    }\n",
       "</style>\n",
       "<table border=\"1\" class=\"dataframe\">\n",
       "  <thead>\n",
       "    <tr style=\"text-align: right;\">\n",
       "      <th></th>\n",
       "      <th>user</th>\n",
       "      <th>movie</th>\n",
       "      <th>rating</th>\n",
       "      <th>time</th>\n",
       "    </tr>\n",
       "  </thead>\n",
       "  <tbody>\n",
       "    <tr>\n",
       "      <th>0</th>\n",
       "      <td>196</td>\n",
       "      <td>242</td>\n",
       "      <td>3</td>\n",
       "      <td>881250949</td>\n",
       "    </tr>\n",
       "    <tr>\n",
       "      <th>1</th>\n",
       "      <td>186</td>\n",
       "      <td>302</td>\n",
       "      <td>3</td>\n",
       "      <td>891717742</td>\n",
       "    </tr>\n",
       "    <tr>\n",
       "      <th>2</th>\n",
       "      <td>22</td>\n",
       "      <td>377</td>\n",
       "      <td>1</td>\n",
       "      <td>878887116</td>\n",
       "    </tr>\n",
       "    <tr>\n",
       "      <th>3</th>\n",
       "      <td>244</td>\n",
       "      <td>51</td>\n",
       "      <td>2</td>\n",
       "      <td>880606923</td>\n",
       "    </tr>\n",
       "    <tr>\n",
       "      <th>4</th>\n",
       "      <td>166</td>\n",
       "      <td>346</td>\n",
       "      <td>1</td>\n",
       "      <td>886397596</td>\n",
       "    </tr>\n",
       "    <tr>\n",
       "      <th>...</th>\n",
       "      <td>...</td>\n",
       "      <td>...</td>\n",
       "      <td>...</td>\n",
       "      <td>...</td>\n",
       "    </tr>\n",
       "    <tr>\n",
       "      <th>99995</th>\n",
       "      <td>880</td>\n",
       "      <td>476</td>\n",
       "      <td>3</td>\n",
       "      <td>880175444</td>\n",
       "    </tr>\n",
       "    <tr>\n",
       "      <th>99996</th>\n",
       "      <td>716</td>\n",
       "      <td>204</td>\n",
       "      <td>5</td>\n",
       "      <td>879795543</td>\n",
       "    </tr>\n",
       "    <tr>\n",
       "      <th>99997</th>\n",
       "      <td>276</td>\n",
       "      <td>1090</td>\n",
       "      <td>1</td>\n",
       "      <td>874795795</td>\n",
       "    </tr>\n",
       "    <tr>\n",
       "      <th>99998</th>\n",
       "      <td>13</td>\n",
       "      <td>225</td>\n",
       "      <td>2</td>\n",
       "      <td>882399156</td>\n",
       "    </tr>\n",
       "    <tr>\n",
       "      <th>99999</th>\n",
       "      <td>12</td>\n",
       "      <td>203</td>\n",
       "      <td>3</td>\n",
       "      <td>879959583</td>\n",
       "    </tr>\n",
       "  </tbody>\n",
       "</table>\n",
       "<p>100000 rows × 4 columns</p>\n",
       "</div>"
      ],
      "text/plain": [
       "       user  movie  rating       time\n",
       "0       196    242       3  881250949\n",
       "1       186    302       3  891717742\n",
       "2        22    377       1  878887116\n",
       "3       244     51       2  880606923\n",
       "4       166    346       1  886397596\n",
       "...     ...    ...     ...        ...\n",
       "99995   880    476       3  880175444\n",
       "99996   716    204       5  879795543\n",
       "99997   276   1090       1  874795795\n",
       "99998    13    225       2  882399156\n",
       "99999    12    203       3  879959583\n",
       "\n",
       "[100000 rows x 4 columns]"
      ]
     },
     "execution_count": 3,
     "metadata": {},
     "output_type": "execute_result"
    }
   ],
   "source": [
    "df = df.rename(columns={0:'user' , 1:'movie' , 2:'rating' , 3:'time'})\n",
    "df"
   ]
  },
  {
   "cell_type": "markdown",
   "id": "b340c592",
   "metadata": {},
   "source": [
    "# data visualization"
   ]
  },
  {
   "cell_type": "code",
   "execution_count": 12,
   "id": "4ae9a4de",
   "metadata": {},
   "outputs": [
    {
     "data": {
      "image/png": "[encoded data removed]",
      "text/plain": [
       "<Figure size 432x288 with 1 Axes>"
      ]
     },
     "metadata": {
      "needs_background": "light"
     },
     "output_type": "display_data"
    }
   ],
   "source": [
    "plt.hist(df['user'] , bins = 100)\n",
    "plt.show()"
   ]
  },
  {
   "cell_type": "code",
   "execution_count": 13,
   "id": "028eeaf3",
   "metadata": {},
   "outputs": [
    {
     "data": {
      "image/png": "[encoded data removed]",
      "text/plain": [
       "<Figure size 432x288 with 1 Axes>"
      ]
     },
     "metadata": {
      "needs_background": "light"
     },
     "output_type": "display_data"
    }
   ],
   "source": [
    "plt.hist(df['movie'] , bins = 100)\n",
    "plt.show()"
   ]
  },
  {
   "cell_type": "code",
   "execution_count": 29,
   "id": "1086a2c2",
   "metadata": {},
   "outputs": [
    {
     "data": {
      "image/png": "[encoded data removed]",
      "text/plain": [
       "<Figure size 432x288 with 1 Axes>"
      ]
     },
     "metadata": {
      "needs_background": "light"
     },
     "output_type": "display_data"
    }
   ],
   "source": [
    "plt.hist(df['rating'] , bins = 10)\n",
    "plt.show()"
   ]
  },
  {
   "cell_type": "code",
   "execution_count": 30,
   "id": "74879552",
   "metadata": {},
   "outputs": [
    {
     "data": {
      "text/plain": [
       "4    34174\n",
       "3    27145\n",
       "5    21201\n",
       "2    11370\n",
       "1     6110\n",
       "Name: rating, dtype: int64"
      ]
     },
     "execution_count": 30,
     "metadata": {},
     "output_type": "execute_result"
    }
   ],
   "source": [
    "df['rating'].value_counts()"
   ]
  },
  {
   "cell_type": "markdown",
   "id": "e2bf9235",
   "metadata": {
    "id": "e2bf9235"
   },
   "source": [
    "**print out the total number of unique users and movies (print the total number of movies and the total number of users – not users and movies themselves)**"
   ]
  },
  {
   "cell_type": "code",
   "execution_count": 4,
   "id": "07b4cb2d",
   "metadata": {
    "colab": {
     "base_uri": "https://localhost:8080/"
    },
    "id": "07b4cb2d",
    "outputId": "a9bbafe9-5e45-43f3-f646-28719908bea1"
   },
   "outputs": [
    {
     "name": "stdout",
     "output_type": "stream",
     "text": [
      "Total number of users is: 943\n",
      "Total number of movies is: 1682\n"
     ]
    }
   ],
   "source": [
    "print('Total number of users is: {}'.format(df['user'].nunique()))\n",
    "print('Total number of movies is: {}'.format(df['movie'].nunique()))"
   ]
  },
  {
   "cell_type": "code",
   "execution_count": 5,
   "id": "1dc5103b",
   "metadata": {
    "id": "1dc5103b"
   },
   "outputs": [],
   "source": [
    "num_users = df['user'].nunique()\n",
    "num_movies = df['movie'].nunique()\n"
   ]
  },
  {
   "cell_type": "code",
   "execution_count": 6,
   "id": "43bd6409",
   "metadata": {
    "colab": {
     "base_uri": "https://localhost:8080/"
    },
    "id": "43bd6409",
    "outputId": "17ff630a-4784-4424-85b7-93d3a51fb1c5"
   },
   "outputs": [
    {
     "data": {
      "text/plain": [
       "(943, 1682)"
      ]
     },
     "execution_count": 6,
     "metadata": {},
     "output_type": "execute_result"
    }
   ],
   "source": [
    "users = df[\"user\"].unique()\n",
    "movies = df[\"movie\"].unique()\n",
    "shape = (len(users), len(movies))\n",
    "shape"
   ]
  },
  {
   "cell_type": "markdown",
   "id": "0f351f28",
   "metadata": {
    "id": "0f351f28"
   },
   "source": [
    "**create our utility matrix (user-item matrix) and print out some of its entries. The matrix will be used to compute similarity between users and items.**"
   ]
  },
  {
   "cell_type": "code",
   "execution_count": 7,
   "id": "d57c49ce",
   "metadata": {
    "colab": {
     "base_uri": "https://localhost:8080/"
    },
    "id": "d57c49ce",
    "outputId": "1822f35a-286b-42a8-ef6e-eb876a81404b"
   },
   "outputs": [
    {
     "data": {
      "text/plain": [
       "array([[5., 3., 4., ..., 0., 0., 0.],\n",
       "       [4., 0., 0., ..., 0., 0., 0.],\n",
       "       [0., 0., 0., ..., 0., 0., 0.],\n",
       "       ...,\n",
       "       [5., 0., 0., ..., 0., 0., 0.],\n",
       "       [0., 0., 0., ..., 0., 0., 0.],\n",
       "       [0., 5., 0., ..., 0., 0., 0.]])"
      ]
     },
     "execution_count": 7,
     "metadata": {},
     "output_type": "execute_result"
    }
   ],
   "source": [
    "mat = np.zeros((num_users , num_movies))\n",
    "\n",
    "for line in df.itertuples():\n",
    "    mat[line[1]-1 , line[2]-1 ] = line[3]\n",
    "    \n",
    "mat"
   ]
  },
  {
   "cell_type": "markdown",
   "id": "7e2c7029",
   "metadata": {
    "id": "7e2c7029"
   },
   "source": [
    "**we need to save the memory. Accordingly, we have been asked to convert this giant rating matrix into a dense matrix in the form provided below**"
   ]
  },
  {
   "cell_type": "code",
   "execution_count": 8,
   "id": "90099d5d",
   "metadata": {
    "colab": {
     "base_uri": "https://localhost:8080/"
    },
    "id": "90099d5d",
    "outputId": "1c5c5c42-da70-4345-a7e0-e5977cd11ae9"
   },
   "outputs": [
    {
     "name": "stdout",
     "output_type": "stream",
     "text": [
      "  (0, 0)\t5.0\n",
      "  (0, 1)\t3.0\n",
      "  (0, 2)\t4.0\n",
      "  (0, 3)\t3.0\n",
      "  (0, 4)\t3.0\n",
      "  (0, 5)\t5.0\n",
      "  (0, 6)\t4.0\n",
      "  (0, 7)\t1.0\n",
      "  (0, 8)\t5.0\n",
      "  (0, 9)\t3.0\n",
      "  (0, 10)\t2.0\n",
      "  (0, 11)\t5.0\n",
      "  (0, 12)\t5.0\n",
      "  (0, 13)\t5.0\n",
      "  (0, 14)\t5.0\n",
      "  (0, 15)\t5.0\n",
      "  (0, 16)\t3.0\n",
      "  (0, 17)\t4.0\n",
      "  (0, 18)\t5.0\n",
      "  (0, 19)\t4.0\n",
      "  (0, 20)\t1.0\n",
      "  (0, 21)\t4.0\n",
      "  (0, 22)\t4.0\n",
      "  (0, 23)\t3.0\n",
      "  (0, 24)\t4.0\n",
      "  :\t:\n",
      "  (942, 738)\t4.0\n",
      "  (942, 755)\t2.0\n",
      "  (942, 762)\t4.0\n",
      "  (942, 764)\t3.0\n",
      "  (942, 784)\t2.0\n",
      "  (942, 793)\t3.0\n",
      "  (942, 795)\t3.0\n",
      "  (942, 807)\t4.0\n",
      "  (942, 815)\t4.0\n",
      "  (942, 823)\t4.0\n",
      "  (942, 824)\t3.0\n",
      "  (942, 830)\t2.0\n",
      "  (942, 839)\t4.0\n",
      "  (942, 927)\t5.0\n",
      "  (942, 940)\t1.0\n",
      "  (942, 942)\t5.0\n",
      "  (942, 1010)\t2.0\n",
      "  (942, 1027)\t2.0\n",
      "  (942, 1043)\t3.0\n",
      "  (942, 1046)\t2.0\n",
      "  (942, 1066)\t2.0\n",
      "  (942, 1073)\t4.0\n",
      "  (942, 1187)\t3.0\n",
      "  (942, 1227)\t3.0\n",
      "  (942, 1329)\t3.0\n"
     ]
    }
   ],
   "source": [
    "csr_2 = sparse.csr_matrix(mat)\n",
    "\n",
    "print(csr_2)"
   ]
  },
  {
   "cell_type": "code",
   "execution_count": 9,
   "id": "d0a36e9d",
   "metadata": {
    "id": "d0a36e9d"
   },
   "outputs": [],
   "source": [
    "# Create indices for users and movies\n",
    "user_cat = CategoricalDtype(categories=sorted(users), ordered=True)\n",
    "movie_cat = CategoricalDtype(categories=sorted(movies), ordered=True)\n",
    "user_index = df[\"user\"].astype(user_cat).cat.codes\n",
    "movie_index = df[\"movie\"].astype(movie_cat).cat.codes\n",
    "coo = sparse.coo_matrix((df[\"rating\"], (user_index, movie_index)), shape=shape)\n"
   ]
  },
  {
   "cell_type": "code",
   "execution_count": 10,
   "id": "3f452e8e",
   "metadata": {
    "colab": {
     "base_uri": "https://localhost:8080/"
    },
    "id": "3f452e8e",
    "outputId": "b480a2e9-c3af-4632-f91b-1b7fdb128fd9"
   },
   "outputs": [
    {
     "data": {
      "text/plain": [
       "matrix([[5, 3, 4, ..., 0, 0, 0],\n",
       "        [4, 0, 0, ..., 0, 0, 0],\n",
       "        [0, 0, 0, ..., 0, 0, 0],\n",
       "        ...,\n",
       "        [5, 0, 0, ..., 0, 0, 0],\n",
       "        [0, 0, 0, ..., 0, 0, 0],\n",
       "        [0, 5, 0, ..., 0, 0, 0]])"
      ]
     },
     "execution_count": 10,
     "metadata": {},
     "output_type": "execute_result"
    }
   ],
   "source": [
    "csr = coo.todense()\n",
    "csr"
   ]
  },
  {
   "cell_type": "code",
   "execution_count": 11,
   "id": "9LVKrhBExazP",
   "metadata": {
    "colab": {
     "base_uri": "https://localhost:8080/"
    },
    "id": "9LVKrhBExazP",
    "outputId": "17b5a94c-9fa2-46c3-9b38-3733a5dec999"
   },
   "outputs": [
    {
     "name": "stdout",
     "output_type": "stream",
     "text": [
      "  (0, 0)\t5\n",
      "  (0, 1)\t3\n",
      "  (0, 2)\t4\n",
      "  (0, 3)\t3\n",
      "  (0, 4)\t3\n",
      "  (0, 5)\t5\n",
      "  (0, 6)\t4\n",
      "  (0, 7)\t1\n",
      "  (0, 8)\t5\n",
      "  (0, 9)\t3\n",
      "  (0, 10)\t2\n",
      "  (0, 11)\t5\n",
      "  (0, 12)\t5\n",
      "  (0, 13)\t5\n",
      "  (0, 14)\t5\n",
      "  (0, 15)\t5\n",
      "  (0, 16)\t3\n",
      "  (0, 17)\t4\n",
      "  (0, 18)\t5\n",
      "  (0, 19)\t4\n",
      "  (0, 20)\t1\n",
      "  (0, 21)\t4\n",
      "  (0, 22)\t4\n",
      "  (0, 23)\t3\n",
      "  (0, 24)\t4\n",
      "  :\t:\n",
      "  (942, 738)\t4\n",
      "  (942, 755)\t2\n",
      "  (942, 762)\t4\n",
      "  (942, 764)\t3\n",
      "  (942, 784)\t2\n",
      "  (942, 793)\t3\n",
      "  (942, 795)\t3\n",
      "  (942, 807)\t4\n",
      "  (942, 815)\t4\n",
      "  (942, 823)\t4\n",
      "  (942, 824)\t3\n",
      "  (942, 830)\t2\n",
      "  (942, 839)\t4\n",
      "  (942, 927)\t5\n",
      "  (942, 940)\t1\n",
      "  (942, 942)\t5\n",
      "  (942, 1010)\t2\n",
      "  (942, 1027)\t2\n",
      "  (942, 1043)\t3\n",
      "  (942, 1046)\t2\n",
      "  (942, 1066)\t2\n",
      "  (942, 1073)\t4\n",
      "  (942, 1187)\t3\n",
      "  (942, 1227)\t3\n",
      "  (942, 1329)\t3\n"
     ]
    }
   ],
   "source": [
    "# Conversion via COO matrix\n",
    "csr_dense = sparse.csr_matrix(csr)\n",
    "print(csr_dense)"
   ]
  },
  {
   "cell_type": "code",
   "execution_count": 12,
   "id": "7c96af14",
   "metadata": {
    "id": "7c96af14"
   },
   "outputs": [],
   "source": [
    "# def load_data_ml100k(data, num_users, num_items, feedback='explicit'):\n",
    "#     users, items, scores = [], [], []\n",
    "#     inter = np.zeros((num_items, num_users)) if feedback == 'explicit' else {}\n",
    "#     for line in data.itertuples():\n",
    "#         user_index, item_index = int(line[1] - 1), int(line[2] - 1)\n",
    "#         score = int(line[3]) if feedback == 'explicit' else 1\n",
    "#         users.append(user_index)\n",
    "#         items.append(item_index)\n",
    "#         scores.append(score)\n",
    "#         if feedback == 'implicit':\n",
    "#             inter.setdefault(user_index, []).append(item_index)\n",
    "#         else:\n",
    "#             inter[item_index, user_index] = score\n",
    "#     return users, items, scores, inter"
   ]
  },
  {
   "cell_type": "code",
   "execution_count": 13,
   "id": "fcb9f436",
   "metadata": {
    "id": "fcb9f436"
   },
   "outputs": [],
   "source": [
    "# users, items, scores, inter = load_data_ml100k(df , num_users , num_movies )"
   ]
  },
  {
   "cell_type": "code",
   "execution_count": 14,
   "id": "7b2d8b44",
   "metadata": {
    "id": "7b2d8b44"
   },
   "outputs": [],
   "source": [
    "# inter"
   ]
  },
  {
   "cell_type": "markdown",
   "id": "491338da",
   "metadata": {
    "id": "491338da"
   },
   "source": [
    "**compute similarity between movies using cosine similarity**"
   ]
  },
  {
   "cell_type": "code",
   "execution_count": 15,
   "id": "46c5122e",
   "metadata": {
    "colab": {
     "base_uri": "https://localhost:8080/"
    },
    "id": "46c5122e",
    "outputId": "a13701a5-145f-483f-9b7b-7444ea3713b4"
   },
   "outputs": [
    {
     "data": {
      "text/plain": [
       "NearestNeighbors(algorithm='brute', metric='cosine', n_jobs=-1, n_neighbors=3)"
      ]
     },
     "execution_count": 15,
     "metadata": {},
     "output_type": "execute_result"
    }
   ],
   "source": [
    "from sklearn.neighbors import NearestNeighbors\n",
    "knn = NearestNeighbors(metric='cosine', algorithm='brute' , n_neighbors=3, n_jobs=-1)\n",
    "knn.fit(csr_dense)\n",
    "# distances, indices = knn.kneighbors(csr_2.T, n_neighbors=3)"
   ]
  },
  {
   "cell_type": "markdown",
   "id": "f9183eca",
   "metadata": {
    "id": "f9183eca"
   },
   "source": [
    "**print out the 20 movies being liked by the specified user**"
   ]
  },
  {
   "cell_type": "code",
   "execution_count": 16,
   "id": "Hx4LSUe5wDDh",
   "metadata": {
    "colab": {
     "base_uri": "https://localhost:8080/"
    },
    "id": "Hx4LSUe5wDDh",
    "outputId": "00c9f3e5-252e-42fe-ed6c-60e91cd1527b"
   },
   "outputs": [
    {
     "name": "stdout",
     "output_type": "stream",
     "text": [
      "The 20 movies that are liked by user 1 are: [171, 111, 242, 32, 270, 6, 221, 129, 258, 228, 44, 86, 100, 154, 9, 169, 178, 87, 16, 12]\n"
     ]
    }
   ],
   "source": [
    "user_1_data = df.loc[df['user'] == 1]\n",
    "\n",
    "user_1_sorted = user_1_data.sort_values(['rating' , 'time'] ,  ascending=False)\n",
    "\n",
    "user_1_sorted_movies = user_1_sorted['movie'].tolist()\n",
    "\n",
    "filtered = user_1_sorted_movies[0:20]\n",
    "\n",
    "print('The 20 movies that are liked by user 1 are: {}'.format(filtered))"
   ]
  },
  {
   "cell_type": "code",
   "execution_count": 17,
   "id": "OhSGNiDG0uSg",
   "metadata": {
    "colab": {
     "base_uri": "https://localhost:8080/",
     "height": 424
    },
    "id": "OhSGNiDG0uSg",
    "outputId": "166c0265-6465-4452-f297-4ec7ffd3b888"
   },
   "outputs": [
    {
     "data": {
      "text/html": [
       "\n",
       "  <div id=\"df-5a8ce9ec-569a-4153-ab23-abd1f5625c4a\">\n",
       "    <div class=\"colab-df-container\">\n",
       "      <div>\n",
       "<style scoped>\n",
       "    .dataframe tbody tr th:only-of-type {\n",
       "        vertical-align: middle;\n",
       "    }\n",
       "\n",
       "    .dataframe tbody tr th {\n",
       "        vertical-align: top;\n",
       "    }\n",
       "\n",
       "    .dataframe thead th {\n",
       "        text-align: right;\n",
       "    }\n",
       "</style>\n",
       "<table border=\"1\" class=\"dataframe\">\n",
       "  <thead>\n",
       "    <tr style=\"text-align: right;\">\n",
       "      <th></th>\n",
       "      <th>user</th>\n",
       "      <th>movie</th>\n",
       "      <th>rating</th>\n",
       "      <th>time</th>\n",
       "    </tr>\n",
       "  </thead>\n",
       "  <tbody>\n",
       "    <tr>\n",
       "      <th>687</th>\n",
       "      <td>1</td>\n",
       "      <td>171</td>\n",
       "      <td>5</td>\n",
       "      <td>889751711</td>\n",
       "    </tr>\n",
       "    <tr>\n",
       "      <th>88259</th>\n",
       "      <td>1</td>\n",
       "      <td>111</td>\n",
       "      <td>5</td>\n",
       "      <td>889751711</td>\n",
       "    </tr>\n",
       "    <tr>\n",
       "      <th>10922</th>\n",
       "      <td>1</td>\n",
       "      <td>242</td>\n",
       "      <td>5</td>\n",
       "      <td>889751633</td>\n",
       "    </tr>\n",
       "    <tr>\n",
       "      <th>25255</th>\n",
       "      <td>1</td>\n",
       "      <td>32</td>\n",
       "      <td>5</td>\n",
       "      <td>888732909</td>\n",
       "    </tr>\n",
       "    <tr>\n",
       "      <th>27216</th>\n",
       "      <td>1</td>\n",
       "      <td>270</td>\n",
       "      <td>5</td>\n",
       "      <td>888732827</td>\n",
       "    </tr>\n",
       "    <tr>\n",
       "      <th>...</th>\n",
       "      <td>...</td>\n",
       "      <td>...</td>\n",
       "      <td>...</td>\n",
       "      <td>...</td>\n",
       "    </tr>\n",
       "    <tr>\n",
       "      <th>23095</th>\n",
       "      <td>1</td>\n",
       "      <td>247</td>\n",
       "      <td>1</td>\n",
       "      <td>875241619</td>\n",
       "    </tr>\n",
       "    <tr>\n",
       "      <th>17988</th>\n",
       "      <td>1</td>\n",
       "      <td>243</td>\n",
       "      <td>1</td>\n",
       "      <td>875241390</td>\n",
       "    </tr>\n",
       "    <tr>\n",
       "      <th>7101</th>\n",
       "      <td>1</td>\n",
       "      <td>143</td>\n",
       "      <td>1</td>\n",
       "      <td>875072631</td>\n",
       "    </tr>\n",
       "    <tr>\n",
       "      <th>31650</th>\n",
       "      <td>1</td>\n",
       "      <td>8</td>\n",
       "      <td>1</td>\n",
       "      <td>875072484</td>\n",
       "    </tr>\n",
       "    <tr>\n",
       "      <th>4070</th>\n",
       "      <td>1</td>\n",
       "      <td>260</td>\n",
       "      <td>1</td>\n",
       "      <td>875071713</td>\n",
       "    </tr>\n",
       "  </tbody>\n",
       "</table>\n",
       "<p>272 rows × 4 columns</p>\n",
       "</div>\n",
       "      <button class=\"colab-df-convert\" onclick=\"convertToInteractive('df-5a8ce9ec-569a-4153-ab23-abd1f5625c4a')\"\n",
       "              title=\"Convert this dataframe to an interactive table.\"\n",
       "              style=\"display:none;\">\n",
       "        \n",
       "  <svg xmlns=\"http://www.w3.org/2000/svg\" height=\"24px\"viewBox=\"0 0 24 24\"\n",
       "       width=\"24px\">\n",
       "    <path d=\"M0 0h24v24H0V0z\" fill=\"none\"/>\n",
       "    <path d=\"M18.56 5.44l.94 2.06.94-2.06 2.06-.94-2.06-.94-.94-2.06-.94 2.06-2.06.94zm-11 1L8.5 8.5l.94-2.06 2.06-.94-2.06-.94L8.5 2.5l-.94 2.06-2.06.94zm10 10l.94 2.06.94-2.06 2.06-.94-2.06-.94-.94-2.06-.94 2.06-2.06.94z\"/><path d=\"M17.41 7.96l-1.37-1.37c-.4-.4-.92-.59-1.43-.59-.52 0-1.04.2-1.43.59L10.3 9.45l-7.72 7.72c-.78.78-.78 2.05 0 2.83L4 21.41c.39.39.9.59 1.41.59.51 0 1.02-.2 1.41-.59l7.78-7.78 2.81-2.81c.8-.78.8-2.07 0-2.86zM5.41 20L4 18.59l7.72-7.72 1.47 1.35L5.41 20z\"/>\n",
       "  </svg>\n",
       "      </button>\n",
       "      \n",
       "  <style>\n",
       "    .colab-df-container {\n",
       "      display:flex;\n",
       "      flex-wrap:wrap;\n",
       "      gap: 12px;\n",
       "    }\n",
       "\n",
       "    .colab-df-convert {\n",
       "      background-color: #E8F0FE;\n",
       "      border: none;\n",
       "      border-radius: 50%;\n",
       "      cursor: pointer;\n",
       "      display: none;\n",
       "      fill: #1967D2;\n",
       "      height: 32px;\n",
       "      padding: 0 0 0 0;\n",
       "      width: 32px;\n",
       "    }\n",
       "\n",
       "    .colab-df-convert:hover {\n",
       "      background-color: #E2EBFA;\n",
       "      box-shadow: 0px 1px 2px rgba(60, 64, 67, 0.3), 0px 1px 3px 1px rgba(60, 64, 67, 0.15);\n",
       "      fill: #174EA6;\n",
       "    }\n",
       "\n",
       "    [theme=dark] .colab-df-convert {\n",
       "      background-color: #3B4455;\n",
       "      fill: #D2E3FC;\n",
       "    }\n",
       "\n",
       "    [theme=dark] .colab-df-convert:hover {\n",
       "      background-color: #434B5C;\n",
       "      box-shadow: 0px 1px 3px 1px rgba(0, 0, 0, 0.15);\n",
       "      filter: drop-shadow(0px 1px 2px rgba(0, 0, 0, 0.3));\n",
       "      fill: #FFFFFF;\n",
       "    }\n",
       "  </style>\n",
       "\n",
       "      <script>\n",
       "        const buttonEl =\n",
       "          document.querySelector('#df-5a8ce9ec-569a-4153-ab23-abd1f5625c4a button.colab-df-convert');\n",
       "        buttonEl.style.display =\n",
       "          google.colab.kernel.accessAllowed ? 'block' : 'none';\n",
       "\n",
       "        async function convertToInteractive(key) {\n",
       "          const element = document.querySelector('#df-5a8ce9ec-569a-4153-ab23-abd1f5625c4a');\n",
       "          const dataTable =\n",
       "            await google.colab.kernel.invokeFunction('convertToInteractive',\n",
       "                                                     [key], {});\n",
       "          if (!dataTable) return;\n",
       "\n",
       "          const docLinkHtml = 'Like what you see? Visit the ' +\n",
       "            '<a target=\"_blank\" href=https://colab.research.google.com/notebooks/data_table.ipynb>data table notebook</a>'\n",
       "            + ' to learn more about interactive tables.';\n",
       "          element.innerHTML = '';\n",
       "          dataTable['output_type'] = 'display_data';\n",
       "          await google.colab.output.renderOutput(dataTable, element);\n",
       "          const docLink = document.createElement('div');\n",
       "          docLink.innerHTML = docLinkHtml;\n",
       "          element.appendChild(docLink);\n",
       "        }\n",
       "      </script>\n",
       "    </div>\n",
       "  </div>\n",
       "  "
      ],
      "text/plain": [
       "       user  movie  rating       time\n",
       "687       1    171       5  889751711\n",
       "88259     1    111       5  889751711\n",
       "10922     1    242       5  889751633\n",
       "25255     1     32       5  888732909\n",
       "27216     1    270       5  888732827\n",
       "...     ...    ...     ...        ...\n",
       "23095     1    247       1  875241619\n",
       "17988     1    243       1  875241390\n",
       "7101      1    143       1  875072631\n",
       "31650     1      8       1  875072484\n",
       "4070      1    260       1  875071713\n",
       "\n",
       "[272 rows x 4 columns]"
      ]
     },
     "execution_count": 17,
     "metadata": {},
     "output_type": "execute_result"
    }
   ],
   "source": [
    "user_1_sorted"
   ]
  },
  {
   "cell_type": "code",
   "execution_count": 18,
   "id": "xjmjo4PtwDHc",
   "metadata": {
    "colab": {
     "base_uri": "https://localhost:8080/"
    },
    "id": "xjmjo4PtwDHc",
    "outputId": "65e15073-245a-4a4b-ca5a-c3e3522dd6c5"
   },
   "outputs": [
    {
     "data": {
      "text/plain": [
       "20"
      ]
     },
     "execution_count": 18,
     "metadata": {},
     "output_type": "execute_result"
    }
   ],
   "source": [
    "len(filtered)"
   ]
  },
  {
   "cell_type": "code",
   "execution_count": 19,
   "id": "f330c672",
   "metadata": {
    "id": "f330c672"
   },
   "outputs": [],
   "source": [
    "# extracted = df.sort_values(['user' , 'time'] ,  ascending=False)\n",
    "\n",
    "# filtered = extracted[extracted['user'] == 1]['movie']\n",
    "\n",
    "# filtered = filtered.tolist()\n",
    "\n",
    "# filtered = filtered[0:20]\n",
    "# print(filtered)"
   ]
  },
  {
   "cell_type": "markdown",
   "id": "69517b43",
   "metadata": {
    "id": "69517b43"
   },
   "source": [
    "**for each movie being liked by user1 (user_id = 1), recommend 2 similar movies**"
   ]
  },
  {
   "cell_type": "code",
   "execution_count": 20,
   "id": "1d9c41b7",
   "metadata": {
    "id": "1d9c41b7"
   },
   "outputs": [],
   "source": [
    "movies = [] \n",
    "\n",
    "for i in filtered:\n",
    "    \n",
    "    distances , indices =  knn.kneighbors(csr_dense[i] , n_neighbors=4)\n",
    "    indices = np.reshape(indices , -1)\n",
    "    indices = indices[1:3]\n",
    "    movies.extend(indices)\n",
    "    \n",
    "    \n",
    "    "
   ]
  },
  {
   "cell_type": "code",
   "execution_count": 21,
   "id": "56HP5oBr3D6I",
   "metadata": {
    "colab": {
     "base_uri": "https://localhost:8080/"
    },
    "id": "56HP5oBr3D6I",
    "outputId": "5cf2231c-0775-4bb4-f82c-6a33461a9596"
   },
   "outputs": [
    {
     "data": {
      "text/plain": [
       "numpy.ndarray"
      ]
     },
     "execution_count": 21,
     "metadata": {},
     "output_type": "execute_result"
    }
   ],
   "source": [
    "type(indices)"
   ]
  },
  {
   "cell_type": "code",
   "execution_count": 22,
   "id": "5b0094d2",
   "metadata": {
    "colab": {
     "base_uri": "https://localhost:8080/"
    },
    "id": "5b0094d2",
    "outputId": "1d8e6fb0-65b1-4218-dae8-52fb54627600"
   },
   "outputs": [
    {
     "name": "stdout",
     "output_type": "stream",
     "text": [
      "Recommended movies are: [436, 311, 615, 855, 105, 614, 501, 510, 473, 536, 649, 312, 681, 108, 275, 681, 116, 424, 239, 712, 702, 100, 647, 932, 402, 937, 172, 528, 473, 5, 509, 852, 205, 919, 146, 110, 656, 539, 233, 449]\n"
     ]
    }
   ],
   "source": [
    "print('Recommended movies are: {}'.format(movies))"
   ]
  },
  {
   "cell_type": "code",
   "execution_count": 23,
   "id": "20969794",
   "metadata": {
    "colab": {
     "base_uri": "https://localhost:8080/"
    },
    "id": "20969794",
    "outputId": "9735e2f0-ceee-4829-cfbb-7c6243fba98c"
   },
   "outputs": [
    {
     "data": {
      "text/plain": [
       "40"
      ]
     },
     "execution_count": 23,
     "metadata": {},
     "output_type": "execute_result"
    }
   ],
   "source": [
    "len(movies)"
   ]
  }
 ],
 "metadata": {
  "colab": {
   "collapsed_sections": [],
   "name": "movie ____recommend.ipynb",
   "provenance": []
  },
  "kernelspec": {
   "display_name": "Python 3 (ipykernel)",
   "language": "python",
   "name": "python3"
  },
  "language_info": {
   "codemirror_mode": {
    "name": "ipython",
    "version": 3
   },
   "file_extension": ".py",
   "mimetype": "text/x-python",
   "name": "python",
   "nbconvert_exporter": "python",
   "pygments_lexer": "ipython3",
   "version": "3.9.7"
  }
 },
 "nbformat": 4,
 "nbformat_minor": 5
}
